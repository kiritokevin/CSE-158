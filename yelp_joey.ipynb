{
 "cells": [
  {
   "cell_type": "code",
   "execution_count": 1,
   "metadata": {},
   "outputs": [],
   "source": [
    "import pandas as pd\n",
    "import numpy as np\n",
    "import seaborn as sns\n",
    "from collections import defaultdict\n"
   ]
  },
  {
   "cell_type": "markdown",
   "metadata": {},
   "source": [
    "## Data preparation"
   ]
  },
  {
   "cell_type": "code",
   "execution_count": 2,
   "metadata": {},
   "outputs": [],
   "source": [
    "null = None\n",
    "def parseReview(fname, maxcount):\n",
    "    count = 0\n",
    "    for l in open(fname):\n",
    "        yield eval(l)\n",
    "        count += 1\n",
    "        if count >= maxcount:\n",
    "            break\n",
    "\n",
    "def parseData(fname):\n",
    "    for l in open(fname):\n",
    "        yield eval(l)\n",
    "            \n",
    "def parseDataFromURL(fname):\n",
    "    for l in urlopen(fname):\n",
    "        yield eval(l)"
   ]
  },
  {
   "cell_type": "code",
   "execution_count": 4,
   "metadata": {},
   "outputs": [],
   "source": [
    "business = list(parseData(\"./business.json\"))\n",
    "review = list(parseReview(\"./review.json\", 120000))\n",
    "user = list(parseData(\"./user.json\"))\n",
    "\n",
    "df_business = pd.DataFrame(business)\n",
    "df_review = pd.DataFrame(review)\n",
    "df_user = pd.DataFrame(user).drop(columns = ['elite'])"
   ]
  },
  {
   "cell_type": "code",
   "execution_count": 5,
   "metadata": {},
   "outputs": [],
   "source": [
    "merged = df_review.merge(df_business, how = 'inner', on = 'business_id')\n",
    "merged_all = merged.merge(df_user, how = 'inner', on = 'user_id')"
   ]
  },
  {
   "cell_type": "code",
   "execution_count": 42,
   "metadata": {},
   "outputs": [],
   "source": [
    "# merged_all.to_csv('all_data_merged.csv', index = False)"
   ]
  },
  {
   "cell_type": "code",
   "execution_count": null,
   "metadata": {},
   "outputs": [],
   "source": []
  },
  {
   "cell_type": "code",
   "execution_count": null,
   "metadata": {},
   "outputs": [],
   "source": []
  },
  {
   "cell_type": "markdown",
   "metadata": {},
   "source": [
    "## EDA\n",
    "- Dataset overview\n",
    "    - (Done)Count of user: 93921\n",
    "    - (Done)Count of business: 14766\n",
    "    - (Done)Count of city: 1204\n",
    "    - (Done)Count of categories: 155 (There are 1300 in total, we took those with more than 1k stores, which is 155 of them)\n",
    "- Rating over locations\n",
    "- Rating over categories \n",
    "- Popular categories by city\n",
    "- Popular words in 1-star and 5-star reviews"
   ]
  },
  {
   "cell_type": "code",
   "execution_count": 6,
   "metadata": {},
   "outputs": [
    {
     "data": {
      "text/plain": [
       "93921"
      ]
     },
     "execution_count": 6,
     "metadata": {},
     "output_type": "execute_result"
    }
   ],
   "source": [
    "# Total user count\n",
    "len(df_review['user_id'].unique())"
   ]
  },
  {
   "cell_type": "code",
   "execution_count": 7,
   "metadata": {},
   "outputs": [
    {
     "data": {
      "text/plain": [
       "14766"
      ]
     },
     "execution_count": 7,
     "metadata": {},
     "output_type": "execute_result"
    }
   ],
   "source": [
    "# Total business count \n",
    "len(df_review['business_id'].unique())"
   ]
  },
  {
   "cell_type": "code",
   "execution_count": 8,
   "metadata": {},
   "outputs": [
    {
     "data": {
      "text/plain": [
       "1204"
      ]
     },
     "execution_count": 8,
     "metadata": {},
     "output_type": "execute_result"
    }
   ],
   "source": [
    "# Total city count\n",
    "len(df_business['city'].unique())"
   ]
  },
  {
   "cell_type": "code",
   "execution_count": 9,
   "metadata": {},
   "outputs": [
    {
     "name": "stdout",
     "output_type": "stream",
     "text": [
      "Done collecting categories\n"
     ]
    }
   ],
   "source": [
    "# Handling catagories\n",
    "all_cat = {}\n",
    "def handle_cat(s):\n",
    "    if s:\n",
    "        for w in s.split(','):\n",
    "            if w.strip() in all_cat.keys():\n",
    "                all_cat[w.strip()] += 1\n",
    "            else:\n",
    "                all_cat[w.strip()] = 1\n",
    "df_business.categories.apply(handle_cat)\n",
    "\n",
    "# Finding the popular catagory that has more than 1000 business\n",
    "common_cat = []\n",
    "for key in all_cat.keys():\n",
    "    if all_cat[key] >= 1000:\n",
    "        common_cat.append(key)\n",
    "print('Done collecting categories')\n",
    "\n",
    "def classify_cat(s, catagory):\n",
    "    if s == '':\n",
    "        return 0\n",
    "    if s == None:\n",
    "        return 0\n",
    "    if catagory in s:\n",
    "        return 1\n",
    "    return 0\n",
    "    \n",
    "# Adding one hot representation of those catagories\n",
    "for catagory in common_cat:\n",
    "    df_business[catagory] = df_business.categories.apply(lambda x: classify_cat(x, catagory))"
   ]
  },
  {
   "cell_type": "code",
   "execution_count": 10,
   "metadata": {},
   "outputs": [
    {
     "data": {
      "text/plain": [
       "1300"
      ]
     },
     "execution_count": 10,
     "metadata": {},
     "output_type": "execute_result"
    }
   ],
   "source": [
    "# Total catagories\n",
    "len(all_cat)"
   ]
  },
  {
   "cell_type": "code",
   "execution_count": 11,
   "metadata": {},
   "outputs": [
    {
     "data": {
      "text/plain": [
       "155"
      ]
     },
     "execution_count": 11,
     "metadata": {},
     "output_type": "execute_result"
    }
   ],
   "source": [
    "# Common catagories (more than 1k store)\n",
    "len(common_cat)"
   ]
  },
  {
   "cell_type": "code",
   "execution_count": 12,
   "metadata": {},
   "outputs": [
    {
     "data": {
      "text/plain": [
       "state\n",
       "NJ     5.000000\n",
       "TN     5.000000\n",
       "XWY    4.500000\n",
       "XGL    4.500000\n",
       "VT     4.250000\n",
       "TX     4.166667\n",
       "CA     4.026316\n",
       "BAS    4.000000\n",
       "VA     4.000000\n",
       "XGM    3.875000\n",
       "AL     3.833333\n",
       "GA     3.750000\n",
       "AZ     3.707185\n",
       "NV     3.696423\n",
       "QC     3.635535\n",
       "WI     3.610691\n",
       "PA     3.577523\n",
       "NC     3.542187\n",
       "OH     3.505341\n",
       "SC     3.503873\n",
       "DUR    3.500000\n",
       "CON    3.500000\n",
       "CT     3.500000\n",
       "IL     3.464286\n",
       "AB     3.385359\n",
       "ON     3.356504\n",
       "NY     3.250000\n",
       "DOW    3.000000\n",
       "NE     3.000000\n",
       "AK     2.750000\n",
       "FL     2.500000\n",
       "NM     2.500000\n",
       "WA     2.333333\n",
       "AR     2.000000\n",
       "UT     2.000000\n",
       "BC     1.500000\n",
       "Name: stars, dtype: float64"
      ]
     },
     "execution_count": 12,
     "metadata": {},
     "output_type": "execute_result"
    }
   ],
   "source": [
    "df_business.groupby('state').agg(np.mean)['stars'].sort_values(ascending = False)"
   ]
  },
  {
   "cell_type": "code",
   "execution_count": 13,
   "metadata": {},
   "outputs": [],
   "source": [
    "merged = df_review.merge(df_business, how = 'inner', on = 'business_id')\n",
    "merged_all = merged.merge(df_user, how = 'inner', on = 'user_id').dropna()"
   ]
  },
  {
   "cell_type": "code",
   "execution_count": 14,
   "metadata": {},
   "outputs": [
    {
     "data": {
      "text/html": [
       "<div>\n",
       "<style scoped>\n",
       "    .dataframe tbody tr th:only-of-type {\n",
       "        vertical-align: middle;\n",
       "    }\n",
       "\n",
       "    .dataframe tbody tr th {\n",
       "        vertical-align: top;\n",
       "    }\n",
       "\n",
       "    .dataframe thead th {\n",
       "        text-align: right;\n",
       "    }\n",
       "</style>\n",
       "<table border=\"1\" class=\"dataframe\">\n",
       "  <thead>\n",
       "    <tr style=\"text-align: right;\">\n",
       "      <th></th>\n",
       "      <th>business_id</th>\n",
       "      <th>cool_x</th>\n",
       "      <th>date</th>\n",
       "      <th>funny_x</th>\n",
       "      <th>review_id</th>\n",
       "      <th>stars_x</th>\n",
       "      <th>text</th>\n",
       "      <th>useful_x</th>\n",
       "      <th>user_id</th>\n",
       "      <th>address</th>\n",
       "      <th>...</th>\n",
       "      <th>compliment_profile</th>\n",
       "      <th>compliment_writer</th>\n",
       "      <th>cool_y</th>\n",
       "      <th>fans</th>\n",
       "      <th>friends</th>\n",
       "      <th>funny_y</th>\n",
       "      <th>name_y</th>\n",
       "      <th>review_count_y</th>\n",
       "      <th>useful_y</th>\n",
       "      <th>yelping_since</th>\n",
       "    </tr>\n",
       "  </thead>\n",
       "  <tbody>\n",
       "    <tr>\n",
       "      <th>0</th>\n",
       "      <td>ujmEBvifdJM6h6RLv4wQIg</td>\n",
       "      <td>0</td>\n",
       "      <td>2013-05-07 04:34:36</td>\n",
       "      <td>1</td>\n",
       "      <td>Q1sbwvVQXV2734tPgoKj4Q</td>\n",
       "      <td>1.0</td>\n",
       "      <td>Total bill for this horrible service? Over $8G...</td>\n",
       "      <td>6</td>\n",
       "      <td>hG7b0MtEbXx5QzbzE6C_VA</td>\n",
       "      <td>3100 N Tenaya Way</td>\n",
       "      <td>...</td>\n",
       "      <td>0</td>\n",
       "      <td>0</td>\n",
       "      <td>0</td>\n",
       "      <td>0</td>\n",
       "      <td>frQs7y5qa-X1pvAM0sJe1w</td>\n",
       "      <td>4</td>\n",
       "      <td>Stefan</td>\n",
       "      <td>10</td>\n",
       "      <td>18</td>\n",
       "      <td>2008-07-10 17:24:47</td>\n",
       "    </tr>\n",
       "    <tr>\n",
       "      <th>2</th>\n",
       "      <td>ujmEBvifdJM6h6RLv4wQIg</td>\n",
       "      <td>0</td>\n",
       "      <td>2017-02-09 06:45:18</td>\n",
       "      <td>0</td>\n",
       "      <td>8Edv5pKe5lOBoN5UZTUI1w</td>\n",
       "      <td>4.0</td>\n",
       "      <td>My family has used this ER four times in the p...</td>\n",
       "      <td>0</td>\n",
       "      <td>RBXSJA372ilErzNwz0jXvQ</td>\n",
       "      <td>3100 N Tenaya Way</td>\n",
       "      <td>...</td>\n",
       "      <td>0</td>\n",
       "      <td>0</td>\n",
       "      <td>0</td>\n",
       "      <td>0</td>\n",
       "      <td>None</td>\n",
       "      <td>0</td>\n",
       "      <td>Sofia</td>\n",
       "      <td>12</td>\n",
       "      <td>0</td>\n",
       "      <td>2015-08-16 21:26:19</td>\n",
       "    </tr>\n",
       "    <tr>\n",
       "      <th>3</th>\n",
       "      <td>ujmEBvifdJM6h6RLv4wQIg</td>\n",
       "      <td>0</td>\n",
       "      <td>2018-08-14 05:25:33</td>\n",
       "      <td>0</td>\n",
       "      <td>kEs5u0cGPtiSQCLW7b0l9g</td>\n",
       "      <td>1.0</td>\n",
       "      <td>I have never been more disappointed by the car...</td>\n",
       "      <td>1</td>\n",
       "      <td>x3brMMbJrAW9PwW5A6YL5w</td>\n",
       "      <td>3100 N Tenaya Way</td>\n",
       "      <td>...</td>\n",
       "      <td>0</td>\n",
       "      <td>0</td>\n",
       "      <td>0</td>\n",
       "      <td>0</td>\n",
       "      <td>None</td>\n",
       "      <td>0</td>\n",
       "      <td>Estela</td>\n",
       "      <td>1</td>\n",
       "      <td>1</td>\n",
       "      <td>2017-12-24 05:30:24</td>\n",
       "    </tr>\n",
       "    <tr>\n",
       "      <th>4</th>\n",
       "      <td>ujmEBvifdJM6h6RLv4wQIg</td>\n",
       "      <td>0</td>\n",
       "      <td>2018-05-08 19:27:59</td>\n",
       "      <td>0</td>\n",
       "      <td>Pm6qydbW58BB0zdWCPlBmg</td>\n",
       "      <td>1.0</td>\n",
       "      <td>Went in for a broken finger, was asked if I wa...</td>\n",
       "      <td>3</td>\n",
       "      <td>Skzdl0sWhW88525a1vr59g</td>\n",
       "      <td>3100 N Tenaya Way</td>\n",
       "      <td>...</td>\n",
       "      <td>0</td>\n",
       "      <td>0</td>\n",
       "      <td>0</td>\n",
       "      <td>0</td>\n",
       "      <td>ZSgTj4G8hTc-Et1GemnwAg, dr33hGEXuoiFi7TZpTijsQ...</td>\n",
       "      <td>1</td>\n",
       "      <td>Renee</td>\n",
       "      <td>6</td>\n",
       "      <td>2</td>\n",
       "      <td>2015-06-05 03:30:26</td>\n",
       "    </tr>\n",
       "    <tr>\n",
       "      <th>5</th>\n",
       "      <td>ujmEBvifdJM6h6RLv4wQIg</td>\n",
       "      <td>0</td>\n",
       "      <td>2014-10-11 06:57:18</td>\n",
       "      <td>0</td>\n",
       "      <td>QWJVYwNxUY_Plu4Ipz33_A</td>\n",
       "      <td>5.0</td>\n",
       "      <td>My mother was at Mountain View for nearly two ...</td>\n",
       "      <td>1</td>\n",
       "      <td>3Y25VDfnQVcuc33T-U3Z6A</td>\n",
       "      <td>3100 N Tenaya Way</td>\n",
       "      <td>...</td>\n",
       "      <td>0</td>\n",
       "      <td>0</td>\n",
       "      <td>0</td>\n",
       "      <td>0</td>\n",
       "      <td>None</td>\n",
       "      <td>0</td>\n",
       "      <td>Yesenia</td>\n",
       "      <td>5</td>\n",
       "      <td>2</td>\n",
       "      <td>2014-10-11 01:53:03</td>\n",
       "    </tr>\n",
       "  </tbody>\n",
       "</table>\n",
       "<p>5 rows × 197 columns</p>\n",
       "</div>"
      ],
      "text/plain": [
       "              business_id  cool_x                 date  funny_x  \\\n",
       "0  ujmEBvifdJM6h6RLv4wQIg       0  2013-05-07 04:34:36        1   \n",
       "2  ujmEBvifdJM6h6RLv4wQIg       0  2017-02-09 06:45:18        0   \n",
       "3  ujmEBvifdJM6h6RLv4wQIg       0  2018-08-14 05:25:33        0   \n",
       "4  ujmEBvifdJM6h6RLv4wQIg       0  2018-05-08 19:27:59        0   \n",
       "5  ujmEBvifdJM6h6RLv4wQIg       0  2014-10-11 06:57:18        0   \n",
       "\n",
       "                review_id  stars_x  \\\n",
       "0  Q1sbwvVQXV2734tPgoKj4Q      1.0   \n",
       "2  8Edv5pKe5lOBoN5UZTUI1w      4.0   \n",
       "3  kEs5u0cGPtiSQCLW7b0l9g      1.0   \n",
       "4  Pm6qydbW58BB0zdWCPlBmg      1.0   \n",
       "5  QWJVYwNxUY_Plu4Ipz33_A      5.0   \n",
       "\n",
       "                                                text  useful_x  \\\n",
       "0  Total bill for this horrible service? Over $8G...         6   \n",
       "2  My family has used this ER four times in the p...         0   \n",
       "3  I have never been more disappointed by the car...         1   \n",
       "4  Went in for a broken finger, was asked if I wa...         3   \n",
       "5  My mother was at Mountain View for nearly two ...         1   \n",
       "\n",
       "                  user_id            address  ... compliment_profile  \\\n",
       "0  hG7b0MtEbXx5QzbzE6C_VA  3100 N Tenaya Way  ...                  0   \n",
       "2  RBXSJA372ilErzNwz0jXvQ  3100 N Tenaya Way  ...                  0   \n",
       "3  x3brMMbJrAW9PwW5A6YL5w  3100 N Tenaya Way  ...                  0   \n",
       "4  Skzdl0sWhW88525a1vr59g  3100 N Tenaya Way  ...                  0   \n",
       "5  3Y25VDfnQVcuc33T-U3Z6A  3100 N Tenaya Way  ...                  0   \n",
       "\n",
       "  compliment_writer cool_y fans  \\\n",
       "0                 0      0    0   \n",
       "2                 0      0    0   \n",
       "3                 0      0    0   \n",
       "4                 0      0    0   \n",
       "5                 0      0    0   \n",
       "\n",
       "                                             friends  funny_y   name_y  \\\n",
       "0                             frQs7y5qa-X1pvAM0sJe1w        4   Stefan   \n",
       "2                                               None        0    Sofia   \n",
       "3                                               None        0   Estela   \n",
       "4  ZSgTj4G8hTc-Et1GemnwAg, dr33hGEXuoiFi7TZpTijsQ...        1    Renee   \n",
       "5                                               None        0  Yesenia   \n",
       "\n",
       "  review_count_y useful_y        yelping_since  \n",
       "0             10       18  2008-07-10 17:24:47  \n",
       "2             12        0  2015-08-16 21:26:19  \n",
       "3              1        1  2017-12-24 05:30:24  \n",
       "4              6        2  2015-06-05 03:30:26  \n",
       "5              5        2  2014-10-11 01:53:03  \n",
       "\n",
       "[5 rows x 197 columns]"
      ]
     },
     "execution_count": 14,
     "metadata": {},
     "output_type": "execute_result"
    }
   ],
   "source": [
    "merged_all.head()"
   ]
  },
  {
   "cell_type": "code",
   "execution_count": 146,
   "metadata": {},
   "outputs": [],
   "source": [
    "merged_all.to_csv('all_data_merged.csv', index = False)"
   ]
  },
  {
   "cell_type": "code",
   "execution_count": 147,
   "metadata": {},
   "outputs": [
    {
     "data": {
      "text/plain": [
       "(106804, 198)"
      ]
     },
     "execution_count": 147,
     "metadata": {},
     "output_type": "execute_result"
    }
   ],
   "source": [
    "merged_all.shape"
   ]
  },
  {
   "cell_type": "code",
   "execution_count": 18,
   "metadata": {},
   "outputs": [
    {
     "data": {
      "text/plain": [
       "['business_id',\n",
       " 'cool_x',\n",
       " 'date',\n",
       " 'funny_x',\n",
       " 'review_id',\n",
       " 'stars_x',\n",
       " 'text',\n",
       " 'useful_x',\n",
       " 'user_id',\n",
       " 'address',\n",
       " 'attributes',\n",
       " 'categories',\n",
       " 'city',\n",
       " 'hours',\n",
       " 'is_open',\n",
       " 'latitude',\n",
       " 'longitude',\n",
       " 'name_x',\n",
       " 'postal_code',\n",
       " 'review_count_x',\n",
       " 'stars_y',\n",
       " 'state',\n",
       " 'Active Life',\n",
       " 'Specialty Food',\n",
       " 'Restaurants',\n",
       " 'Food',\n",
       " 'Chinese',\n",
       " 'Ethnic Food',\n",
       " 'Seafood',\n",
       " 'Sushi Bars',\n",
       " 'Japanese',\n",
       " 'Financial Services',\n",
       " 'Plumbing',\n",
       " 'Shopping',\n",
       " 'Local Services',\n",
       " 'Home Services',\n",
       " 'Home & Garden',\n",
       " 'Printing Services',\n",
       " 'Beauty & Spas',\n",
       " 'Hair Salons',\n",
       " 'Hair Stylists',\n",
       " 'Barbers',\n",
       " 'Cosmetics & Beauty Supply',\n",
       " 'Nail Salons',\n",
       " 'Day Spas',\n",
       " 'Massage',\n",
       " 'Professional Services',\n",
       " 'IT Services & Computer Repair',\n",
       " 'Breakfast & Brunch',\n",
       " 'Mexican',\n",
       " 'Fast Food',\n",
       " 'Bars',\n",
       " 'Nightlife',\n",
       " 'Pubs',\n",
       " 'Italian',\n",
       " 'Pizza',\n",
       " 'Chicken Wings',\n",
       " 'Bakeries',\n",
       " 'Fitness & Instruction',\n",
       " 'Yoga',\n",
       " 'Event Planning & Services',\n",
       " 'Trainers',\n",
       " 'Health & Medical',\n",
       " 'Physical Therapy',\n",
       " 'Gyms',\n",
       " 'Arts & Entertainment',\n",
       " 'Automotive',\n",
       " 'Car Dealers',\n",
       " 'Sandwiches',\n",
       " 'Salad',\n",
       " 'Burgers',\n",
       " \"Women's Clothing\",\n",
       " 'Accessories',\n",
       " 'Fashion',\n",
       " 'Shoe Stores',\n",
       " 'Sporting Goods',\n",
       " \"Men's Clothing\",\n",
       " 'Auto Detailing',\n",
       " 'Hotels & Travel',\n",
       " 'Body Shops',\n",
       " 'Juice Bars & Smoothies',\n",
       " 'Department Stores',\n",
       " 'Home Decor',\n",
       " 'Auto Repair',\n",
       " 'Coffee & Tea',\n",
       " 'Ice Cream & Frozen Yogurt',\n",
       " 'Real Estate',\n",
       " 'Banks & Credit Unions',\n",
       " 'American (Traditional)',\n",
       " 'American (New)',\n",
       " 'Steakhouses',\n",
       " 'Apartments',\n",
       " 'Medical Centers',\n",
       " 'Doctors',\n",
       " 'Auto Parts & Supplies',\n",
       " 'Furniture Stores',\n",
       " 'Real Estate Services',\n",
       " 'Massage Therapy',\n",
       " 'Desserts',\n",
       " 'Hotels',\n",
       " 'Dentists',\n",
       " 'Wine Bars',\n",
       " 'Music Venues',\n",
       " 'Convenience Stores',\n",
       " 'Gas Stations',\n",
       " 'Grocery',\n",
       " 'Heating & Air Conditioning\\\\/HVAC',\n",
       " 'Middle Eastern',\n",
       " 'Beer',\n",
       " 'Wine & Spirits',\n",
       " 'Lounges',\n",
       " 'Delis',\n",
       " 'Jewelry',\n",
       " 'Skin Care',\n",
       " 'Caterers',\n",
       " 'Landscaping',\n",
       " 'Contractors',\n",
       " 'General Dentistry',\n",
       " 'Cafes',\n",
       " 'Canadian (New)',\n",
       " 'Cosmetic Dentists',\n",
       " 'Tires',\n",
       " 'Medical Spas',\n",
       " 'Mediterranean',\n",
       " 'Public Services & Government',\n",
       " 'Makeup Artists',\n",
       " 'Hair Extensions',\n",
       " 'Property Management',\n",
       " 'Education',\n",
       " 'Books',\n",
       " 'Mags',\n",
       " 'Music & Video',\n",
       " 'Florists',\n",
       " 'Flowers & Gifts',\n",
       " 'Arts & Crafts',\n",
       " 'Party & Event Planning',\n",
       " 'Venues & Event Spaces',\n",
       " 'Sports Bars',\n",
       " 'Chiropractors',\n",
       " 'Vietnamese',\n",
       " 'Thai',\n",
       " 'Car Wash',\n",
       " 'Transportation',\n",
       " 'Lawyers',\n",
       " 'Eyewear & Opticians',\n",
       " 'Optometrists',\n",
       " 'Asian Fusion',\n",
       " 'Vegetarian',\n",
       " 'Performing Arts',\n",
       " 'Sewing & Alterations',\n",
       " 'Veterinarians',\n",
       " 'Pets',\n",
       " 'French',\n",
       " 'Eyelash Service',\n",
       " 'Hair Removal',\n",
       " 'Specialty Schools',\n",
       " 'Pet Sitting',\n",
       " 'Pet Groomers',\n",
       " 'Pet Services',\n",
       " 'Diners',\n",
       " 'Barbeque',\n",
       " 'Oil Change Stations',\n",
       " 'Movers',\n",
       " 'Self Storage',\n",
       " 'Local Flavor',\n",
       " 'Home Cleaning',\n",
       " 'Mobile Phones',\n",
       " 'Pet Stores',\n",
       " 'Indian',\n",
       " 'Waxing',\n",
       " 'Real Estate Agents',\n",
       " 'Electronics',\n",
       " 'Drugstores',\n",
       " 'Greek',\n",
       " 'Cocktail Bars',\n",
       " 'Dry Cleaning & Laundry',\n",
       " 'Laundry Services',\n",
       " 'average_stars',\n",
       " 'compliment_cool',\n",
       " 'compliment_cute',\n",
       " 'compliment_funny',\n",
       " 'compliment_hot',\n",
       " 'compliment_list',\n",
       " 'compliment_more',\n",
       " 'compliment_note',\n",
       " 'compliment_photos',\n",
       " 'compliment_plain',\n",
       " 'compliment_profile',\n",
       " 'compliment_writer',\n",
       " 'cool_y',\n",
       " 'fans',\n",
       " 'friends',\n",
       " 'funny_y',\n",
       " 'name_y',\n",
       " 'review_count_y',\n",
       " 'useful_y',\n",
       " 'yelping_since']"
      ]
     },
     "execution_count": 18,
     "metadata": {},
     "output_type": "execute_result"
    }
   ],
   "source": [
    "# drop open hours for prediction\n",
    "column = list(merged_all.columns)\n",
    "column"
   ]
  },
  {
   "cell_type": "code",
   "execution_count": 20,
   "metadata": {},
   "outputs": [],
   "source": [
    "merged_all_wo_hours = merged_all.drop('hours', axis=1)"
   ]
  },
  {
   "cell_type": "code",
   "execution_count": 21,
   "metadata": {},
   "outputs": [
    {
     "data": {
      "text/plain": [
       "Index(['business_id', 'cool_x', 'date', 'funny_x', 'review_id', 'stars_x',\n",
       "       'text', 'useful_x', 'user_id', 'address',\n",
       "       ...\n",
       "       'compliment_profile', 'compliment_writer', 'cool_y', 'fans', 'friends',\n",
       "       'funny_y', 'name_y', 'review_count_y', 'useful_y', 'yelping_since'],\n",
       "      dtype='object', length=196)"
      ]
     },
     "execution_count": 21,
     "metadata": {},
     "output_type": "execute_result"
    }
   ],
   "source": [
    "merged_all_wo_hours.columns"
   ]
  }
 ],
 "metadata": {
  "kernelspec": {
   "display_name": "Python 3",
   "language": "python",
   "name": "python3"
  },
  "language_info": {
   "codemirror_mode": {
    "name": "ipython",
    "version": 3
   },
   "file_extension": ".py",
   "mimetype": "text/x-python",
   "name": "python",
   "nbconvert_exporter": "python",
   "pygments_lexer": "ipython3",
   "version": "3.7.0"
  }
 },
 "nbformat": 4,
 "nbformat_minor": 2
}
