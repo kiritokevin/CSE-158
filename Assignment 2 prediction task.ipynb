{
 "cells": [
  {
   "cell_type": "markdown",
   "metadata": {},
   "source": [
    "# Read dataset"
   ]
  },
  {
   "cell_type": "code",
   "execution_count": 74,
   "metadata": {},
   "outputs": [],
   "source": [
    "# import libs\n",
    "import numpy as np\n",
    "import csv\n",
    "import matplotlib.pyplot as plt\n",
    "import scipy\n",
    "import random\n",
    "import pandas as pd\n",
    "from collections import defaultdict"
   ]
  },
  {
   "cell_type": "code",
   "execution_count": 24,
   "metadata": {},
   "outputs": [],
   "source": [
    "data = pd.read_csv('./all_data_merged.csv')"
   ]
  },
  {
   "cell_type": "code",
   "execution_count": 25,
   "metadata": {},
   "outputs": [
    {
     "data": {
      "text/plain": [
       "(106804, 198)"
      ]
     },
     "execution_count": 25,
     "metadata": {},
     "output_type": "execute_result"
    }
   ],
   "source": [
    "data.shape"
   ]
  },
  {
   "cell_type": "code",
   "execution_count": 26,
   "metadata": {},
   "outputs": [],
   "source": [
    "# cut data to 100000\n",
    "data = data[:100000]"
   ]
  },
  {
   "cell_type": "code",
   "execution_count": 27,
   "metadata": {},
   "outputs": [
    {
     "data": {
      "text/plain": [
       "(100000, 198)"
      ]
     },
     "execution_count": 27,
     "metadata": {},
     "output_type": "execute_result"
    }
   ],
   "source": [
    "data.shape"
   ]
  },
  {
   "cell_type": "code",
   "execution_count": 113,
   "metadata": {},
   "outputs": [],
   "source": [
    "# shuffle\n",
    "data.sample(frac=1)"
   ]
  },
  {
   "cell_type": "code",
   "execution_count": 114,
   "metadata": {},
   "outputs": [],
   "source": [
    "# split training and testing set:\n",
    "train = data[:70000]\n",
    "test = data[70000:]"
   ]
  },
  {
   "cell_type": "code",
   "execution_count": 115,
   "metadata": {},
   "outputs": [
    {
     "data": {
      "text/plain": [
       "(70000, 198)"
      ]
     },
     "execution_count": 115,
     "metadata": {},
     "output_type": "execute_result"
    }
   ],
   "source": [
    "train.shape"
   ]
  },
  {
   "cell_type": "code",
   "execution_count": 116,
   "metadata": {},
   "outputs": [
    {
     "data": {
      "text/plain": [
       "(30000, 198)"
      ]
     },
     "execution_count": 116,
     "metadata": {},
     "output_type": "execute_result"
    }
   ],
   "source": [
    "test.shape"
   ]
  },
  {
   "cell_type": "code",
   "execution_count": 117,
   "metadata": {},
   "outputs": [
    {
     "data": {
      "text/plain": [
       "'Q1sbwvVQXV2734tPgoKj4Q'"
      ]
     },
     "execution_count": 117,
     "metadata": {},
     "output_type": "execute_result"
    }
   ],
   "source": [
    "train.loc[0]['review_id']"
   ]
  },
  {
   "cell_type": "markdown",
   "metadata": {},
   "source": [
    "# Rating prediction: \n",
    "1. Baseline: Guessing with mean of total rating score\n",
    "2. Latent factor model: \n",
    "3. Traditional classifier with feature collection\n",
    "4. BOW & SVM based on review text\n",
    "5. TextCnn based on review text  \n",
    "Metric = MSE"
   ]
  },
  {
   "cell_type": "code",
   "execution_count": 118,
   "metadata": {},
   "outputs": [],
   "source": [
    "# libs\n",
    "from sklearn.metrics import mean_squared_error\n",
    "from sklearn.metrics import mean_absolute_error"
   ]
  },
  {
   "cell_type": "code",
   "execution_count": 248,
   "metadata": {},
   "outputs": [
    {
     "data": {
      "text/plain": [
       "30000"
      ]
     },
     "execution_count": 248,
     "metadata": {},
     "output_type": "execute_result"
    }
   ],
   "source": [
    "# Training and testing labels\n",
    "train_y = [d[1]['stars_x'] for d in train.iterrows()]\n",
    "test_y = [d[1]['stars_x'] for d in test.iterrows()]\n",
    "len(test_y)"
   ]
  },
  {
   "cell_type": "code",
   "execution_count": 249,
   "metadata": {},
   "outputs": [
    {
     "data": {
      "text/plain": [
       "[5.0, 4.0, 4.0, 3.0, 5.0]"
      ]
     },
     "execution_count": 249,
     "metadata": {},
     "output_type": "execute_result"
    }
   ],
   "source": [
    "test_y[:5]"
   ]
  },
  {
   "cell_type": "markdown",
   "metadata": {},
   "source": [
    "# Baseline: Predict with Global mean"
   ]
  },
  {
   "cell_type": "code",
   "execution_count": 121,
   "metadata": {},
   "outputs": [
    {
     "data": {
      "text/plain": [
       "['review_id',\n",
       " 'user_id',\n",
       " 'business_id',\n",
       " 'stars_x',\n",
       " 'useful_x',\n",
       " 'funny_x',\n",
       " 'cool_x',\n",
       " 'text',\n",
       " 'date',\n",
       " 'name_x',\n",
       " 'address',\n",
       " 'city',\n",
       " 'state',\n",
       " 'postal_code',\n",
       " 'latitude',\n",
       " 'longitude',\n",
       " 'stars_y',\n",
       " 'review_count_x',\n",
       " 'is_open',\n",
       " 'attributes',\n",
       " 'categories',\n",
       " 'hours',\n",
       " 'df_business',\n",
       " 'Active Life',\n",
       " 'Specialty Food',\n",
       " 'Restaurants',\n",
       " 'Food',\n",
       " 'Chinese',\n",
       " 'Ethnic Food',\n",
       " 'Seafood',\n",
       " 'Sushi Bars',\n",
       " 'Japanese',\n",
       " 'Financial Services',\n",
       " 'Plumbing',\n",
       " 'Shopping',\n",
       " 'Local Services',\n",
       " 'Home Services',\n",
       " 'Home & Garden',\n",
       " 'Printing Services',\n",
       " 'Beauty & Spas',\n",
       " 'Hair Salons',\n",
       " 'Hair Stylists',\n",
       " 'Barbers',\n",
       " 'Cosmetics & Beauty Supply',\n",
       " 'Nail Salons',\n",
       " 'Day Spas',\n",
       " 'Massage',\n",
       " 'Professional Services',\n",
       " 'IT Services & Computer Repair',\n",
       " 'Breakfast & Brunch',\n",
       " 'Mexican',\n",
       " 'Fast Food',\n",
       " 'Bars',\n",
       " 'Nightlife',\n",
       " 'Pubs',\n",
       " 'Italian',\n",
       " 'Pizza',\n",
       " 'Chicken Wings',\n",
       " 'Bakeries',\n",
       " 'Fitness & Instruction',\n",
       " 'Yoga',\n",
       " 'Event Planning & Services',\n",
       " 'Trainers',\n",
       " 'Health & Medical',\n",
       " 'Physical Therapy',\n",
       " 'Gyms',\n",
       " 'Arts & Entertainment',\n",
       " 'Automotive',\n",
       " 'Car Dealers',\n",
       " 'Sandwiches',\n",
       " 'Salad',\n",
       " 'Burgers',\n",
       " \"Women's Clothing\",\n",
       " 'Accessories',\n",
       " 'Fashion',\n",
       " 'Shoe Stores',\n",
       " 'Sporting Goods',\n",
       " \"Men's Clothing\",\n",
       " 'Auto Detailing',\n",
       " 'Hotels & Travel',\n",
       " 'Body Shops',\n",
       " 'Juice Bars & Smoothies',\n",
       " 'Department Stores',\n",
       " 'Home Decor',\n",
       " 'Auto Repair',\n",
       " 'Coffee & Tea',\n",
       " 'Ice Cream & Frozen Yogurt',\n",
       " 'Real Estate',\n",
       " 'Banks & Credit Unions',\n",
       " 'American (Traditional)',\n",
       " 'American (New)',\n",
       " 'Steakhouses',\n",
       " 'Apartments',\n",
       " 'Medical Centers',\n",
       " 'Doctors',\n",
       " 'Auto Parts & Supplies',\n",
       " 'Furniture Stores',\n",
       " 'Real Estate Services',\n",
       " 'Massage Therapy',\n",
       " 'Desserts',\n",
       " 'Hotels',\n",
       " 'Dentists',\n",
       " 'Wine Bars',\n",
       " 'Music Venues',\n",
       " 'Convenience Stores',\n",
       " 'Gas Stations',\n",
       " 'Grocery',\n",
       " 'Heating & Air Conditioning\\\\/HVAC',\n",
       " 'Middle Eastern',\n",
       " 'Beer',\n",
       " 'Wine & Spirits',\n",
       " 'Lounges',\n",
       " 'Delis',\n",
       " 'Jewelry',\n",
       " 'Skin Care',\n",
       " 'Caterers',\n",
       " 'Landscaping',\n",
       " 'Contractors',\n",
       " 'General Dentistry',\n",
       " 'Cafes',\n",
       " 'Canadian (New)',\n",
       " 'Cosmetic Dentists',\n",
       " 'Tires',\n",
       " 'Medical Spas',\n",
       " 'Mediterranean',\n",
       " 'Public Services & Government',\n",
       " 'Makeup Artists',\n",
       " 'Hair Extensions',\n",
       " 'Property Management',\n",
       " 'Education',\n",
       " 'Books',\n",
       " 'Mags',\n",
       " 'Music & Video',\n",
       " 'Florists',\n",
       " 'Flowers & Gifts',\n",
       " 'Arts & Crafts',\n",
       " 'Party & Event Planning',\n",
       " 'Venues & Event Spaces',\n",
       " 'Sports Bars',\n",
       " 'Chiropractors',\n",
       " 'Vietnamese',\n",
       " 'Thai',\n",
       " 'Car Wash',\n",
       " 'Transportation',\n",
       " 'Lawyers',\n",
       " 'Eyewear & Opticians',\n",
       " 'Optometrists',\n",
       " 'Asian Fusion',\n",
       " 'Vegetarian',\n",
       " 'Performing Arts',\n",
       " 'Sewing & Alterations',\n",
       " 'Veterinarians',\n",
       " 'Pets',\n",
       " 'French',\n",
       " 'Eyelash Service',\n",
       " 'Hair Removal',\n",
       " 'Specialty Schools',\n",
       " 'Pet Sitting',\n",
       " 'Pet Groomers',\n",
       " 'Pet Services',\n",
       " 'Diners',\n",
       " 'Barbeque',\n",
       " 'Oil Change Stations',\n",
       " 'Movers',\n",
       " 'Self Storage',\n",
       " 'Local Flavor',\n",
       " 'Home Cleaning',\n",
       " 'Mobile Phones',\n",
       " 'Pet Stores',\n",
       " 'Indian',\n",
       " 'Waxing',\n",
       " 'Real Estate Agents',\n",
       " 'Electronics',\n",
       " 'Drugstores',\n",
       " 'Greek',\n",
       " 'Cocktail Bars',\n",
       " 'Dry Cleaning & Laundry',\n",
       " 'Laundry Services',\n",
       " 'name_y',\n",
       " 'review_count_y',\n",
       " 'yelping_since',\n",
       " 'useful_y',\n",
       " 'funny_y',\n",
       " 'cool_y',\n",
       " 'friends',\n",
       " 'fans',\n",
       " 'average_stars',\n",
       " 'compliment_hot',\n",
       " 'compliment_more',\n",
       " 'compliment_profile',\n",
       " 'compliment_cute',\n",
       " 'compliment_list',\n",
       " 'compliment_note',\n",
       " 'compliment_plain',\n",
       " 'compliment_cool',\n",
       " 'compliment_funny',\n",
       " 'compliment_writer',\n",
       " 'compliment_photos']"
      ]
     },
     "execution_count": 121,
     "metadata": {},
     "output_type": "execute_result"
    }
   ],
   "source": [
    "list(data.columns)"
   ]
  },
  {
   "cell_type": "code",
   "execution_count": 122,
   "metadata": {},
   "outputs": [],
   "source": [
    "# mean of star rating in trainning set\n",
    "ratingMean = sum([d[1]['stars_x'] for d in train.iterrows()]) / len(train)"
   ]
  },
  {
   "cell_type": "code",
   "execution_count": 123,
   "metadata": {},
   "outputs": [
    {
     "data": {
      "text/plain": [
       "3.7943142857142855"
      ]
     },
     "execution_count": 123,
     "metadata": {},
     "output_type": "execute_result"
    }
   ],
   "source": [
    "ratingMean"
   ]
  },
  {
   "cell_type": "code",
   "execution_count": 124,
   "metadata": {},
   "outputs": [
    {
     "data": {
      "text/plain": [
       "30000"
      ]
     },
     "execution_count": 124,
     "metadata": {},
     "output_type": "execute_result"
    }
   ],
   "source": [
    "# predict with Mean\n",
    "prediction = [ratingMean for d in test.iterrows()]\n",
    "len(prediction)"
   ]
  },
  {
   "cell_type": "code",
   "execution_count": 125,
   "metadata": {},
   "outputs": [
    {
     "data": {
      "text/plain": [
       "1.982708801632653"
      ]
     },
     "execution_count": 125,
     "metadata": {},
     "output_type": "execute_result"
    }
   ],
   "source": [
    "# Baseline MSE\n",
    "mean_squared_error(test_y, prediction)"
   ]
  },
  {
   "cell_type": "code",
   "execution_count": 126,
   "metadata": {},
   "outputs": [
    {
     "data": {
      "text/plain": [
       "1.1757524304761904"
      ]
     },
     "execution_count": 126,
     "metadata": {},
     "output_type": "execute_result"
    }
   ],
   "source": [
    "# Baseline MAE\n",
    "mean_absolute_error(test_y, prediction)"
   ]
  },
  {
   "cell_type": "code",
   "execution_count": 127,
   "metadata": {},
   "outputs": [
    {
     "data": {
      "text/plain": [
       "3.7850333333333332"
      ]
     },
     "execution_count": 127,
     "metadata": {},
     "output_type": "execute_result"
    }
   ],
   "source": [
    "# test mean\n",
    "testMean = sum([d[1]['stars_x'] for d in test.iterrows()]) / len(test)\n",
    "testMean"
   ]
  },
  {
   "cell_type": "code",
   "execution_count": 128,
   "metadata": {},
   "outputs": [
    {
     "data": {
      "text/plain": [
       "<matplotlib.legend.Legend at 0x118187828>"
      ]
     },
     "execution_count": 128,
     "metadata": {},
     "output_type": "execute_result"
    },
    {
     "data": {
      "image/png": "[encoded data removed]",
      "text/plain": [
       "<Figure size 432x288 with 1 Axes>"
      ]
     },
     "metadata": {
      "needs_background": "light"
     },
     "output_type": "display_data"
    }
   ],
   "source": [
    "plt.plot(test_y[:50], label='True Rating')\n",
    "plt.plot(prediction[:50], label='Predicted Rating')\n",
    "plt.legend()"
   ]
  },
  {
   "cell_type": "markdown",
   "metadata": {},
   "source": [
    "Baseline MSE: 1.9827   \n",
    "Baseline MAE: 1.1757  \n",
    "Seems like the average rating of test set is different from that in trainning set"
   ]
  },
  {
   "cell_type": "markdown",
   "metadata": {},
   "source": [
    "# Latent factor model:  \n",
    "Stronger Baseline in form of y_pred = alpha + gamma_u + gamma_res"
   ]
  },
  {
   "cell_type": "code",
   "execution_count": 129,
   "metadata": {},
   "outputs": [],
   "source": [
    "# u, b, star rating pairs\n",
    "ratingTrain = [(d[1]['user_id'], d[1]['business_id'], d[1]['stars_x']) for d in train.iterrows()]\n",
    "ratingTest = [(d[1]['user_id'], d[1]['business_id'], d[1]['stars_x']) for d in test.iterrows()]"
   ]
  },
  {
   "cell_type": "code",
   "execution_count": 130,
   "metadata": {},
   "outputs": [
    {
     "data": {
      "text/plain": [
       "[('5gz8szYeYntJMCBtReC8gA', 'Ws0_gbdmdFYaXHnhe-vXqQ', 4.0),\n",
       " ('ic-tyi1jElL_umxZVh8KNA', '9edPSkfXKsJmkZYIaOmA7Q', 4.0),\n",
       " ('VILrtjM6jV64r0QtvSMimg', 'PERCOYjFcIkwTaqOWz9G6w', 4.0),\n",
       " ('Gvmc0k5A7ALImXtkISOFcA', 'Y4vnA8okdRLoFOKSTWVd2g', 5.0),\n",
       " ('PuuP9Mzph7n3GsAcDr1TRQ', 'd8lmIZIqmBC9oPM8y1dc7Q', 5.0)]"
      ]
     },
     "execution_count": 130,
     "metadata": {},
     "output_type": "execute_result"
    }
   ],
   "source": [
    "ratingTrain[:5]"
   ]
  },
  {
   "cell_type": "code",
   "execution_count": 131,
   "metadata": {},
   "outputs": [],
   "source": [
    "# rating per user and rating per item (Based on Trainning set)\n",
    "ratingPerUser = defaultdict(list)\n",
    "ratingPerRes = defaultdict(list)\n",
    "for d in train.iterrows():\n",
    "    ratingPerUser[d[1]['user_id']].append((d[1]['business_id'], d[1]['stars_x']))\n",
    "    ratingPerRes[d[1]['business_id']].append((d[1]['user_id'], d[1]['stars_x']))"
   ]
  },
  {
   "cell_type": "code",
   "execution_count": 132,
   "metadata": {
    "collapsed": true
   },
   "outputs": [
    {
     "data": {
      "text/plain": [
       "defaultdict(list,\n",
       "            {'5gz8szYeYntJMCBtReC8gA': [('Ws0_gbdmdFYaXHnhe-vXqQ', 4.0)],\n",
       "             'ic-tyi1jElL_umxZVh8KNA': [('9edPSkfXKsJmkZYIaOmA7Q', 4.0),\n",
       "              ('c-6ECG_qjX09UBOI1VrZyg', 4.0),\n",
       "              ('OCmW3HWUDfO6yTsxq7Q9YQ', 5.0),\n",
       "              ('Ke8t_l6CqoskQBtESsXwkw', 4.0),\n",
       "              ('xbmxzInleHymSlaERwhMng', 1.0),\n",
       "              ('BTtw9tkW4fw41L4s_PasrA', 4.0),\n",
       "              ('NoT7u2QNEvsVbH9MIzAzlw', 5.0),\n",
       "              ('ed3DtCasPymHqJ_0EKzmKg', 4.0),\n",
       "              ('aO94Wsh2VzrgdCXu26OJEQ', 4.0)],\n",
       "             'VILrtjM6jV64r0QtvSMimg': [('PERCOYjFcIkwTaqOWz9G6w', 4.0)],\n",
       "             'Gvmc0k5A7ALImXtkISOFcA': [('Y4vnA8okdRLoFOKSTWVd2g', 5.0)],\n",
       "             'PuuP9Mzph7n3GsAcDr1TRQ': [('d8lmIZIqmBC9oPM8y1dc7Q', 5.0)],\n",
       "             'zaCd7fARVmxywzCT16Scjg': [('HhVmDybpU7L50Kb5A0jXTg', 3.0)],\n",
       "             'WsaYftS0bxNPN2csfKaYyQ': [('-jdNqqzF1Dbve04oEd4jww', 4.0),\n",
       "              ('WVAvGK24DQ9FdsEHBqIygQ', 4.0)],\n",
       "             '8IO_tmmQPvdkI5ZXuxQAcQ': [('fbfJi9uj86621DntGpIa9w', 1.0),\n",
       "              ('J_LJdgBvq5_KtnjveOeN-Q', 2.0),\n",
       "              ('arhKqyXJiPBEcmOne0B3_Q', 5.0)],\n",
       "             'I-9IS55mZaQiS2bDW9jryw': [('Xg5qEQiB-7L6kGJ5F4K3bQ', 5.0)],\n",
       "             '4s0VM3wrOdDcOTKcb2bpNQ': [('fbQaKW0Lte0JQ_opbnjdKg', 5.0),\n",
       "              ('CTJnbFKMq7Nv7xnLmjgOyg', 5.0)],\n",
       "             'n5TbOFpspfiZKHuk5kdqnA': [('hc78bF7jF1BY42F5yQjDDQ', 5.0),\n",
       "              ('yNPh5SO-7wr8HPpVCDPbXQ', 5.0),\n",
       "              ('SkO0Kd4_bO4VWTzCa_k8_g', 4.0)],\n",
       "             '44faC3qch9dPNOucJI4ccQ': [('_j2EtQtgLuXGRBfbM5YwZA', 3.0),\n",
       "              ('faPVqws-x-5k2CQKDNtHxw', 3.0)],\n",
       "             'PVQHt-AgIfx8xwrWtQTS-Q': [('kIrjc7PrdoSpEubQ_aszdw', 5.0),\n",
       "              ('zeOJYl5UW4D5u3Vcj6QAoA', 5.0),\n",
       "              ('_qh5RDI84nVGwZiYDvCoyw', 4.0),\n",
       "              ('fN_I3jP7RD2llubTvhXtKQ', 4.0)],\n",
       "             'p1_vE2k5fum-11SHXi_-7w': [('Px56NzP2NAUH2GktqSkSVg', 5.0)],\n",
       "             'H6lRopySbB-chtcuvun-1w': [('JqCPbQ02W0Jbxrp6X94KQA', 5.0)],\n",
       "             'M3vHHg7nYbR1uZexEbxd_Q': [('LL7EY-YARSY41n98P9509w', 4.0)],\n",
       "             'M65kamFvchHVPfz8syzyJA': [('mUGDDv2j1qIzbh1JsAoBGQ', 3.0)],\n",
       "             '38V9LFE9gbmqdxACJ98F8g': [('-R_dMb9Z1eBv_FlYZrrKbw', 1.0)],\n",
       "             'nnXljc4ENgJblSXgovNTiA': [('lYUV48sb2mdJsyd3TgYzbg', 4.0)],\n",
       "             'CnoeN9pm5JODCxK2550QhA': [('6xgcHeLad-VaoTIQewK84A', 2.0)],\n",
       "             'YNpEAeEuCi0arfYXgXWv5g': [('55y4kvV4yQTWgtQ9CK15xQ', 5.0)],\n",
       "             'QOkNZxcKuGzxRVlE5vfiJA': [('5RsyHtcKb6UZNZjGsP-MLg', 5.0),\n",
       "              ('fSb3blcWdJr2r3W4v210Ng', 4.0)],\n",
       "             'hQJl2gnR19i2sKasKF6hXQ': [('8mIrX_LrOnAqWsB5JrOojQ', 5.0)],\n",
       "             'P6TG9hkipM0SVSfFktcTmA': [('IyVdd_IqwUtzQDTxw2W9qw', 4.0)],\n",
       "             'j8VxOmxj-Xb6kFUzI_KGaw': [('fhvLEIKdL8Xw3ZKrHCPcpA', 3.0)],\n",
       "             'sl2R5RFdX1QBQX66T_IGwg': [('vhDnsz7Tzopg9WkN0shtZQ', 5.0),\n",
       "              ('yIxP32hWfZm5gyYUUh2WBA', 3.0)],\n",
       "             'V4nNUVs8X9ncc8eAJ9unvg': [('Wxxvi3LZbHNIDwJ-ZimtnA', 1.0)],\n",
       "             'AOQ0yHh-QGTX6H3bgFR16A': [('XXW_OFaYQkkGOGniujZFHg', 4.0),\n",
       "              ('7EZ4Eu7YJ1ltRCC5jXFJrQ', 3.0)],\n",
       "             'vRowKaFw7NKEixVCBLByWg': [('06vop9TL2yZrloLMtb_9sQ', 5.0),\n",
       "              ('faPVqws-x-5k2CQKDNtHxw', 4.0)],\n",
       "             'uAcWvAT1JaqRlxF3bfIwPA': [('0Oj8TeBciLm1UExKhXYMZA', 5.0)],\n",
       "             'YwknePDCAeKC_3beXHPBeQ': [('1qwkbN3wu3AGDxMTXVz2gA', 5.0),\n",
       "              ('2c9Vptks_vowLgVUMnCgjw', 5.0)],\n",
       "             'JSG_FhQyK1Psg0nDtklt7A': [('fbQaKW0Lte0JQ_opbnjdKg', 4.0),\n",
       "              ('NpFtNc51LaZr8Y5_o2wRaw', 5.0)],\n",
       "             'aHX4jtJYIdRuJip7sSKSnw': [('tWJWgm6o-FwwcxXa6G7l4Q', 5.0),\n",
       "              ('5ykOWYZ44sUvu9qxD8rPeg', 5.0),\n",
       "              ('iE71iwcSljg3xm2GB2Y9aA', 5.0)],\n",
       "             'n_zJNVFWUwyzryuFf1v9pw': [('d8lmIZIqmBC9oPM8y1dc7Q', 4.0),\n",
       "              ('QCUjHPu7OF_bqfjnehlQaQ', 3.0),\n",
       "              ('SHFlELFcEcAOJv_fTAKChQ', 4.0),\n",
       "              ('kPfhSK0kcUmOTmC5DEjaDw', 2.0),\n",
       "              ('pwnH8YOzWS_vnlcUEiLZiA', 4.0)],\n",
       "             'Sx7lQ8SNWRl1Iup9prhAPg': [('0e2oJ82g4ZfvQzIc8SE9Xw', 5.0)],\n",
       "             'mwB6MuCknEUq_DWhRwyMYA': [('_iUlt5rm-15QoLw0MEEg5A', 3.0)],\n",
       "             '2tAr715owvX0GM3yLhjd6A': [('PgpO8RswM-xOitG4PBNo1w', 5.0)],\n",
       "             'jOQuqKdk2NfdXy-o799l9w': [('-hcBecAaOJmfMi8oX6-CYA', 5.0)],\n",
       "             '4oZcSaJ0j1V9U9PZHOkgBQ': [('dUffgo9Lh_Vk9TLuFR5ywg', 5.0)],\n",
       "             '6k7d4XbO0hdLzarx2uMhgQ': [('SVGApDPNdpFlEjwRQThCxA', 4.0)],\n",
       "             'Rn0Fm5H2SxBIPskdrxWrRA': [('UABnnTaeWf60ppBEnP8Lmw', 5.0)],\n",
       "             'YQJeEVDhR5uu1WPkMlN_cg': [('EhtKeNUGGWnjsCLIhCD1jQ', 4.0)],\n",
       "             'WBmDeZG_dGUwhG1DtotLcw': [('tMYYSWyTppDcF070Hmy-kQ', 4.0)],\n",
       "             'AsyGIGXK6BihJWDtuO_YpQ': [('7EZ4Eu7YJ1ltRCC5jXFJrQ', 2.0)],\n",
       "             'y4avOR1SFUP6jq_ZKVxg7Q': [('0xyqLvtr0Zbr4G-gML-QmQ', 5.0),\n",
       "              ('EllcHdTOyvsfjPs5Md078Q', 2.0)],\n",
       "             'e_djvMlfz5x8PKTFqCjb4A': [('2_8YGZegR6uMiCJX5ORSnQ', 3.0)],\n",
       "             'zzMirMopUwCs-kNr6Z8TLA': [('qHQPvp6pZ75fB63kOKUPqg', 5.0)],\n",
       "             'MKgpFM0wvIDiBeKjr3VKJA': [('ujHiaprwCQ5ewziu0Vi9rw', 1.0)],\n",
       "             '6EPOh_07saYPm0oqaC6ZjQ': [('65GMvjjrsvyR9pxxAys7qg', 3.0)],\n",
       "             'PM6Zi5ql18PzhUocgn88wA': [('faPVqws-x-5k2CQKDNtHxw', 5.0)],\n",
       "             'g-WgsInjRR-c2TD5XuKOpQ': [('yNVcnSaMSrTmjJBMrHTy9w', 5.0)],\n",
       "             '5azyzk_f7Q0gSC4dKrt_LQ': [('e1DfwqDhYQYLKoyHmJu0hQ', 5.0)],\n",
       "             '53bZ_EsXH71L7iFs5MP9_w': [('6ANVuBMmpkXpFd5Hzkn4_Q', 3.0),\n",
       "              ('6ANVuBMmpkXpFd5Hzkn4_Q', 2.0),\n",
       "              ('f_eiOrEcMnkHB7GvQVOHkQ', 5.0)],\n",
       "             'EPwt0qp0x1_RRFTOHZfTrg': [('fknU3sWplCBn26b6HwJ1kQ', 5.0)],\n",
       "             '-f9WNpIa61KWvsVj-0Oi9w': [('f38IwbJ9mJBZQPeKulqe7g', 5.0)],\n",
       "             'nFS3GfDeOOzg-bXKuNNHsA': [('4v7dr2o5qXsHVGh9tM1KLA', 1.0)],\n",
       "             'ndvzQSRTy-TJ_mViMyIWfg': [('ewIXHLlaIfp9U3NrsgilVw', 5.0)],\n",
       "             '38CuOIKLP0_7zeBeMNJOwg': [('yNPh5SO-7wr8HPpVCDPbXQ', 5.0)],\n",
       "             'pNXsB5NVbZsBc-uE4XY1GA': [('lUG4i-s3zNFY1f6bEnTfqg', 5.0)],\n",
       "             'BnV_5c52nUrWsuogkHeeLg': [('UQVpVSu0nYFko5kat26vWw', 5.0),\n",
       "              ('n-zlESQPc59T174Mp9cMPQ', 5.0)],\n",
       "             '6UpjDkAgTbaBk-75lSEcXg': [('_oucYTswnckrgRuCzW3oVw', 5.0)],\n",
       "             'Q1RmK39Y2DQuFSU1aP96mg': [('dRhhM_kK3BwUJ8YndD61_g', 1.0)],\n",
       "             'kC4kfNQPGL0MtERXdbdv-w': [('d8lmIZIqmBC9oPM8y1dc7Q', 3.0)],\n",
       "             'HiTC7nGk8GtDqXT275L0zQ': [('2gI7dlktBQXPZiuOW-HWvw', 5.0)],\n",
       "             'sdAY_dEj-1tyCzuWP727zQ': [('50NTSGbZ3pN5643_K1IReA', 5.0)],\n",
       "             'ErEQq_cfj1ZdVEyyu-Szvg': [('iR_vhTcQbPN_aEk3HxEQ8A', 5.0)],\n",
       "             'Hd2eiFDBPThsobqXdRL6oA': [('anzCdD5eIEHwydTpXhLlUA', 5.0)],\n",
       "             'dvl2HYHqn5Md8zUUkljhBg': [('STlO2p6t7RBxXu1N9da-eQ', 3.0),\n",
       "              ('3JxKzWquEbPC3yPIfoCiLw', 4.0)],\n",
       "             'AVToDBl53ntQul_sYXhY3A': [('3e0IGa_-zqTemKLc1dbdmg', 1.0)],\n",
       "             'DYSOsZcrShjLjF46QwBI4A': [('VUtazCTIc0aoOrQprP_s-Q', 2.0)],\n",
       "             '1DvdfX0BIncyfHrcUGrEPA': [('N0apJkxIem2E8irTBRKnHw', 4.0)],\n",
       "             'SeWs1Ot7pJUsgYuLudbVHA': [('oWEFIvvt_kJCuk2V268XeQ', 4.0)],\n",
       "             'NVDfVz2sP2FawDaNw8NtSw': [('oOCJeN58MvdwLnjJfCUdyA', 5.0)],\n",
       "             'BfKQ_AwlgxBeGP9580eCkQ': [('zidkKI_N1OPxsiddTOQH_Q', 2.0),\n",
       "              ('Ee9fNkZ4Nrbyq-sMnpyoXg', 5.0),\n",
       "              ('6LCCc6NWtGzUHq5Bb4XLRA', 5.0),\n",
       "              ('ec7z7Zx6-vs-ZzgmpJfaiw', 1.0)],\n",
       "             'rdv5pPpJJzcoAwPP8EVNtw': [('pH0BLkL4cbxKzu471VZnuA', 4.0)],\n",
       "             'L8AG0BiOSMmF7IDL6L8F6Q': [('x8WI_GkeGHGJCXggDm8flg', 5.0)],\n",
       "             'K_xgsgucW54XEfAaL9Bnyg': [('Ndd8IYE_9rTrwHygA5AMwQ', 2.0)],\n",
       "             'YvqFcX5s0cHhqAFrXvNOHw': [('zyPGYeXF4XKCqNN1pjFWhg', 4.0)],\n",
       "             'ZPTCTjFu9IELxJv2DaghFg': [('GeXhu9pFWSmu4swj4l-LLg', 5.0)],\n",
       "             '-RKsh-eKWJtDqnzTLCz-1Q': [('UJb1PrUWDFfuzwUPc1pP4Q', 5.0)],\n",
       "             'rCvWDostqs4FeLHp9CJG6w': [('x5vSE0-NO_YSZtOnitLWuQ', 2.0)],\n",
       "             'CGEdPFTxR1NmZEXIslqeTA': [('ujHiaprwCQ5ewziu0Vi9rw', 1.0)],\n",
       "             'bIUwrxKG7BKZz_9l_Si0-A': [('lVfZ2AaYRYHCFenUMQna8g', 5.0)],\n",
       "             'zxjAi3HJ4VGV-4xIYgiSqA': [('G0KaActEId2wz0-fQMPKPw', 5.0)],\n",
       "             'Zeh2yF3TV9XicQN75QwoQg': [('ALwAlxItASeEs2vYAeLXHA', 5.0),\n",
       "              ('EaIho6EvTuODNHPLO98yeQ', 3.0)],\n",
       "             'xfmSGY0ewhsdnQopy2cdAQ': [('0LVDdXvdnqP5gz0B9Hu8YA', 1.0),\n",
       "              ('A6nY4SCrMuLPtlbq-EKnfA', 4.0),\n",
       "              ('iD4q0k0Gy6s-hwvlChMJYw', 2.0)],\n",
       "             'UfcvY67kqch7sNnQilti5Q': [('VQ1tEWBj60SmwGktNAW2lA', 5.0)],\n",
       "             'hwDXZ-_TqLQIU4JXTOpbXA': [('gOOfBSBZlffCkQ7dr7cpdw', 5.0)],\n",
       "             'TZyPtLmo6SX7cUwZrHNHmg': [('mETWKNqPMLyJLZv6ViCtcg', 5.0)],\n",
       "             'rXDqOtMie36VjQMLQdwHsA': [('XngwPRynytzSPJoVlawnjQ', 2.0),\n",
       "              ('fyJAqmweGm8VXnpU4CWGNw', 1.0),\n",
       "              ('f30-DOoIxvoV9btiDvKMTw', 4.0)],\n",
       "             'US4cngzcLZBPSgHVn9gq0A': [('ArQs--vHJtN7_m6hGH9EmQ', 4.0),\n",
       "              ('Zufla2T72hkJLJAZ0i4mcQ', 2.0)],\n",
       "             'XI4f-q-iNFvTkhgtb72MZQ': [('mXyLqsbe7FT1X8ZFOP8WpQ', 5.0)],\n",
       "             'VfsuriHOXymvFhum_pBzOw': [('A4aqz0pfgMX-votNbSZQDA', 3.0)],\n",
       "             'hWLQ3XzMYhUDOO3GxSh70g': [('cuI4nkcx6d1bdG--ZM4oww', 2.0)],\n",
       "             'jLOqQMlhKfvfZ0CZMD4-8g': [('PQWE8a6Opjiuzt7DaX2R6Q', 3.0),\n",
       "              ('0PMKMyfX1j7Nc4esk1RaMg', 5.0)],\n",
       "             'ssR2w4imBO3jHA-ruEZScQ': [('iIok1p4qnpGAa07xoaXRQA', 3.0)],\n",
       "             'jWNooyYAuHWUpxnZGTRpeA': [('XXW_OFaYQkkGOGniujZFHg', 4.0),\n",
       "              ('lqtlUTDv8QWSZJn1WWnz2Q', 4.0),\n",
       "              ('k5i0c8GOjBm96VUqg9cgpw', 4.0),\n",
       "              ('iRFJ-_MovIJnvFcBDfCQtw', 1.0)],\n",
       "             'FIARedHn-ahQHtqOBY9IHA': [('gxy5B_IhNpRFqobsffO0Tw', 3.0)],\n",
       "             'O1IzGIiD1qKBvwhJqNZ4sA': [('wPgp3oddFUzpGrQc__HYhg', 3.0),\n",
       "              ('mXyLqsbe7FT1X8ZFOP8WpQ', 4.0)],\n",
       "             'wtQtx_rvTkiktZ4v8t7Omg': [('75RP4HSsSJOe_e7e2e3jQQ', 5.0)],\n",
       "             'TEu03OVa52o3P0b0o_pyOQ': [('N0apJkxIem2E8irTBRKnHw', 5.0)],\n",
       "             '21HIyVoOJKI2eJfNTSoQzA': [('L9pTWWAATj7HoLaRe6ZA1Q', 5.0),\n",
       "              ('T2DvmUw_JUREb-rsDk3LBQ', 1.0)],\n",
       "             'b34yOQoUDev_l6BzDBMpUQ': [('bY8K4r_RGOm_1cspCOKdPQ', 2.0),\n",
       "              ('WZenVQNqp6UqBt-z1G-dUg', 5.0),\n",
       "              ('oD-C0IhodDOtWWOiNm2txA', 4.0),\n",
       "              ('AMN3Sgns9tB2x-b3eWk0qQ', 3.0),\n",
       "              ('KdswD0BIeY_u3anbR07nRw', 3.0),\n",
       "              ('EhtKeNUGGWnjsCLIhCD1jQ', 5.0)],\n",
       "             'zZecVGilobHzwut_Mw6PSg': [('jxl1GXU0MI6DJSbh9907sg', 5.0)],\n",
       "             'RFs7m95Iw41Q4jq9X7td_g': [('ujHiaprwCQ5ewziu0Vi9rw', 2.0)],\n",
       "             'L5Jmjqq82Xu59C6RtqL4WQ': [('FlOvCwPUrRCicfbpd1tUIQ', 3.0)],\n",
       "             'hsJLv8er94o9S_6Z9w-nHw': [('ypfFfR3-PbtoslIhohNstw', 4.0),\n",
       "              ('SYGbbZlLk81_bOlBptbS7A', 4.0)],\n",
       "             'XS-m_Tiq4KR-6vw24i8I4w': [('IZI9PtYy-zqi6cHYiQOxKw', 5.0),\n",
       "              ('qTmuW0C9XXuxWwumvn89sw', 5.0)],\n",
       "             '7yqrpYxl2cJ4_jqOIa9Z2w': [('N5nB7bt89WYvobTGIP1vPA', 4.0)],\n",
       "             'YA-caxALI4C-eCiSM97new': [('pJsJBzOeBIV9pOWMuq-vMw', 4.0),\n",
       "              ('A4kCvILTgfr_2cG0_yGNiw', 3.0)],\n",
       "             'yp7myfZBKQ5gv8yPzQqe3Q': [('Vhszq28BSjUnMkFRib3MRw', 4.0)],\n",
       "             'napy3Zcl5GM2Uz3dX7bk-Q': [('YmOWkved7K8q3eXgf4NNnA', 1.0)],\n",
       "             'BgAGgP1c2D6nbE2dX-9sBw': [('77h11eWv6HKJAgojLx8G4w', 3.0)],\n",
       "             'QklL8XZV0jefZQPPApaL2A': [('XXW_OFaYQkkGOGniujZFHg', 5.0)],\n",
       "             '_3Jmz1ImI4-e1roLYPxDAg': [('Os1n1_idfw9vv9kwULGJnQ', 4.0)],\n",
       "             'NKRgQwaKNbRXXSj2Nf9YLw': [('Wxxvi3LZbHNIDwJ-ZimtnA', 4.0)],\n",
       "             '-toLq1MyE4IClqtbfQ5ycQ': [('NDC3StqRdWu2Z7WMIBVbBg', 1.0)],\n",
       "             'MgPwulDNwr_CurjBTZxpcQ': [('g-I48SaHtdIGR5ZEoVeNFw', 5.0)],\n",
       "             'FQbVI3UyKlL-HfQGcRF8aA': [('Yik4HREOEN20V2unUCYCgA', 4.0),\n",
       "              ('TCoBE_BkDRrK0bWrh5VueQ', 4.0),\n",
       "              ('jScBTQtdAt-8RshaiBEHgw', 3.0)],\n",
       "             'dfB-XW_RwAcIKmFrZK7U1A': [('rVdadAcPeUXjcIHxoO8cGQ', 4.0),\n",
       "              ('s1NqIkLMCFX6PuTk6wt6QA', 4.0)],\n",
       "             'Qts5ohMJggknC9HCAVo2lQ': [('VVdbPZs0M6d_X5XdgyAhig', 4.0)],\n",
       "             'hSGmXNdZvZC7Kr8PudxOLg': [('tK-PQOhZo94fonbQVXaOSg', 5.0)],\n",
       "             'FgyvflZtqRF03j5bIrlnlA': [('jobP3ywRd3QNZ_GCoPG2DQ', 4.0)],\n",
       "             'YJYFsF4z-C2qODH5HnGXiw': [('3jjZftEYMzTLzlp8GKSKnQ', 5.0),\n",
       "              ('1MpaVGIL6S58X5Pvz3jWvA', 4.0),\n",
       "              ('a6zL-MOiWlcttDCjSo_jNQ', 5.0),\n",
       "              ('VkOyrR6CDfhZ7hh4yOvhiw', 3.0),\n",
       "              ('o3A4_O0eVeRippmhjv5nkg', 3.0),\n",
       "              ('RtezzamKiC6Y607SJuqQIA', 4.0)],\n",
       "             'SYx7UXlCHyZSUwHiqF1YlQ': [('XDYCIRENiT2doRZgwNJ3SA', 1.0)],\n",
       "             'xDtS2iKsJuVUVzB2YhfPsg': [('f9NumwFMBDn751xgFiRbNA', 4.0)],\n",
       "             'zRKpbA-j5JWxTGWDzXE35Q': [('HhVmDybpU7L50Kb5A0jXTg', 2.0)],\n",
       "             'stuOsV5Zvqi1AhJaAXCswA': [('1qwkbN3wu3AGDxMTXVz2gA', 1.0)],\n",
       "             'KtkTiuCW1ddm-g4uC6acXg': [('p-8PgN7S4VUUXH6y5sDV1Q', 5.0),\n",
       "              ('qx6WhZ42eDKmBchZDax4dQ', 5.0)],\n",
       "             'QRkAEesvTMkQ4bEipqtMDQ': [('NuGZD3yBVqzpY1HuzT26mQ', 2.0)],\n",
       "             'dKeYhtFgsc9E24trvx8FUQ': [('tjAeaGdxf7I4xN9M7wGJNQ', 5.0)],\n",
       "             'WJuvgxJyon4kdLcbwhtaJg': [('LtXy1VinKWfuLFslVarKRw', 4.0)],\n",
       "             'aF2zZHEw-kkN9sgNnBeNNw': [('J_RKa1eMNbjaSEqhagN3Jg', 1.0),\n",
       "              ('WlDC_QWKuEVrSMQh5CuGSA', 3.0)],\n",
       "             'ct24jU2ox_rskPXdI-lvew': [('IpY9xoA4CxEIUJdc6viqwA', 1.0)],\n",
       "             'G-zsk6YzOuiIpjLw1P--jw': [('2lcK3d4K7FU6O8wXdWzOmA', 2.0)],\n",
       "             'dsrWYr9Ndyy28DaE8hBSXg': [('6xgcHeLad-VaoTIQewK84A', 5.0)],\n",
       "             'dOKhLBBRUKEHvzRnd_4cBg': [('I_ZfddXlWIY-PIltZPVarQ', 1.0)],\n",
       "             'FIDPP65G4FxtZfqt5HwWWg': [('jItm9rWFREGUkHMJZRbbPg', 4.0)],\n",
       "             '4Itag-0UPnM-HuEk-ffCUQ': [('j8DRGteeJ6iBy918RWiEog', 5.0)],\n",
       "             'zmHmQhnJbxplsjxubUCyHw': [('g8oxQ1Ji9mr9PMjhEfaWSg', 4.0)],\n",
       "             'VtWu64Q57XyHFwW0VX_xlw': [('qFW6Tb1lpifZnbsh8yvfaA', 5.0),\n",
       "              ('qFW6Tb1lpifZnbsh8yvfaA', 5.0)],\n",
       "             'gevonDXp0nYGXYZhyzU_GA': [('Wcn3jpp0UV1zMaEBMa10cQ', 5.0),\n",
       "              ('5_5AT_uw_akxMIu_8LLhew', 2.0)],\n",
       "             'aPfi-bBeILWvE_by-oDhJw': [('2dCnTMv3Hh-fM8bOjYS4Xw', 3.0)],\n",
       "             'tJfrTG8C-cGP7jgUcvr1BQ': [('LYWbyu1EQM2o5hwHG5_Ldg', 5.0)],\n",
       "             'AHjL9W6zA4g_8rrI-zeAEQ': [('dm6sO_Y8JdKTE1ZM955yug', 5.0)],\n",
       "             'WAb5zPq711dVH7GzxZpLNw': [('O6-BlCviQBIEcGW4ll6ZsQ', 1.0)],\n",
       "             'l5vpJB7wOzISEx5tMXJ2fw': [('t61eGISz7qMOxEe7o3vwEw', 5.0),\n",
       "              ('YmOWkved7K8q3eXgf4NNnA', 4.0),\n",
       "              ('wUKzaS1MHg94RGM6z8u9mw', 5.0),\n",
       "              ('2DUdvdQE8FOxCHHp59HHzw', 5.0)],\n",
       "             'zCGoQt3VCVP0iT6WtIeHZA': [('11SBmWaUtDMCqIvncSEnYQ', 5.0)],\n",
       "             'DD5jYi0LcXctu01qwHsB5A': [('tstimHoMcYbkSC4eBA1wEg', 5.0)],\n",
       "             'UQgCajHgi9JRb8iuXRXATA': [('osSwv6CJy5hDKQdOKeyTow', 4.0)],\n",
       "             'CraD64NnSX2Zt4kCPrS6Hw': [('FvVSy2r7_zDEhZWqLgjXNQ', 5.0)],\n",
       "             '94ruG4vfSLzBDf6A-LlEJw': [('SkO0Kd4_bO4VWTzCa_k8_g', 4.0)],\n",
       "             'MgPrcnhZIjZSIGczMTzR-A': [('f30-DOoIxvoV9btiDvKMTw', 5.0)],\n",
       "             'plkIaV6g4ZtDi16JBz384A': [('NuIeYLuizjkzQz-33s0Jgg', 5.0)],\n",
       "             'M9TjYmTgHayJ22cNkyvW_g': [('geVM8YqBzb_8kXR2Z0YsCA', 2.0),\n",
       "              ('8cyyRk-cqecyB1ctnRsR1A', 4.0),\n",
       "              ('3TrY8CpsnvnTTYigx2R4yg', 5.0)],\n",
       "             'KaSajQJm_41FvCaUB0kaiQ': [('BJW6rCMoWcn8fDFhbMVyEQ', 1.0)],\n",
       "             '2MtL65B0hy5L41TFBRIdYg': [('81-wh-qHg2hvwHQBjC0Q-w', 5.0),\n",
       "              ('ZtJ6sTq7-5rL9ORUtQJHAQ', 5.0),\n",
       "              ('NBn4hgfGtNz91k3VsDZlmw', 5.0)],\n",
       "             'n2spaSaPmLc_0HregfzjHQ': [('QeEQXdto_4wFRaNKyIygRA', 4.0)],\n",
       "             'BvF6-SS3_u4T71CNrS6F0A': [('k2b3niokS_tosjah_rzCPw', 5.0)],\n",
       "             'xIM-J3IKgvHFXaCLpQhp-A': [('thlAnPN1ApoNxSnok_fcvA', 5.0)],\n",
       "             'RUqvnc5mWvj_c_DPqd5jVg': [('296PZdxSrtH08EUwCsOKMw', 5.0)],\n",
       "             'f-SQG9J2B5rB55V8dMB5IA': [('yKaIT0fnxEj0YVr1DMHvuQ', 5.0),\n",
       "              ('n2PmOO8DyCGY1Tv2NBj4yA', 4.0),\n",
       "              ('05OXAAq2RQ2NXTkwAJ1H-g', 4.0)],\n",
       "             '0iRLdBNaa9S_nU5ItiqhdQ': [('XJo_kPFlbuORqL-mE2Ny6w', 4.0)],\n",
       "             'VyiKF87J9MQTCu5aGdW7hg': [('PjEls_NCOQ0m4tJPvcTY8w', 5.0)],\n",
       "             'S0YQ47x5g8SfZe87KGvsJw': [('p-8AMN9Q0qwym-3Pdle20Q', 3.0)],\n",
       "             'zdFcdjBAX3G6c-rqrP0eXQ': [('im8sxT2V-drSvxP17qdb2A', 4.0)],\n",
       "             'ATVQoNo46nz4Ew6_6Veblw': [('ujmEBvifdJM6h6RLv4wQIg', 5.0)],\n",
       "             'xINfpRnTI52Burgraoumog': [('STPpvTd7V6qioAONogTPRQ', 5.0)],\n",
       "             'DzXMl6wpCJI3FIWVPJnf1w': [('g-I48SaHtdIGR5ZEoVeNFw', 3.0)],\n",
       "             '1zdur4wcy06oMDT3-QAq1w': [('hd5xm20tfSa70-6UqD9-bg', 5.0)],\n",
       "             'ZnIaEvJwrxlBUjimIpx2Qw': [('sMzNLdhJZGzYirIWt-fMAg', 4.0)],\n",
       "             'J_YUW5WkPmf8UCnQyoSjkA': [('8E2Uc0Mn4cn_yEY0xFv-9A', 3.0),\n",
       "              ('wUKzaS1MHg94RGM6z8u9mw', 2.0),\n",
       "              ('VdlPZg2NAu8t8GkdbPLecg', 2.0)],\n",
       "             'a--ppnBTnF1b7rJgPMN3ug': [('3IVCHZaMILY5LZMi-tpCJw', 5.0)],\n",
       "             '64uurLobwGolccU8gdtqBw': [('Wrd9LAbc8IOoAS5H6uw9sw', 1.0)],\n",
       "             '8h6hLbkMDQG4nfoLFpjHCA': [('pLBF8QrRkMicJcsjAqW7ag', 5.0)],\n",
       "             'WfsF16BDB7fKzNfwhMP8MA': [('uKKNw68mZZaa1jcyszEbyA', 4.0)],\n",
       "             '3fvKDeCHJQgl-wY5ykpNKg': [('q0tMKr-hzS4UT0RArdZfzQ', 4.0),\n",
       "              ('IE1lzZvdD9UnGeB1kXjuOQ', 4.0)],\n",
       "             'eQJA7eqn3Kor3JaPtjxovg': [('6J_aUeINWt3Sroo12rTUfw', 1.0)],\n",
       "             'JM9jODLEp8_AZeF3TwftXg': [('faPVqws-x-5k2CQKDNtHxw', 4.0),\n",
       "              ('8mIrX_LrOnAqWsB5JrOojQ', 5.0)],\n",
       "             'QeFOyrGR_xUi_U5k51-V9Q': [('ibf4xvHWD4t1DOOZhidHBg', 5.0)],\n",
       "             '7Arih-n8Ta5QFH8kcR4dqg': [('PuB-oSX_fMh0822kChScrA', 4.0)],\n",
       "             'Ht2iwCEELaepTtU_VW0g5w': [('-1VaIJza42Hjev6ukacCNg', 1.0)],\n",
       "             'SPI7O1GKZTvJhiXNFj81Eg': [('TCoBE_BkDRrK0bWrh5VueQ', 1.0),\n",
       "              ('TCoBE_BkDRrK0bWrh5VueQ', 5.0)],\n",
       "             '5IrI9nurOBYnxRGnm-5dBg': [('sQ6DZZLLJRfwUr0eDWKDDg', 5.0)],\n",
       "             'b-_LIEFxxIYA-bAEYznP2g': [('45rWYQPlQ4x5cFU0uuRKug', 1.0)],\n",
       "             '3gXn9Wh6c_bjoBWVqqpX3Q': [('lT-fvWPR-ju0-kNVQgs4Ag', 5.0),\n",
       "              ('q0tMKr-hzS4UT0RArdZfzQ', 5.0),\n",
       "              ('NoT7u2QNEvsVbH9MIzAzlw', 4.0),\n",
       "              ('Ycp3Agr7dt71TZkeKV7jng', 4.0)],\n",
       "             'VraV4Ci-oJsONsoIWCNeXA': [('coGEHGuUtnABP7KHgGlmRg', 5.0),\n",
       "              ('5FIOXmUE3qMviX9GafGH-Q', 4.0)],\n",
       "             '9W73B44Iw8WslrTNB2CdCg': [('qhagbvK-Pv4cGGghJ7gXBA', 3.0),\n",
       "              ('FnBlRWBuvJQXB3D91_VIkw', 5.0)],\n",
       "             'h5rC5YL85KFwZ4u7cyc-cA': [('I6qFvR-jVDGqDD_iVG38ng', 1.0)],\n",
       "             'Jr8x7Sc4_42bf_xiGGTEXA': [('4yIOZXIYJiQlkqW_MUtVgQ', 5.0),\n",
       "              ('e4h-sBBD70pn1RuAv_Q61w', 1.0)],\n",
       "             '_DiARIy42guR5sle_KUbNg': [('XJo_kPFlbuORqL-mE2Ny6w', 3.0),\n",
       "              ('DoWLGxBbR24_0r7mpGg__w', 2.0)],\n",
       "             'oaCl7cv19ZXOSK21Hhh9GA': [('KbhrsTQEea2RF_94YWnBdQ', 5.0),\n",
       "              ('Xx8GoYjEc0_2Ga37MHp5MA', 5.0)],\n",
       "             'XzKCZFs99FPhjEZnx3lziw': [('b1s8c1CTlHmLIlNGI9q-mQ', 1.0)],\n",
       "             'yQelw2nnzrK7Y7XbBX8Pyg': [('02BXFKzu1rgaYulNGYvi6g', 1.0),\n",
       "              ('0MCXyrNQGaqdYBcAwh3anQ', 2.0),\n",
       "              ('q9_gLvTNf11etVxbH7JY0Q', 5.0)],\n",
       "             'dOtx0WaYK95xdCMalSWwCw': [('sXCquNdRuCF7vrHwXXdFHw', 5.0)],\n",
       "             'bvHlECrPiR3ZQrFP4owATA': [('VoXUt6TIJWyIf_lihbN5xQ', 5.0)],\n",
       "             '-pww65DSJTQPWNqS9Bo7Bw': [('Zd9VJFJjfaadaJmCMFv-RQ', 5.0)],\n",
       "             'OVX_0nLVBX1RPjLRTByP3g': [('WItlLMrwWUbZhi7aSAzs2Q', 2.0)],\n",
       "             'P6WuEorlyZqpr63PULiIhw': [('mlCDsdVFuZvRGrJTfQ6amw', 5.0)],\n",
       "             'DUfglF6_z7JX5G7ve_DPqg': [('QS3QxI7u5PRdtbGgI0-UsA', 1.0)],\n",
       "             'JA9zu5XbeUQhUVqMFSbJ6w': [('qQCsLGMncJp1xWUGnOKCQA', 5.0)],\n",
       "             'WKzh-RxI1wdZX-NufaVzew': [('HhVmDybpU7L50Kb5A0jXTg', 5.0),\n",
       "              ('Qpx15FbtJpQRY113E3yuZw', 5.0)],\n",
       "             'yJT2CndTPZ00BvIOwlmbrQ': [('cs1qJvnWUg_f8g020z_3PQ', 5.0),\n",
       "              ('9u0bZOv8a91ASs-WldDhIA', 2.0)],\n",
       "             'ilAn6YqGlu_7yuKnTDXCDw': [('osSwv6CJy5hDKQdOKeyTow', 5.0)],\n",
       "             'pT1oVuesHpc0L5_DN2LMqQ': [('0DDCXrCxGW1PU1qE1vTcZA', 5.0)],\n",
       "             'cepBv2WNzoq8XcX7-_Tk9A': [('hhhHgSaSl6GLtuDoDrMUZQ', 5.0)],\n",
       "             'ZY7FsuDspS0dk8WXp9UXyw': [('hCsJv234v62MgdsUU1j8dQ', 1.0)],\n",
       "             '5Zi8kjE65A8iEBZqYSGK8A': [('9eXubYXgL7Chi4ZLuBBOKQ', 1.0)],\n",
       "             'yuNMJx7vpBb4H3QV2K9rwQ': [('zidkKI_N1OPxsiddTOQH_Q', 5.0)],\n",
       "             'WtZBaUpdn1OGAbrJOt2vyg': [('KiiokfRzFeN_njjLPCLoNg', 5.0)],\n",
       "             'PQ9JPLma_vGXk0tzCalYYA': [('H4OS3reuHtgzFMacqHXniA', 4.0)],\n",
       "             'WslM3uiho_G7tNmpfvOymQ': [('uMQaaUvdHGhTFiyOhGa93w', 5.0)],\n",
       "             'W9cD6ULrPePrZyeX7zSUCQ': [('_y6D2jXsM5S7hWHcIy2NoQ', 2.0)],\n",
       "             '3s8yuXqHQLLaC4TwhyUGkA': [('gkxmQi2cipbysXFgT_w_jA', 5.0)],\n",
       "             'tjUSuyGKVCaNzKpP5xYEQQ': [('VUtazCTIc0aoOrQprP_s-Q', 4.0)],\n",
       "             'NmDQdnKvBeVEjzwCCnIaeQ': [('EhtKeNUGGWnjsCLIhCD1jQ', 2.0)],\n",
       "             'y_4UdLKpt9nsojhndcE45g': [('VcpYP6btZ5Tb_qSLSVKHIw', 1.0),\n",
       "              ('g-I48SaHtdIGR5ZEoVeNFw', 1.0),\n",
       "              ('4yIOZXIYJiQlkqW_MUtVgQ', 5.0)],\n",
       "             '1k6Yuk4Ww0LiXknsAe5-2g': [('faPVqws-x-5k2CQKDNtHxw', 4.0),\n",
       "              ('77h11eWv6HKJAgojLx8G4w', 3.0)],\n",
       "             'A1Rus-oZK2UaIn_TZ145rA': [('fMCEs10IzoS-u7sR56MCpw', 1.0)],\n",
       "             'lRXnA5lP7b2C2Jlpy7JHEQ': [('pH0BLkL4cbxKzu471VZnuA', 5.0)],\n",
       "             'ZYfVZ3_MmbcHgTnrt40n4g': [('hcKl9pAuB6E6ndh8anbgFg', 2.0),\n",
       "              ('d6n1s7Dfz0vr5pylIkhX2Q', 2.0)],\n",
       "             'C35ZuBb9B2FPUDXJSp2VTA': [('R_M4P9XetEM-aLE7eHdthw', 1.0)],\n",
       "             'NQRySZO19Edme289X3silw': [('7eQoxWr9RzyCB9IFvqHUPA', 5.0)],\n",
       "             'B3tQ-TJ6Ca_AxKn15VAEEA': [('X5uxdU9GHoUAqo2wmbg3OQ', 5.0)],\n",
       "             'Jiw1kr7W1IbbqL1p_V7d1A': [('CrIWqmuO2uQWwl3z11K_BA', 5.0),\n",
       "              ('hz18cj0wMLa5X9GVW-Un9A', 2.0),\n",
       "              ('CrIWqmuO2uQWwl3z11K_BA', 4.0),\n",
       "              ('t952QLgrh-5l1woJ4IFgUA', 3.0),\n",
       "              ('YJ8Ehqq4Jr2_xmtRe5aXLQ', 1.0)],\n",
       "             'zaDIR7Jz1pG1X3S9LKVCqg': [('ZhLSAiRj9kANxf8m2SBfRA', 5.0),\n",
       "              ('ZhLSAiRj9kANxf8m2SBfRA', 4.0)],\n",
       "             'U5ihhqG7PI7kyE9Ob2uqog': [('gkxmQi2cipbysXFgT_w_jA', 5.0)],\n",
       "             'eR8fBtTjtFDuEwhxEYlEeg': [('OkLqpxpbvU2N2-OGDn0yiA', 5.0),\n",
       "              ('RbrZJEf8TlnP7RHaKnCtIQ', 5.0)],\n",
       "             'cEXDhIij6egxMO_IgzN-wQ': [('54WM5coZonA0izd2y04p_A', 4.0)],\n",
       "             'yBETnEBz6gPN84S0PMxPzw': [('pCWg4B0R5gauQR4SJ9VDmw', 5.0),\n",
       "              ('7eQoxWr9RzyCB9IFvqHUPA', 5.0)],\n",
       "             'qBPImDtitqc7uPX972nJFQ': [('3M66fDCmYlYkvD0QMsCLVg', 5.0)],\n",
       "             '_1TOM7pVEnCkbYB2AaKdWg': [('wNdTKpis6nxehbaZP0XwJg', 5.0),\n",
       "              ('VUbACJQR-_dVwyPYMFSodg', 4.0)],\n",
       "             'hXQHu4Isp1wZYO6A-I0zQg': [('Rcpjue3LKPyrLRgzw4kVPQ', 1.0),\n",
       "              ('shag0nCi0Mae1O5v8XoM5w', 3.0)],\n",
       "             '5jA33DD57vz1IV2l2AieAw': [('5qao1bKTbJ0-knt0gxg0Pg', 5.0)],\n",
       "             '1e4OJMr6dI-GZwRcmRiexg': [('D5aSQhj3uyX4Fj1B31EYRQ', 1.0)],\n",
       "             'HOZmX3JUhxuYe6RaEUFl6Q': [('FhIeCF6QrsLaRvAeu0oEPQ', 4.0)],\n",
       "             'UF0wCubFGVc2eKEc8K1Tuw': [('Kr2EJ05h5BXHlytYBgShGw', 2.0)],\n",
       "             'AUdIm1Rr5PMMpiELXU4aig': [('FVY75lAgzS4BKFPnZ8oHeA', 3.0)],\n",
       "             'yaCuwosWAnmy3tWuQogwJw': [('RZ97m9ufpvINZIaqjxvSqQ', 5.0)],\n",
       "             'xfES2_tIbH6UseYJvusa5Q': [('URa75T-A1QvjMUFNIPyukQ', 5.0),\n",
       "              ('44YFU284Z3KDEy25QyVoUw', 1.0)],\n",
       "             '3EbAwXEuHwSaUadY9TsHwA': [('8Zqh2jwtncA3N4fWEMTvZQ', 4.0)],\n",
       "             'yqNRBMYEIv1xmPMr4QuhhA': [('AWaxaKm_YgTkxbW8kjsmdg', 4.0)],\n",
       "             'bGWoXqaihGQLeIumjnqyoQ': [('FQ1wBQb3aNeRMThSQEV0Qg', 3.0)],\n",
       "             'kIcaWwvoGnCx_ntdPkwQEQ': [('6nKR80xEGHYf2UxAe_Cu_g', 4.0)],\n",
       "             '4d681x3sCw1Q9ySTyTYXlw': [('XuJNM9O8NNQ8KA7qMYqkyg', 1.0)],\n",
       "             'XU-JR0vGW1_O5GmNwZ0bfQ': [('bcJmbFHVAkLFqhJbUTdbyQ', 4.0),\n",
       "              ('UeEzvTGkSyaHRvWTlZ1ISA', 4.0)],\n",
       "             'IBwZJ1fc3yuCFJ1jUSFYLg': [('Wxxvi3LZbHNIDwJ-ZimtnA', 3.0)],\n",
       "             'j2fI808zUJBa_gUJw5Q2tg': [('qgHx71_UAWHRySTPMaAJqw', 4.0)],\n",
       "             '5rPnKpE_tl8GeDCFA47KkA': [('IHaPc-TUBXaw6RWP9FGyYQ', 2.0),\n",
       "              ('OIdOJaNS8M624F58XGV3PQ', 4.0)],\n",
       "             'xE9jtKwCzhWmKZH6yDnA6g': [('Erlweso-2lkPlgvPtCYPVw', 1.0)],\n",
       "             '6WKZ2Aowzhp3gtOkc8n3HQ': [('dFArFtgDj1rIahUDHU8L7Q', 1.0),\n",
       "              ('9nHpqlu7be1466wdo_t5kQ', 1.0)],\n",
       "             'W2ZKrsPty0S963kQPzUPtA': [('znWHLW1pt19HzW1VY6KfCA', 5.0)],\n",
       "             'GTmVShsycpIZGWgxmWLqAA': [('3kBa6YUwQP4A8CSt_EApIQ', 5.0)],\n",
       "             'UgYG3TgJocOM-HZ2-VE6zg': [('rdE9gg0WB7Z8kRytIMSapg', 3.0)],\n",
       "             'hFc1Gwbk6CXgmLIEKkL3TA': [('XXW_OFaYQkkGOGniujZFHg', 5.0)],\n",
       "             '8COsZIRTUp_jsDwneGYyyw': [('mpG1R1ktTI3x1twNBsGvXQ', 5.0)],\n",
       "             'pn_flI3EBNugBEYFp9okxQ': [('rmOZm59ahqMJlfGhNg0thw', 2.0),\n",
       "              ('RfRKUfYJq1aW-m2baBApxg', 4.0),\n",
       "              ('6wZdg1ursk12C3CTnF0gcg', 4.0)],\n",
       "             '3cZEJcR2HTPQD_IVsRG2Lg': [('lmjXhKMwroFgKpnjoksRBw', 3.0)],\n",
       "             'PgN-rqXVZvx9UT_eAMxtAQ': [('zra20XPGVL9P3i5hMoKjig', 5.0)],\n",
       "             '28OUBlWBMJd2O8b7fd0zuw': [('SUd3IyEN7n5OYEGyt_U5lg', 5.0)],\n",
       "             'd_8e8ghOoGkQPO6rK0hcSA': [('vT5mKKEcAxhSPj452HHspw', 5.0)],\n",
       "             'EkDSVzPqshGcCAFVipXH9A': [('uKKNw68mZZaa1jcyszEbyA', 5.0)],\n",
       "             'wTfb2nfzPIyFcYQArdPtuQ': [('uKKNw68mZZaa1jcyszEbyA', 5.0)],\n",
       "             '8P2LkzPGV4ID_fE7gJGKGg': [('Bom8MY07_YloY1R2EXrpdA', 1.0),\n",
       "              ('LrrJW6ejsVL7hADfFy87Eg', 3.0),\n",
       "              ('288uyG-jORlPnGhn3fMlfA', 4.0),\n",
       "              ('e1W5fwngUYf3kdsgxo4spg', 4.0),\n",
       "              ('HxY4jbJkUAtjVVYqxM54-A', 4.0),\n",
       "              ('cDz_5MwEZV1LIkJiIFDpoQ', 3.0),\n",
       "              ('q9_gLvTNf11etVxbH7JY0Q', 5.0),\n",
       "              ('rmASvV7pnjBuSMmLPtp6SA', 3.0)],\n",
       "             'ZlPIH7AlzBc2rDlK7Cas9A': [('Ak08F6RqjHYmVCzweBbTrQ', 4.0)],\n",
       "             '6CvJFjJQRZG64-2yPGb-_w': [('16Fplxu-OwVmTEFxQAUP4g', 5.0)],\n",
       "             'CQ3rWwA2EO31LB4YtB1j6A': [('WA0S3SRTaqPZLb-KYk9u6Q', 5.0),\n",
       "              ('QrH5iDowzV0Bs6xOoCsg9A', 5.0)],\n",
       "             'gVpU28snxfLerXzdPzVlEw': [('iVTw0miizU79B4TcT3mJnA', 4.0)],\n",
       "             'af507usy0MlNnfD0zRvLDg': [('cf0LXwdYZ_9y0BVK-un9ow', 1.0)],\n",
       "             'XCKfv2VuvkP-ihKWHiqFTQ': [('CymM3BP68hGigBK_5ap58A', 5.0)],\n",
       "             'spX1hYXpJzc9apJYaHiMJQ': [('nEQFnHydeX2A3bRRDAKqQg', 1.0)],\n",
       "             'EolNyVXs7bf1qvdsHbdQhA': [('gOOfBSBZlffCkQ7dr7cpdw', 5.0)],\n",
       "             '_VTEyUzzH92X3w-IpGaXVA': [('0wca-OLqtMV8Ebp-W2du0g', 5.0),\n",
       "              ('qXGKYRwCR9SLgLl0g_9o5g', 2.0),\n",
       "              ('CU047MuCn7u-9UGA2-xhmA', 5.0)],\n",
       "             'Z-1RtSKYQHmqEGpaphnygg': [('_j2EtQtgLuXGRBfbM5YwZA', 3.0),\n",
       "              ('j8opwJ1ZM55hI3AMHT37MA', 4.0)],\n",
       "             'LB-yBTppkvPEPVLzanNo6Q': [('UFyzcr1y2r3y-e_tNpA9VA', 3.0)],\n",
       "             'FNR1lsNrmSTb_c0wtCR-lQ': [('vzrcPqSdRY41GoO5DR5pYA', 5.0),\n",
       "              ('yNVcnSaMSrTmjJBMrHTy9w', 5.0)],\n",
       "             'xMzi--oKgvKwoRlLdqyMXg': [('0MCXyrNQGaqdYBcAwh3anQ', 4.0)],\n",
       "             'hTEKSL52x8cUUlHpUEx4lw': [('_lpqjZAseSvoDxPN-_JnzQ', 5.0)],\n",
       "             'c2_5K6VrhZosAn0K5RjAGQ': [('sBc7xW4BTuY7E4hnIHgSYg', 2.0),\n",
       "              ('fbQaKW0Lte0JQ_opbnjdKg', 4.0)],\n",
       "             'keBv05MsMFBd0Hu98vXThQ': [('puaFlVmeV5xsb9IdiqjC7w', 1.0),\n",
       "              ('7QcBmUVqnQfzBhH32QvTiA', 5.0),\n",
       "              ('g8oxQ1Ji9mr9PMjhEfaWSg', 5.0),\n",
       "              ('ddplAthoA2pGLoSqhHpVkA', 5.0),\n",
       "              ('2zSr7jNNWpA-IfD74wOlTA', 5.0),\n",
       "              ('EneqsOFGCK4KXofNHsc5aQ', 5.0),\n",
       "              ('YF4QJ_j-PM7cMZja6K1MwQ', 5.0),\n",
       "              ('Lx3p5OmxGkbaCKq7G7FfPA', 5.0)],\n",
       "             'ta3y9x2nmMJOXfB6SWT_0A': [('Hpi9raHlFm6prTSzFHTurg', 5.0)],\n",
       "             'rF3E77gzlF_4FOa5SLiC8w': [('PERCOYjFcIkwTaqOWz9G6w', 1.0),\n",
       "              ('3ETvSLwjRQ5r3Wx-40_Ivg', 5.0)],\n",
       "             'odr45NPHmrhFDOenFSjYog': [('reMD4XrJSJ-bQ185AmZL3A', 4.0)],\n",
       "             '9OyPEDQ0N6i0rWv9S-XjgQ': [('WnUttoJffplgWaQGR2J2Xw', 3.0)],\n",
       "             'RWUG6yaFi4iR3HDtuaVyOg': [('bh3ZHwscFbITrnN_KL0puQ', 1.0)],\n",
       "             'rfzxXX1zsgSh_E6G09Ka3A': [('gsftQKOI-Kj2buIUI-YV5Q', 5.0),\n",
       "              ('zPxWTy_2WOslWtKCr8B1nQ', 2.0)],\n",
       "             'vpg9ow26d0ssQ9fc5l2Log': [('Xg5qEQiB-7L6kGJ5F4K3bQ', 5.0)],\n",
       "             'x2o4DyS9DUUTD2S0vwlDCQ': [('H1gbGuzqbm8Weci0tUjwuQ', 4.0),\n",
       "              ('nRw01CNUKAANX-qIJ3dvXQ', 4.0),\n",
       "              ('SJ2-dfgQt5cOky4jWNZEPA', 3.0)],\n",
       "             'v_lsxDKlCuPWfgH9WcuGQg': [('TjvDMyJOy0eSil3kOGUxPQ', 5.0)],\n",
       "             '3tb8GAS63LUaIq3LsedTOA': [('W41b6wGEZ5YBJxyqdN1RpA', 1.0)],\n",
       "             'arvk83HzouLnXXdITrbV-A': [('uKlkVuZ5F8QoGbgVQKqH1A', 2.0)],\n",
       "             'IDVX4Is4CanREchBmpFXoA': [('nsfOIWfXpJVylXvryjEcNw', 5.0),\n",
       "              ('i60v66vwf1A13YqcIqGD_A', 4.0),\n",
       "              ('Wxxvi3LZbHNIDwJ-ZimtnA', 5.0),\n",
       "              ('ujHiaprwCQ5ewziu0Vi9rw', 5.0),\n",
       "              ('EUWBT5GDxPC95w9itZ1EHw', 4.0)],\n",
       "             'FmS_qwo7hds1dHner5vjgQ': [('MOgPF7lg25Pn0sgzOwNqmA', 4.0),\n",
       "              ('tWjfgVtTD5n01Cq9dFWGsA', 3.0)],\n",
       "             'VbG_pvqo5NyoBAfHzDfT1A': [('Lm61pehc-oyqR6DBAAQNCg', 5.0)],\n",
       "             'XgaNE8QxneHQUgS-EMYNQQ': [('yPcAdikNrXEsfbHNBQUjkQ', 5.0)],\n",
       "             'BgswmzMbYy-7DK9UZYlXEg': [('XZxJ4fG-4a3PP9VP5jvDWw', 4.0)],\n",
       "             '_hJub4jRX6irKOoVm-j3VQ': [('n5fp_q7OvqVCnV_IhAyaAQ', 1.0)],\n",
       "             'vi3GEW_ZZQ4kLzmdJX50UA': [('I4EmpNOW7zCcx7fUnQ9ixg', 4.0)],\n",
       "             'xqUn2yqxQRq5MrthbRb-7Q': [('GIPY7lBIIY8ITSfu63q-YQ', 3.0),\n",
       "              ('yufkwo_ZszA1QHJwcuyOWQ', 2.0),\n",
       "              ('2S6p5ICNswz_EdgcZk76qQ', 3.0)],\n",
       "             'ptoDQlkr6YZOJGpO5JADIw': [('Wxxvi3LZbHNIDwJ-ZimtnA', 5.0)],\n",
       "             'H3tbSSoX5FbCyKxl4Fu6gA': [('PrOaPWv4lcAFCrmpRvfJHA', 4.0),\n",
       "              ('fMhTgEHAssaJmwhA-E3RLw', 2.0)],\n",
       "             'eUwdOXlawkwUByY1frUWIw': [('dJuxA0paONof3QiMAN8d7Q', 5.0)],\n",
       "             'YL2ebEnnV66cbQ_H51Kovg': [('mYF6nEuN37HOP29e761v5g', 5.0),\n",
       "              ('mYF6nEuN37HOP29e761v5g', 5.0)],\n",
       "             'HZVI9zLQXt_hcZN3oGjFVw': [('wNdTKpis6nxehbaZP0XwJg', 4.0)],\n",
       "             'edzNp8etn4V123VPgMBi3w': [('uwpPniaFEVkK5T_PWdQZ0A', 4.0)],\n",
       "             'DpN2bzap20efCcAU2q6aMw': [('_wr01ajoTJtQEFIhqJFmJw', 1.0)],\n",
       "             'Rh6OqKamXd7klNQPwQ6u4Q': [('Sh_c-UZ8Tk_H1porVieNmA', 5.0)],\n",
       "             'i_gbQdvN135NZbSn9oMS8w': [('qG_WEgPa8MBo1dPUOkTMlw', 5.0)],\n",
       "             'FlctEBrrrOSQ9hteyhyR9Q': [('NpFtNc51LaZr8Y5_o2wRaw', 5.0)],\n",
       "             'i-EuiGPScS07NY3uPAoyrA': [('thLX_k20SPJ0KyusGTBIHw', 5.0)],\n",
       "             'ckEOv1Ieq722agbj88z2uw': [('hgQOESYp7CF4LnNI90XEiw', 4.0)],\n",
       "             'dMaBP287FwD1bqQyQeUEfw': [('qx6WhZ42eDKmBchZDax4dQ', 2.0)],\n",
       "             'xAZqAlYjJnCcluYytn-X8g': [('rdE9gg0WB7Z8kRytIMSapg', 4.0)],\n",
       "             'XjjDu1AsYon6rIHQG3jArw': [('4hG2j_ibsNblDgqei05U_g', 1.0)],\n",
       "             'z2bGRTqQtXNm683cTSZknQ': [('1Df5WnLX3DqN6ymlhqznaQ', 5.0)],\n",
       "             'RJHW8Wk-YKn7T1K2y8JZCQ': [('VUtazCTIc0aoOrQprP_s-Q', 4.0)],\n",
       "             'k2ZRBr7gbkt9mUHmeI_Ktg': [('bDgmLfAh_TWRCHEYC8hbpQ', 4.0)],\n",
       "             '8FZpglZWNnr5PkyCPGixLg': [('ZtJ6sTq7-5rL9ORUtQJHAQ', 2.0)],\n",
       "             '89iQKFqrSVMmHtbXfoP3QQ': [('svFq2-4Yv5bIXtB2EK24Ow', 5.0)],\n",
       "             'spZoUHadetAlOp1k6yg5Xw': [('EneqsOFGCK4KXofNHsc5aQ', 3.0)],\n",
       "             'QEHoYKMynY7LaAnzsVXR-w': [('HhVmDybpU7L50Kb5A0jXTg', 5.0)],\n",
       "             'rk9yeFK8QwZd1lHefWTyQg': [('8cyyRk-cqecyB1ctnRsR1A', 5.0),\n",
       "              ('8cyyRk-cqecyB1ctnRsR1A', 5.0),\n",
       "              ('8cyyRk-cqecyB1ctnRsR1A', 5.0)],\n",
       "             'KNHGJCIgvn0u9aDDQeqKFA': [('i7Gg42WCki48JPVkoV_qGg', 2.0)],\n",
       "             'IVdLENxmrvQdiNtr1p4Z_w': [('sWwCwjsd27k0Y8m1RIWZEg', 1.0)],\n",
       "             '2CMrHsjj4R4mVzmetypyFw': [('3uIXuw878fNjxZ2Li1diFg', 3.0)],\n",
       "             'A5W525mwfSlVw1ZflGWItQ': [('CMCAZVvZlP0ztWo6fhwnGg', 2.0)],\n",
       "             'Nm-6AWhr3DI3ihvzbA75qQ': [('WO1kqacT_65MYW8DTeydkQ', 5.0)],\n",
       "             '2fBjFC_32pVgGVPpZzVC-g': [('GHsWMrbRwKQJgtYyxkhSXw', 5.0)],\n",
       "             'WQGiKbfq2NFbc8jXCOnUng': [('cMHEWGbGdGy1WkThoh6oXA', 5.0)],\n",
       "             'dYr_AwHMQBbuWVOUvBB6Ow': [('U30HnYk0SVtXHf4MrKuuiw', 5.0),\n",
       "              ('iEEiRQjRct417O--f6QqZg', 1.0),\n",
       "              ('Bqp7egV-_JiRD_b-qAqtlQ', 5.0)],\n",
       "             'et1cdNeLTXcqusswOK-C7Q': [('zuwba6QEBIDZT0tJZmNhdQ', 4.0),\n",
       "              ('0gTTGuA6uEmMhLhfJi0hqA', 4.0)],\n",
       "             '-9MOrFh1va1SC9BBNlMTeQ': [('voJDewrn2yTFCBZ96eD0oQ', 1.0),\n",
       "              ('c35qzLN6ItDpVIoj2uQW4Q', 4.0)],\n",
       "             'aJcgNs1SaKepTGSxEidedw': [('fYTfTGqseS7rJk9AMt2zvw', 5.0),\n",
       "              ('fYTfTGqseS7rJk9AMt2zvw', 5.0),\n",
       "              ('EagobNqcGL5Y5LoVcyoX9A', 5.0),\n",
       "              ('RMzjD_LpED02tGGafX0RBw', 5.0)],\n",
       "             'cpy2Ws6btVpbMvZ3Ioqw6w': [('-AVRReI-nfsa0lKlehEojw', 3.0)],\n",
       "             'SNPUTnI_Yd3FE_9KnhhPfg': [('jScBTQtdAt-8RshaiBEHgw', 5.0)],\n",
       "             'nMxLPAhMkteX3HS5uRG0eg': [('aeXwUDNI4e7NRQpRpHN-Rw', 4.0)],\n",
       "             '6-7WnppVSJRZNxXQfJX_jw': [('g2-Xyv3k2jsy0aMYRfrYlw', 5.0)],\n",
       "             'ycZVie_bEpo3epk7NvsCAA': [('g8oxQ1Ji9mr9PMjhEfaWSg', 1.0)],\n",
       "             'uFppho3D1PQYDoOc-SfvBw': [('Wde8Ar4-guQU96FrNYED8g', 2.0)],\n",
       "             'OnBdgefFaGFaG0SXUuwZFA': [('Ak08F6RqjHYmVCzweBbTrQ', 1.0)],\n",
       "             'e813eGXZapmewVPBjKJBZg': [('fbQaKW0Lte0JQ_opbnjdKg', 5.0)],\n",
       "             'mHmnD5V__-T9HfSSfPFyAA': [('nW27OMU438BjZF64lj97sQ', 2.0)],\n",
       "             'fohRC25PctcWl14BiFf5kw': [('zYRBRfYuq_6x-wNKa8NqrA', 5.0)],\n",
       "             'EE2WHGHzel_7mayQt_Fzvg': [('j8DRGteeJ6iBy918RWiEog', 5.0)],\n",
       "             'aokkH6re-xD_GvFCqiRAYA': [('ujHiaprwCQ5ewziu0Vi9rw', 3.0)],\n",
       "             '3xBFFH866WoySDG7uuwBSQ': [('a-ZcynZic4jIrpf9Pp7yaQ', 2.0),\n",
       "              ('YL-u3yHX3XFIfllDJSWH_Q', 4.0),\n",
       "              ('JzB7NITHQ7gVHGVZ1ntgIQ', 3.0)],\n",
       "             'Uqe97PzejrqTfm4cH-HeAg': [('AMsfjpim5WohOzQJOtLyQg', 5.0),\n",
       "              ('j8opwJ1ZM55hI3AMHT37MA', 5.0),\n",
       "              ('Tji9vLDkMiUnFPiC9P9-SA', 5.0)],\n",
       "             'BNVJP5deXPBCdkaVFVQvLA': [('GkF0aKUFrmVQhDCfWetG3Q', 4.0)],\n",
       "             'vwuvjJDRf5aaURMdQ7LMNQ': [('pH0BLkL4cbxKzu471VZnuA', 5.0)],\n",
       "             'AjiutpAloDF1gYCPoG53kQ': [('cs0wRfzCxLNktXnh7TLVVg', 5.0),\n",
       "              ('Bm6GI7Fr1lyAPPbBSRj-4A', 5.0)],\n",
       "             'bZfXmrgHdwrMhbJ-THf8cQ': [('c9SKd0bIR6nNzXOVCbOi_A', 1.0),\n",
       "              ('c9SKd0bIR6nNzXOVCbOi_A', 2.0)],\n",
       "             'ESNJvyjgiNDVYnBKYWV_XQ': [('d4fUysUhvtOV6GNcVqC8uQ', 1.0)],\n",
       "             'LC_o79IQTseA2Qi41v_rMg': [('N0apJkxIem2E8irTBRKnHw', 4.0)],\n",
       "             'AgV7jUfWVNuVkruEUXdFNw': [('RvpSsArnUXRZgC4-I7AyTQ', 5.0)],\n",
       "             'kCsHauRfjVSbLtGt2yAWUA': [('eSQWuOtvlWn1f19pxWpPKQ', 1.0)],\n",
       "             'Pdnmt3ecPOpr21zet454Ag': [('yNPh5SO-7wr8HPpVCDPbXQ', 4.0)],\n",
       "             'gAmmEZLSdj5KXvOlPUQRfQ': [('nlwomMElt7sDwF_njfEEIw', 1.0),\n",
       "              ('uwDQtrpzm4RaxA-MQs4CBA', 4.0),\n",
       "              ('9Q1ZtzTPFWG4fJiFSko5Xg', 4.0),\n",
       "              ('rfdMlP5V4p37n3cDDGLFbg', 2.0),\n",
       "              ('cHdJXLlKNWixBXpDwEGb_A', 3.0),\n",
       "              ('trMrmg0EKcxEYAkqLBbRMA', 4.0),\n",
       "              ('WWZgzuTn1k7Yn9bJ_Pr0Kg', 3.0)],\n",
       "             'TvhmBjJ-Tq_CEScxQAfe7A': [('HZdtHOEaKUL2SlWj5owgCA', 1.0)],\n",
       "             '65JreNnPCY79x-nI2GXYaA': [('jIHXTUXWaHdPg-DXFbq5XQ', 5.0),\n",
       "              ('TVKr8ljkppquzOK35Pz6NA', 4.0)],\n",
       "             'pa7Vxo1pPLNPVMfdkMXxxg': [('NCFwm2-TDb-oBQ2medmYDg', 5.0),\n",
       "              ('VUtazCTIc0aoOrQprP_s-Q', 3.0),\n",
       "              ('Wxxvi3LZbHNIDwJ-ZimtnA', 5.0)],\n",
       "             'VHBWsJUQZuU3pTcZyhgy4Q': [('qQCsLGMncJp1xWUGnOKCQA', 5.0)],\n",
       "             '2muqQ2k4gFIdw_GRtojoJQ': [('CCkHpLugN5g4_Ikfn5X1Sw', 2.0),\n",
       "              ('4a9Rypytzdz9NZuGMS2ZYw', 3.0),\n",
       "              ('QvyG5fZ0mxo5yeLY8jabCA', 2.0),\n",
       "              ('yvJqxVTO_qwRGLMtUrqzQw', 4.0),\n",
       "              ('rUmJ5moQLQaWA2s99P2MEA', 1.0)],\n",
       "             'Q-mai6NN4ibYpPOWDFekmA': [('Ri2IkvrDVM20XBNH1034Qw', 4.0)],\n",
       "             'XVjnNkFbe7WEZVaGp6tPuA': [('9O-L6F0cMfNmE5i07pN_xQ', 5.0)],\n",
       "             'bnk8hI3N5tprKm_lMK4I-w': [('rMVi-Vn_mN_X9J1ZSl1lWA', 3.0),\n",
       "              ('eTXYID00jGxq1vZpntBUFw', 4.0),\n",
       "              ('Qb4sJ4ssSX1clY2wEAOmsA', 5.0),\n",
       "              ('7JVmDCwUVBs4UobLv01hLw', 5.0)],\n",
       "             'LPVSaUBvnSavuv_dgzrRSA': [('bO5zrWdjg28IsT3K_bGwKQ', 5.0),\n",
       "              ('-KNRAU_BkvCKU2szFd2drg', 1.0),\n",
       "              ('oFHvr1cAktvU-bQgrl4aPw', 4.0)],\n",
       "             'Wx7cbLDqYEL3_aVZwh82Ww': [('jo3g5-Z4XExlpPt2_4RWew', 5.0),\n",
       "              ('tvC46X989mIcpY-oj2YXqA', 4.0),\n",
       "              ('-Rc3kdOKC9inz_Cb2o0Byw', 5.0),\n",
       "              ('WPJOz-1TqWtgCdUxlxDR-A', 4.0),\n",
       "              ('LMa0x4S5-5XYZegwB7jPug', 5.0),\n",
       "              ('MOgPF7lg25Pn0sgzOwNqmA', 3.0),\n",
       "              ('PeU2rTATIarPVjOyzvY-Fg', 2.0),\n",
       "              ('UIBn9sYbDbPBBJYNcu1u2g', 2.0),\n",
       "              ('VhTAoCi9hsi2ejudJYCzXg', 5.0),\n",
       "              ('d-qXm9fxKrAy_U_MrVlJxA', 1.0)],\n",
       "             'Y3d9qSHqQgFH8ky-VnD3mA': [('uC3qwaxsOkdJzpOc0v1Mog', 5.0)],\n",
       "             '86aYa8EVV1GakNvUmp6AUw': [('Cl-xl1vTUwHeaGgBxzdTRA', 5.0),\n",
       "              ('Ia1JlEo7UUyZtmqRe1K1Pw', 5.0)],\n",
       "             'ucqVdY7D8yedWsMjWFTCIA': [('dnYzFJ9m1USQqhZv1ZTuwA', 5.0)],\n",
       "             'qUgWLDqYHSxnHHaLfLBZgQ': [('Yiw2jUJzUdFmglHZgj4RaQ', 4.0),\n",
       "              ('DKjmvDeWNslwVeV_j7xFeA', 2.0)],\n",
       "             'tL9kSWZkx4vqW91Q68-qMg': [('VVdbPZs0M6d_X5XdgyAhig', 4.0)],\n",
       "             'G0EzHgjIoNoIdjhCm5C_gw': [('sHIG0hjQHoxal9a1zwSinw', 5.0)],\n",
       "             'uLVIhe4rW-s81ey5qL7Geg': [('mcXRNuN1MsgXYt8B2MWz2Q', 1.0)],\n",
       "             'jI43jHCXx1R-gg_vYcQWww': [('pDMxIQoqkZJeUe2r8XIVKQ', 3.0)],\n",
       "             'w--C9Ovc2HmxUg11NuskTQ': [('gOOfBSBZlffCkQ7dr7cpdw', 1.0),\n",
       "              ('8yiLVWzJyyTEhYE0fVNvlA', 4.0)],\n",
       "             'kkTOV5bnE9hHb5V_zd9b9g': [('YxsIEfjWBgxMS8FTvAulUA', 4.0),\n",
       "              ('vZLrA1A0rNebyMtxBwOCDQ', 5.0),\n",
       "              ('3wQy58Fdg_xrgul2FOw0_A', 5.0)],\n",
       "             'dqWVETGq5f_e0K85B_vvnw': [('-_v2it0tjfDriFqN-FGpIg', 4.0),\n",
       "              ('D5aSQhj3uyX4Fj1B31EYRQ', 2.0)],\n",
       "             'IGIWvROl96crUf2xxJBPgg': [('DP_RN_0ks1ZYFzLsWg6Izw', 5.0)],\n",
       "             '-hietrA8M58asfpyJkCyiA': [('faPVqws-x-5k2CQKDNtHxw', 4.0),\n",
       "              ('dQj5DLZjeDK3KFysh1SYOQ', 4.0)],\n",
       "             'x85IxANgUJTjpylAza2kfg': [('4B8VnRAstRRshxiUzm9yPw', 5.0)],\n",
       "             'vlvH_9PxkXqjPqF5viErCA': [('VahVKCDFougCFlWH87OYZQ', 5.0)],\n",
       "             'HZJQOiqWXEattsvDpTIiEg': [('aSC-WLyJptVpziJpR98Ykg', 3.0)],\n",
       "             'MCXVhvzkwUiWZKQIW0DiwQ': [('6O8ytBCBBX2u5OC1c5Yqgw', 5.0)],\n",
       "             'N1vJjEtijy8NkWjG6ToQYA': [('uKKNw68mZZaa1jcyszEbyA', 5.0)],\n",
       "             'aQ8jx7scRT-Rj4_RrJ_B6A': [('DCab_cz7nDDW-IPsnKGb_A', 5.0)],\n",
       "             '6cW8GuKZyFjpg29djEJoPg': [('h0DBLA6OLptMv0HVanTAvA', 1.0),\n",
       "              ('OIdOJaNS8M624F58XGV3PQ', 2.0),\n",
       "              ('xVHzCbDWCwmyavF5PgJRmg', 3.0)],\n",
       "             'mnJvynzRIYptrjyKtEBiTA': [('G9jwU3O0HOXTHt43eJi2mg', 4.0)],\n",
       "             'omptrhTS2NbFLDVvjHpIsw': [('kkWnVHtSaRWy2B8IlJBCyQ', 1.0)],\n",
       "             'P73raf86o3Pb-MfrxdJphA': [('HZdtHOEaKUL2SlWj5owgCA', 3.0)],\n",
       "             'Ksb4qjaXIY0ZHbKZIeW_-w': [('dnB7SD38_lwiC9E-BJxq-Q', 5.0)],\n",
       "             '_ylveu0IKht7lQ6n854UpQ': [('sOYsxYYFl03PhHmz_rBDZQ', 5.0)],\n",
       "             'v9jUsPYosx6XeRNbNYFG6w': [('S1DL4BBpEfwbuFW7KxxSNg', 4.0),\n",
       "              ('C6uYx1g7TxmuzjfNtxK86w', 4.0),\n",
       "              ('mZkenbcxoR0ZObDgctD4fg', 1.0),\n",
       "              ('_blrEZQZ6et5QEUa-a2WLg', 2.0)],\n",
       "             'z3UOaGaLWmcSzTED_EePfg': [('5bDLpVi7ju83v2Yoeq_0Rw', 5.0),\n",
       "              ('LpwmR1unntc_8KdVfwNH9g', 5.0)],\n",
       "             '5l_oM6HCZOOYb9c3519yXA': [('-5NXoZeGBdx3Bdk70tuyCw', 5.0)],\n",
       "             'sAbHdUgrjMOiQQLNh0H0YQ': [('KTT1djSDBvzuewJynBAIZA', 3.0),\n",
       "              ('ALwAlxItASeEs2vYAeLXHA', 4.0),\n",
       "              ('YzMUZjUMcgI-NSGu48-nIQ', 4.0),\n",
       "              ('g-BuoRJi5LOki0_rSWK2BA', 3.0),\n",
       "              ('8ZRoI8xX4TxW_0Eu1fX2ww', 4.0)],\n",
       "             'mdC03c8sk6PDSvCaVIoIbw': [('v-scZMU6jhnmV955RSzGJw', 5.0)],\n",
       "             'cVDBB_YHxVclSoAMaRPdlQ': [('c35qzLN6ItDpVIoj2uQW4Q', 2.0)],\n",
       "             'PQLWwx1P0PRQAHecPWW8sA': [('MQEpDvkdL39hh1N0We3Vaw', 1.0)],\n",
       "             'EcNS3VUpK_PcO0vpz5P0_A': [('YF4QJ_j-PM7cMZja6K1MwQ', 5.0)],\n",
       "             '29M8htOynu1gD8GiA3Rt7A': [('TxNeo206T0jMvRRQ4nKSIg', 3.0),\n",
       "              ('9UTpmQ4OhX5jNFUIu7dPPQ', 4.0)],\n",
       "             'rCH30k8QOoGSNdESwHVjCg': [('N2G7ySm6R-jYrHvDAV2Ndw', 5.0)],\n",
       "             'sA21nCJSAJLeXqxkV8-Zqw': [('sQ6DZZLLJRfwUr0eDWKDDg', 5.0),\n",
       "              ('vU8-ATy2-MASm-bQXdhRaw', 1.0)],\n",
       "             'wX96qtkS2cIDAoWuC6ID2Q': [('KEDm72wwss4YFXHhHdsHdQ', 5.0)],\n",
       "             'qFGvMV8DmV7bysuIr3uucw': [('ncXQtqJT5Gk1QztwTrBrgw', 5.0),\n",
       "              ('i5mEoDXWVVW2U2BLkwBbWw', 5.0)],\n",
       "             'rFvgUgE0Jl9lutXO707Gug': [('EhtKeNUGGWnjsCLIhCD1jQ', 2.0)],\n",
       "             'zJp6um8sxHAfB6Fbih86CQ': [('XYIPXJ9parr9FtvvcGI1SA', 5.0)],\n",
       "             '8hArQSZwt80ct7fDPn16MA': [('SVGApDPNdpFlEjwRQThCxA', 5.0)],\n",
       "             'GGTF7hnQi6D5W77_qiKlqg': [('-WnpBf7pAJNNFdvhv2sE5g', 3.0),\n",
       "              ('yIxP32hWfZm5gyYUUh2WBA', 5.0),\n",
       "              ('EK_szJq_rFvbH2QIT9HNdQ', 2.0),\n",
       "              ('QeEQXdto_4wFRaNKyIygRA', 4.0),\n",
       "              ('dRhhM_kK3BwUJ8YndD61_g', 3.0),\n",
       "              ('vMO8QkXzx-puoJDz09t5Pg', 4.0)],\n",
       "             'ncGcI_Zh-bbYARJh3zDG3Q': [('S5b_YV6a3fxUpDlk-rkMAA', 5.0)],\n",
       "             'eY6TPklHTeOaQt9F8a_SGQ': [('8cr7Kdx1bT51CnKsrWABbw', 4.0),\n",
       "              ('QHZw2L6LV1qmExNJbfhIsQ', 3.0),\n",
       "              ('WFB1fn8rWNukmmIfTg6AMw', 5.0),\n",
       "              ('YNpwfdqBeP6j8aFrJp2sQw', 3.0)],\n",
       "             'Kp5KHBSmV-Htc9NeSjJfPA': [('o1Pjim5n8xJjjAE_v4RiHA', 2.0),\n",
       "              ('n8Zqqhff-2cxzWt_nwhU2Q', 4.0),\n",
       "              ('FYqFfaxVRW6pdviONXIoDw', 3.0),\n",
       "              ('H8qlBw1YaxMsItfz25-AyA', 3.0),\n",
       "              ('JjjQSlvTvGlIAta5CyA6UQ', 3.0),\n",
       "              ('n8Zqqhff-2cxzWt_nwhU2Q', 4.0),\n",
       "              ('KfVGvpJLvR2ID2dZIlnpvw', 3.0)],\n",
       "             'Qo-MYRxNT2GBJdR0zI6nDA': [('0gbi6kYiAOnFwfZ_2_dXSA', 4.0)],\n",
       "             'O9OsEnFI77YO1L1ciJN8fA': [('RFN2um_vsoliBtvLzH7PcA', 2.0)],\n",
       "             'pHUutGZOxIEARm27ODBgvw': [('GhCbfTGJtB8Y1ZVjTzx53A', 5.0)],\n",
       "             'cIbbfJEGLB3B-c8Po4AL5g': [('0BW6h-igJinzbqc-prYUaQ', 3.0)],\n",
       "             'Y-o9u2TW6Y6fFYwyBcfmLA': [('z8H4Mdzl4jS9pYswj6Jf9w', 5.0)],\n",
       "             'VE-h-BjQ9yifMGyVkCQl0Q': [('373HGZUJm47MupH8QBx8Zg', 5.0)],\n",
       "             'crxhOesQjRjlPr9tuqralA': [('PNTyiqS7R-0c1ofxOfDijQ', 5.0)],\n",
       "             'TXSqa_4aKgc-s0QbaoaLzw': [('3-XdG3qiH-YbrO9AoRhhBA', 1.0),\n",
       "              ('3-XdG3qiH-YbrO9AoRhhBA', 1.0)],\n",
       "             'lD_8ob0NCminnct-xP1hTA': [('eh2LK_fQVd7EF7iWn0bS3Q', 2.0),\n",
       "              ('brpJ1jYGH_Pgrx7dKIqesA', 5.0)],\n",
       "             '4SzrYbQGWa9CDIb6d0hDVA': [('yeesT9W64tpVq5Gcae18Sg', 4.0)],\n",
       "             'Edaw4DZueo4U9bQ0yDpNmQ': [('ZalWvpZ4Tv4AMHtHG0DwrQ', 4.0),\n",
       "              ('jERZonrfQ3gweMDqsnerKw', 4.0)],\n",
       "             'W0bu6qvO7RqVQ6qaYEldlg': [('atNpoWy_XrhT9EUIEP6azg', 5.0)],\n",
       "             'EF-r1hoEj84heQOLbDYMmw': [('LtXy1VinKWfuLFslVarKRw', 5.0)],\n",
       "             'In9WHkXzDS3WEidqa3_lIw': [('iByQmTmTdO7hP4n1grSSWQ', 4.0)],\n",
       "             'jojhw3HqtaVrHPNJV607YQ': [('7eQoxWr9RzyCB9IFvqHUPA', 1.0)],\n",
       "             'Bl4I7FhEPGh-3lKlOTtuWA': [('pJnN5PxqFPGZW2pJWkQtzA', 2.0)],\n",
       "             'i4Zo04oGNNQCDC8YJO4u3w': [('Vw4m_3DyDQgMPU8ouj86ZQ', 1.0)],\n",
       "             'DeVGAiOf2mHVUDfxvuhVlQ': [('XwV2-lISDp_5Acy72bA8Qg', 4.0),\n",
       "              ('biSsdqExmdvIKiFuowOadg', 4.0),\n",
       "              ('ujHiaprwCQ5ewziu0Vi9rw', 5.0),\n",
       "              ('EUWBT5GDxPC95w9itZ1EHw', 4.0),\n",
       "              ('NCFwm2-TDb-oBQ2medmYDg', 5.0)],\n",
       "             'DRM-xU8QIANJfnF5CIbYWg': [('XrpWb4vB7-1z26OreeCD2w', 3.0)],\n",
       "             'TfaNjaJFkK9Dz9zPfKm8YQ': [('mz9ltimeAIy2c2qf5ctljw', 5.0),\n",
       "              ('Lu4pQHQCRXI773PeP3PjTA', 2.0),\n",
       "              ('AUZQbqGldMpNURXCh-UuUQ', 5.0)],\n",
       "             'T9QzRoP0LZYU7yar41Q7ig': [('q2KtxnPa6rPSpAlMbg9l8g', 5.0),\n",
       "              ('NPiLy71qqXzb45k9eQOgCQ', 4.0),\n",
       "              ('L4mStdyhdAaL_AgY5csk2g', 5.0)],\n",
       "             'A0j21z2Q1HGic7jW6e9h7A': [('ksZfCKQHYdCu0e8KbMuBDg', 4.0),\n",
       "              ('S5MYcMCSgqGJRLO8N5Uk3Q', 3.0),\n",
       "              ('hc78bF7jF1BY42F5yQjDDQ', 2.0),\n",
       "              ('IohmLyQ-spRYgGldapMSyg', 3.0),\n",
       "              ('snIAyWu0r0FBO063SEmi1w', 2.0),\n",
       "              ('Hpi9raHlFm6prTSzFHTurg', 4.0),\n",
       "              ('0WAL6O1YvcJbeDRYeRm34w', 4.0)],\n",
       "             '8nPszi0jW00kEcusfsoC-g': [('tM3oXoB1VqkfSLZU9bH9TA', 5.0)],\n",
       "             'tbkM-CTvEJHUc_Hueat8NQ': [('IjmqHVUkiY1hCewisy-5MA', 5.0)],\n",
       "             '470S4xV3iv1Ol8K7rCPPgQ': [('jG1jcAeDw0pZTHCNC5kw_w', 5.0)],\n",
       "             'N7NnC6-q0O-Gq2n_7YJkNg': [('o47aY911-1rK9tHeXOWxFg', 5.0),\n",
       "              ('3TrY8CpsnvnTTYigx2R4yg', 3.0),\n",
       "              ('y3uEq-adz-6FT_1Z4S8yIQ', 3.0)],\n",
       "             'QGVM-MEb3ybiwYin8GRPWQ': [('AXhTU2DzkI0xhHwqSmqY8A', 1.0)],\n",
       "             'OY3QedI62yYxqnBET7Rz5w': [('6fPQJq4f_yiq1NHn0fd11Q', 4.0)],\n",
       "             'YmPacl3KZQfdVRZctWDUWg': [('p-8AMN9Q0qwym-3Pdle20Q', 5.0)],\n",
       "             'l-fe24FmqxPW1i0Jaii3ZA': [('rIGPzxycWfmGQS3RHpVaNA', 5.0)],\n",
       "             'WBCOYKf0OB7wjNkJ7Drmew': [('eN8mkjt_q686hGKi-A9ceg', 5.0)],\n",
       "             'CVz59fHlXSphe2WtOUvo0Q': [('fQguRJYXGmYa4mFcpyhHmg', 2.0)],\n",
       "             '5Z9C_oQRxxWFejgix0Cc-Q': [('JI_PIR0oI6-HsIih9Qm1jw', 2.0)],\n",
       "             'KBIdKsLoP0xG7Bf9KZVueA': [('r5PLDU-4mSbde5XekTXSCA', 3.0)],\n",
       "             'hLVq7VSJBHZwqurwWoCmpg': [('6ExIH5FoPyMRhtz4p-2K1g', 4.0),\n",
       "              ('Ul6JwluSTm12PVDIqnNaTg', 5.0),\n",
       "              ('h5PKBY4jvOwuyYb5Dtr6jA', 2.0),\n",
       "              ('Kot0deqA1WAbZ7YXY5fQ5w', 4.0),\n",
       "              ('vXEZ-r6fah-5Fjt3a6c-Gw', 3.0)],\n",
       "             'gg7XzusGRSpicKQ8jS5ZZA': [('GvKx1QL6XLyMZnWZun1DPQ', 5.0)],\n",
       "             'tE0aznXzQo-JRbHHHoFmfw': [('NuGZD3yBVqzpY1HuzT26mQ', 4.0)],\n",
       "             'Hb3V8L1pfrHINTh-UKulSA': [('Vs7gc9EE3k9wARuUcN9piA', 3.0)],\n",
       "             'fWvtktfWZ0f7iwBFHCdi_Q': [('-Dnh48f029YNugtMKkkI-Q', 5.0),\n",
       "              ('mXyLqsbe7FT1X8ZFOP8WpQ', 4.0),\n",
       "              ('fbQaKW0Lte0JQ_opbnjdKg', 5.0)],\n",
       "             'Uz_0Tcvq5KcF4XQltYKjnw': [('i3mZIwNi1EiJ7-1A8amoyw', 5.0),\n",
       "              ('i3mZIwNi1EiJ7-1A8amoyw', 5.0)],\n",
       "             '6834VEyTMxnqj7WNuzBCNQ': [('5dy8OiWJty9AuxBcBzeBZQ', 5.0)],\n",
       "             'Kgmvv8Y7WJLNOvbIiKHCoA': [('Ku_c9V0nj6bYcEYPPJuahA', 2.0),\n",
       "              ('vU8-ATy2-MASm-bQXdhRaw', 4.0),\n",
       "              ('aVkVDJ01OgvNwhlCUz_bng', 3.0),\n",
       "              ('SYKIUCvN9JdSkVampgccfA', 4.0),\n",
       "              ('88yIboxl9p7sPy9ifh_s4A', 1.0),\n",
       "              ('6nKR80xEGHYf2UxAe_Cu_g', 5.0)],\n",
       "             'i4Wnd2RCnt0NAW_gJL17Bg': [('FhIeCF6QrsLaRvAeu0oEPQ', 5.0)],\n",
       "             'QHX3NxFAlda3I32taYzI8w': [('FvVSy2r7_zDEhZWqLgjXNQ', 5.0),\n",
       "              ('IMLrj2klosTFvPRLv56cng', 5.0),\n",
       "              ('pH0BLkL4cbxKzu471VZnuA', 5.0),\n",
       "              ('5rEKjXLslSp58R2ygAZh6w', 5.0),\n",
       "              ('0qSKZhVC_BHPuKro4QGWJw', 5.0),\n",
       "              ('glkEaoxbewiSMBiXs945JA', 5.0),\n",
       "              ('LYWbyu1EQM2o5hwHG5_Ldg', 5.0),\n",
       "              ('IMLrj2klosTFvPRLv56cng', 4.0),\n",
       "              ('AMsfjpim5WohOzQJOtLyQg', 5.0)],\n",
       "             'Z0BARqjDUjteRNoY-LxTNQ': [('LtXy1VinKWfuLFslVarKRw', 4.0),\n",
       "              ('yNVcnSaMSrTmjJBMrHTy9w', 4.0)],\n",
       "             'oRNfydhuBIAq_mXK7QwSlg': [('f_eiOrEcMnkHB7GvQVOHkQ', 5.0)],\n",
       "             'HDXg3u-O8u6Zm3eWUlwSWA': [('5nyKUHibR4GCs6ojVljFdA', 1.0)],\n",
       "             'ZqtXeDIs5NdLMob8I1QkSQ': [('qfj5Ih8-6RPF2ccvNGvCcg', 5.0),\n",
       "              ('Bs8v8Fx2A8NAJwCgF8tgWQ', 5.0)],\n",
       "             '6nvUppVogRTTwZCgaYCPjw': [('YF4QJ_j-PM7cMZja6K1MwQ', 3.0),\n",
       "              ('_pBXtjN43eqMV0XZTz7nmw', 4.0)],\n",
       "             'fqSp8HsQFzo7Z9Gn8nqddA': [('jI0B7zaALNKge6eFma3M2Q', 5.0),\n",
       "              ('wH4Q0y8C-lkq21yf4WWedw', 5.0)],\n",
       "             '7hPVRv54_NGSQ6XOQUqubg': [('a0v7Si0DK4cIko7AQY4YXg', 5.0)],\n",
       "             'dpSnLEcJAttCbYyE4EOKoA': [('lqJh-P6ieMKdMhfk6QeK2g', 5.0)],\n",
       "             'ynkHBsaBm4g-U4J_mLNdPw': [('MOgPF7lg25Pn0sgzOwNqmA', 4.0)],\n",
       "             'RUa2_2yuSwJtU7sTXz-omA': [('VahVKCDFougCFlWH87OYZQ', 5.0),\n",
       "              ('O7UMzd3i-Zk8dMeyY9ZwoA', 4.0),\n",
       "              ('8WBHKj2davW6hhZWlUQ7DA', 2.0)],\n",
       "             'wG8MINwi774v7EMjQ7Rp-Q': [('j1QfFrTE22PAak7rzD8OoQ', 1.0),\n",
       "              ('HQpMwOOrGND3GaRqMNV9ig', 3.0)],\n",
       "             'zgxT0Uac49YXa8p-diM9sA': [('_Ii0lo1P5n7zVURO5Uaf1w', 4.0)],\n",
       "             'UgWvxLS9xFvOxLILqxez2Q': [('yeesT9W64tpVq5Gcae18Sg', 4.0),\n",
       "              ('2gUlfNEmqFlugmT-uT1m_w', 5.0),\n",
       "              ('OFnif1n1Za196N1qyx25wQ', 1.0)],\n",
       "             'DStSNdjUL0Kylid4Nn_I2Q': [('_VwlN6pCkf08_3dbIsX2SQ', 5.0)],\n",
       "             '2GLd-FhlhMRNnxSL1boOTg': [('xZfMtJYFOvN-kv_w1rVrFg', 1.0)],\n",
       "             'rwtjtZTMc2SO58kOQvVneQ': [('XhUec_6-kgPy1_ZYUrzvPQ', 5.0)],\n",
       "             '86KHVcnvscSVWBiNU9YqFA': [('2c9Vptks_vowLgVUMnCgjw', 4.0),\n",
       "              ('aVkVDJ01OgvNwhlCUz_bng', 4.0)],\n",
       "             '9VvjZlnb6gjFV4DUD3E_LQ': [('SVGApDPNdpFlEjwRQThCxA', 5.0)],\n",
       "             'MmRpbGUWsHLKh9GtzIHhEQ': [('ujHiaprwCQ5ewziu0Vi9rw', 3.0)],\n",
       "             'qZnUFVsnhSAQ7cNeCS4zAQ': [('amJdJXHAKstfl-O6zJqbcA', 1.0)],\n",
       "             'sah971OQd-se08xEiEtnZA': [('MpWkXcBH1sSVcjReplDB3A', 5.0)],\n",
       "             'lcYtUT_7zO1ws4cl3hbO7Q': [('XXW_OFaYQkkGOGniujZFHg', 2.0)],\n",
       "             'O4sAznBNs3wrHaePq55S0w': [('83mGJa2PVXVo5yN612XbIQ', 5.0)],\n",
       "             'sYBgfT4Qpbg8qe1-nckazQ': [('X8AGCsJHw-GuTqkzy2J3cg', 2.0),\n",
       "              ('PFQU2koM2WymKJh8O6UcoA', 4.0)],\n",
       "             'o9IxihyU8ItaOCnrF954cQ': [('fqybWkJz8xarCzQkV5nqDA', 5.0)],\n",
       "             'I9_Eevm2Be99teo5v9qNwg': [('qxDe7yciDZxImUZCKLkYIw', 1.0),\n",
       "              ('1BWGgA_omh3i4zeXX5sqkA', 1.0),\n",
       "              ('0yH5_sluR0BmgaxUyJUj1A', 4.0),\n",
       "              ('dJuxA0paONof3QiMAN8d7Q', 4.0)],\n",
       "             'wvmliA52FWrZZzkIifwYMw': [('8mIrX_LrOnAqWsB5JrOojQ', 5.0)],\n",
       "             'co62WynQKnNC2RaGr-_Mjg': [('72R6zu7hH6R-nfjvBkMUHQ', 5.0)],\n",
       "             'vJq38lzkYg9Cpdsenps38g': [('sWwCwjsd27k0Y8m1RIWZEg', 5.0)],\n",
       "             'JysF40STBTmx7h-sU1FHgg': [('gnKjwL_1w79qoiV3IC_xQQ', 5.0),\n",
       "              ('i4l_Qr_zIz6PgyDktkf5dA', 4.0)],\n",
       "             'sDeGxXW4rFhLyISjYAdnwQ': [('-U7tvCtaraTQ9b0zBhpBMA', 2.0)],\n",
       "             'crT0t_PdX6Mg5mkcYjAG7w': [('bXoRrDhojAQ1B3nGNEs7wg', 5.0)],\n",
       "             'TZelLnaGbHgaG7LBI6rfgg': [('7HrCELR6uv2HkgL7aT_hcQ', 4.0)],\n",
       "             'eQSWiIKllqoj9VJrNVmwQA': [('ybbcg01-j7tKJ_oLEY1uPQ', 3.0)],\n",
       "             '6jDCqTcW-dqG5vxQBrM3pg': [('xrelj8c4ogmXYqvdsJcONA', 5.0)],\n",
       "             'y1ZxiCnd_8O0yF4aN4qxiQ': [('OIdOJaNS8M624F58XGV3PQ', 5.0)],\n",
       "             'LTNlAPNiDUgLEd4PZEooOg': [('UGyEr_PMA-v1cuim0gMPlQ', 1.0)],\n",
       "             'rN1hA93jrtmB9w9iPcyCdA': [('ovFnrmsT5rUpbAQE1r-V0Q', 5.0)],\n",
       "             'z25nUqEWL-9a-8BwOP0BwQ': [('vdloJPM3bSpQTMlwdFek2A', 5.0)],\n",
       "             '-PYZsX_CAfLcZAOtQVSNMw': [('6E8firUHULUasTt6puy2_A', 5.0)],\n",
       "             '-OjO7eqDDscYA6373_3_mg': [('tK-PQOhZo94fonbQVXaOSg', 4.0)],\n",
       "             'b8RV2F3-H7uCdJB-DAQPUw': [('-iFvYhgysvjkxckCr42NRw', 5.0),\n",
       "              ('Yiw2jUJzUdFmglHZgj4RaQ', 5.0)],\n",
       "             'GrNCSrbet0W4DqHYQeZL7g': [('v5IUggBPzXEF1MCB7QMRsQ', 3.0)],\n",
       "             'FXLgZKEUeseWqJuijJC06g': [('pDoDY-cDLyeKQgDx5RAlnQ', 5.0)],\n",
       "             '11Qfaoyg3BiciQ4ffKO0JA': [('GMrwDXRlAZU2zj5nH6l4vQ', 1.0),\n",
       "              ('9YiQ3o0EGmtojzjXdEfgeQ', 4.0)],\n",
       "             'Irmb4Z-Ov90ynxzKhrhVLQ': [('uuGL8diLlHfeUeFuod3F-w', 5.0)],\n",
       "             'oz5TP2PGGAHIy5G4ZmO9rQ': [('4d2COvI67Ee6SCMP7UnImw', 3.0),\n",
       "              ('KBWLCfWyfoXMvvBOXlABlw', 5.0)],\n",
       "             'KlfqqVwiqYNRrM_QkR6CdQ': [('xqQ0njbNhkJoSAjiQBLLyQ', 5.0)],\n",
       "             'qUMe7FwQCC2cLHADQQF1gw': [('h4B4zyivFkXwZvoq7KUrUg', 1.0)],\n",
       "             'qRa_oFRBubBF2IPjXhQAvg': [('dPIQurJHDMt1KDlXolNFhw', 4.0)],\n",
       "             'L5XOmoTwI3pr2_FtB8d70w': [('Woqed5Fw95J6oEZxIHiBgg', 3.0)],\n",
       "             'tlAi1SS15mqHF4RBRn-oZg': [('wopyolJM2hOAt3dPRmahNA', 5.0)],\n",
       "             'vksHkmxZPI_AK0364l3wgA': [('VT9VcNegXrl-BLDCjWH3fQ', 5.0)],\n",
       "             'QzpSerZEkQnMZPXCph0TQQ': [('dM_bvkmRli5sbvSik_uDMw', 4.0)],\n",
       "             'UrfsVABrFs_Vu1HGrm37QA': [('0G1y7uV7w1D2uziS4Lt_Dw', 1.0),\n",
       "              ('Df9zbwHyE5TLiX8MXhlgJg', 1.0)],\n",
       "             'N4XGEx1q7Q1Xq_pCNBTTBQ': [('46hnat0aLao-qYWZkN9aBg', 2.0)],\n",
       "             '7T7LkNFCetToL7b0LkoUug': [('N0apJkxIem2E8irTBRKnHw', 4.0)],\n",
       "             'AIldkvQZhcC5YU_DJDTSAw': [('NRFKiCg_6WJtuGpfb9dxVw', 5.0)],\n",
       "             'QPBKNdtSzhvx-zCrf48kvQ': [('n2dhdtnOzqeAKSn6s3nQSw', 2.0)],\n",
       "             '8tGEKWvUR6honrym9rW7Ag': [('mz9ltimeAIy2c2qf5ctljw', 4.0)],\n",
       "             'VP0jOO0u-z0JIxZ52bQtJw': [('cA3758wmDHz5nK05WY98dg', 5.0),\n",
       "              ('b42EKdSk61zd_FEqEwioYQ', 5.0),\n",
       "              ('SDdB_gFAWW23cNmtwT-dAA', 4.0),\n",
       "              ('d8lmIZIqmBC9oPM8y1dc7Q', 3.0)],\n",
       "             'IdJACvzA52MGySZ1F6JMAg': [('fjLMMIQW61OtjCuH7drvLA', 2.0)],\n",
       "             'FWfxUw1XdPCuv6lKVlDI9Q': [('8EIZAb0knT2u_z2gIxllXw', 1.0)],\n",
       "             'jUg9Nk-YbFZorL0N9SL-pQ': [('ibf4xvHWD4t1DOOZhidHBg', 2.0)],\n",
       "             'sYhayoonnMu2wDFmKeWEjQ': [('n8Zqqhff-2cxzWt_nwhU2Q', 1.0)],\n",
       "             'B_4cl4IGRqYb0wQSe-rYjQ': [('oXFRaSgcT9GwCWfC9lf8dg', 5.0),\n",
       "              ('JrrY4v21k7_qYxIidhi-aw', 3.0),\n",
       "              ('geVM8YqBzb_8kXR2Z0YsCA', 4.0)],\n",
       "             'tfuIo0GQ0DIo7utmj-st8Q': [('wZXWWB_XBYfEV3D72m7IpA', 5.0)],\n",
       "             'G6blVf1pbzR1LF77UBDg-g': [('JdZ1ltpUcjODBqkJzJ9ZLg', 4.0)],\n",
       "             'u573YBoi18h7Om26dKoagQ': [('QD5BGOCN8giYUkvxO85mjQ', 5.0)],\n",
       "             'O5Dh496HSFj9UW32CqDkfw': [('HhVmDybpU7L50Kb5A0jXTg', 3.0),\n",
       "              ('YRyYbOSwvHkZsZOLv98oQg', 3.0)],\n",
       "             '1J1wECaKO1sw8_iMKyDjKA': [('yNPh5SO-7wr8HPpVCDPbXQ', 4.0),\n",
       "              ('1FvN1961ct3_iv9SvdBGQA', 4.0),\n",
       "              ('b-bHa-ziECvPpp9AsTBlRw', 2.0)],\n",
       "             'Lfv4hefW1VbvaC2gatTFWA': [('3uP7K1VgnSdEieDoH00A4g', 3.0),\n",
       "              ('vXEZ-r6fah-5Fjt3a6c-Gw', 3.0),\n",
       "              ('CU047MuCn7u-9UGA2-xhmA', 5.0),\n",
       "              ('wdwODzBChLIh_u8V8CPpyA', 4.0),\n",
       "              ('CZKkoMlqu0N0zCFK-3T_Fg', 4.0),\n",
       "              ('2EhBiUnUTl_H2s4DXdKCTg', 4.0),\n",
       "              ('hcFSc0OHgZJybnjQBrL_8Q', 3.0),\n",
       "              ('ZDgCaWBwdAKxUei9VEnVDA', 4.0),\n",
       "              ('kHVXISoSMdgKySGiUVhhtw', 4.0),\n",
       "              ('_PKa6Dj06Q2AHKGkpJ7GnA', 4.0)],\n",
       "             'qeemN4slMyao8ZE6Pc9Iww': [('vx4YAA02Qz6khRD1fZ1MFA', 5.0),\n",
       "              ('TCoBE_BkDRrK0bWrh5VueQ', 4.0)],\n",
       "             'OwAPlIFtd4xlzsRZAI6kNw': [('RBAcL6hg2yoaTRv0kKUjPA', 5.0)],\n",
       "             'MxJlWj3Bzn1BGvjb0fM7hg': [('kZG0GFCGf9BPeO0aUqxjRA', 5.0),\n",
       "              ('qJc12bxr4p-7ICE_Vhb-vA', 4.0),\n",
       "              ('l625i6zrmsBzwktf7jwVRg', 4.0)],\n",
       "             'tm6yH-OJA3f0HmVMeJdylw': [('r5PLDU-4mSbde5XekTXSCA', 5.0)],\n",
       "             'zxvCTHbAI2Oa6wVu0RbENA': [('EneqsOFGCK4KXofNHsc5aQ', 5.0),\n",
       "              ('-U7tvCtaraTQ9b0zBhpBMA', 3.0)],\n",
       "             'UAJXDp7sgCkLkru3i39Dug': [('qTmuW0C9XXuxWwumvn89sw', 5.0)],\n",
       "             '3hdtkz1qSH4ZlXaFtUKuNw': [('I6oxEn1HT41S2GPrDKPPvA', 3.0),\n",
       "              ('cjatara6LkXRu2BXD_jxlA', 5.0)],\n",
       "             'WaAOt_eG0_-yLpG3fI--3g': [('ujHiaprwCQ5ewziu0Vi9rw', 5.0),\n",
       "              ('zuwba6QEBIDZT0tJZmNhdQ', 5.0),\n",
       "              ('tHS01X7Vg-Yk3KVeKAH1vA', 1.0),\n",
       "              ('SstJJVADGO50B8wut8M4wg', 1.0),\n",
       "              ('DIB8aZ0EVaPnbpU27-lEsA', 4.0),\n",
       "              ('WP0M2cpWzhsMwk7kPtreRA', 3.0),\n",
       "              ('65GMvjjrsvyR9pxxAys7qg', 5.0),\n",
       "              ('PjEls_NCOQ0m4tJPvcTY8w', 5.0)],\n",
       "             'bUxygdAfQzu_j56PTgo_ig': [('nsNONDHbV7Vudqh21uicqw', 4.0)],\n",
       "             '9hlEjby5rgChlDFMP6kBRQ': [('XXW_OFaYQkkGOGniujZFHg', 4.0)],\n",
       "             'ljaDy_lIKNWr2MfjV6Mt9w': [('TEA3EAmP5BsWrZv7I7ywBQ', 2.0)],\n",
       "             'FAULdZ19aMu4mxSbipl_jA': [('7kzQjGmeI0Z1q06q_aE1PQ', 1.0)],\n",
       "             'osWbAvmR3o3C6XRq3eAcuA': [('c9UmJiX2G7hKMpivZ3h1oQ', 4.0)],\n",
       "             '9sdvxnPSP1qaa-uUkruRdg': [('1qwkbN3wu3AGDxMTXVz2gA', 5.0)],\n",
       "             't5B43E8C-cqOUeGtWu7P2A': [('0e2oJ82g4ZfvQzIc8SE9Xw', 5.0)],\n",
       "             'IZPYIYdr05FvjKva2986aw': [('a0v7Si0DK4cIko7AQY4YXg', 5.0)],\n",
       "             '3czAF_mZoDnGZnbMEOUkDQ': [('_j2EtQtgLuXGRBfbM5YwZA', 5.0)],\n",
       "             'qJ3mCZcKTpxz7UQbqAXkcw': [('UJb1PrUWDFfuzwUPc1pP4Q', 5.0)],\n",
       "             'wHUWmyCwo452LkYmxn-4RQ': [('LprNAY4S7Vthc-hnqLI3Pw', 3.0)],\n",
       "             'fY5jSYj060Qcf-gPmmdGKA': [('BN4AorMm3RKgqi1E6ie25A', 3.0),\n",
       "              ('4JjlPC6eyru03vjh3Y-6uQ', 5.0),\n",
       "              ('BmQ2k95KxmXd4OgcecEJaQ', 1.0)],\n",
       "             '3HmloQl9Hc7CMkGNfbZ37g': [('jItm9rWFREGUkHMJZRbbPg', 2.0)],\n",
       "             'qxViWI63mr62uSq2X_a3Xg': [('1hqOjPxgH8IXE4bNq6DFiw', 2.0)],\n",
       "             'QVrRiO8uDynfF8d95eRWdw': [('sWwCwjsd27k0Y8m1RIWZEg', 5.0)],\n",
       "             '8VDO-LwZYuM6-6639Jd4eQ': [('PmkXtqIcjQGpNShB8yTSrA', 1.0),\n",
       "              ('PmkXtqIcjQGpNShB8yTSrA', 2.0)],\n",
       "             'Rv8cduGW_BTlv7Ryz5JmGw': [('SX7-vTahSnoVeJQ6N86PMw', 4.0)],\n",
       "             '78jA9znm7XbgNYVsQ7M-UQ': [('N0apJkxIem2E8irTBRKnHw', 5.0)],\n",
       "             '2b1rPX0jOZ7pyb6NgfU8kQ': [('SxqNnm4piAlFNNiBaXM0kg', 2.0)],\n",
       "             '9IZGrDBEWNT9b-jTSWIezw': [('YxsIEfjWBgxMS8FTvAulUA', 3.0),\n",
       "              ('-iFvYhgysvjkxckCr42NRw', 5.0),\n",
       "              ('qaYGKiDM7uAae3QK1y-A7g', 4.0)],\n",
       "             'rKP9N78qc7ZGOIurzi_4NA': [('9xW10XVppfvgrftu_OQwTA', 3.0)],\n",
       "             'kRp6sWGT-WhBpZsvaIfh4w': [('CGUK3cd2gxp2q3KPY19Oog', 1.0)],\n",
       "             'thxWw-_kf3dmeidPCIPcag': [('lnU-G15oaYWwqqbUXj9JEA', 5.0)],\n",
       "             'vKsoRog51j2820WF8LV9YA': [('XXW_OFaYQkkGOGniujZFHg', 1.0),\n",
       "              ('X5uxdU9GHoUAqo2wmbg3OQ', 5.0),\n",
       "              ('NBn4hgfGtNz91k3VsDZlmw', 5.0)],\n",
       "             'VxwSCl8jvkmV-TgLdRtszQ': [('-WnpBf7pAJNNFdvhv2sE5g', 4.0)],\n",
       "             '_U6HirIlJb3ZSFaSpZGSYQ': [('8lZtLSeJVg28Gb75iklmmQ', 4.0)],\n",
       "             'wvxKfQu9MIBfQDbNoJY5Mw': [('sqdhck-Ad8UiBTVRbhdepw', 3.0)],\n",
       "             'hr3iSHRh59DhFX8dn_UReg': [('cA3758wmDHz5nK05WY98dg', 4.0)],\n",
       "             'CkM9FtxelvahpE9StyON3A': [('PNTyiqS7R-0c1ofxOfDijQ', 5.0)],\n",
       "             '4xTX9pathi3yco4MZGKmfw': [('9K2FHkajUaTU4P2cfFJmGQ', 1.0)],\n",
       "             'FYV-FvJbi69KiKQ87jkKkQ': [('jScBTQtdAt-8RshaiBEHgw', 5.0)],\n",
       "             '-0udWcFQEt2M8kM3xcIofw': [('xS5HGqgk0KY2jFWU-l_nrA', 4.0),\n",
       "              ('qQCsLGMncJp1xWUGnOKCQA', 5.0)],\n",
       "             'HHrDK8PKL3div1uBYym6LQ': [('7Ny2GHLw8xl_kXfhfrvh5w', 5.0),\n",
       "              ('a0ajcnjcgojF_61pLpAbzQ', 5.0)],\n",
       "             'Fe3x9pdvK9Bnilw661yeTA': [('YRiQtFNteLUUEiGkdQ23vg', 2.0)],\n",
       "             'n8dsBoAOzorBEusGP3Si6Q': [('wUKzaS1MHg94RGM6z8u9mw', 5.0)],\n",
       "             'zcCEjj_IjSBkLq1UPLizww': [('w4yq1IRk0DHQE995giqjGg', 5.0),\n",
       "              ('8mIrX_LrOnAqWsB5JrOojQ', 4.0)],\n",
       "             '__y1QHnPBvMmB-OmzWBKtQ': [('-1xuC540Nycht_iWFeJ-dw', 4.0)],\n",
       "             'FxrSWuB-FBJuCckdnf9zPQ': [('F6c3D1o9Z4Tl6cDorb3WgA', 5.0)],\n",
       "             '2um7BetWG3N7p3cSnXRTNw': [('b42EKdSk61zd_FEqEwioYQ', 1.0)],\n",
       "             '2qMgrlCD6TapKIYB72nXGw': [('wUKzaS1MHg94RGM6z8u9mw', 4.0),\n",
       "              ('wJY74R0zAgjxvBf-d4gm9g', 4.0)],\n",
       "             'uOVR688IC7w_3pJ008OLWg': [('HFDZeMrm13xX5yJvpaRaIQ', 4.0)],\n",
       "             '0guV-tXB82pi2stV7a5g5Q': [('SAfuIUZMXrOnb3LWyvYjDA', 4.0),\n",
       "              ('FvVSy2r7_zDEhZWqLgjXNQ', 3.0)],\n",
       "             'lue7KKWwqAfXTPHJZXWH3Q': [('o1dX8oFupfjbBpYgT7TH0w', 2.0)],\n",
       "             'YORJi2JtQg5Mo4nmKOXzag': [('wQ4-LKNd-HX6GsbmekTbbQ', 5.0),\n",
       "              ('5FIOXmUE3qMviX9GafGH-Q', 5.0)],\n",
       "             'jAkrf88NBkvCSBLB4iwVDQ': [('pH0BLkL4cbxKzu471VZnuA', 5.0),\n",
       "              ('faPVqws-x-5k2CQKDNtHxw', 2.0),\n",
       "              ('l_-4l8JwZbAn75Q1sfI7zQ', 4.0)],\n",
       "             'hWDybu_KvYLSdEFzGrniTw': [('igJPhoIj2HHKeAtBatnM-g', 3.0),\n",
       "              ('sqdhck-Ad8UiBTVRbhdepw', 4.0),\n",
       "              ('lGoO7JBynVIYnufsIiom9A', 4.0),\n",
       "              ('b9caA3rPbseGPG1oycDiCA', 4.0),\n",
       "              ('uwpPniaFEVkK5T_PWdQZ0A', 4.0),\n",
       "              ('vodVvMALuQPScQJpLhfcyg', 4.0),\n",
       "              ('b42EKdSk61zd_FEqEwioYQ', 4.0),\n",
       "              ('N2M0WyGCyTV5jMOYPH7odA', 4.0),\n",
       "              ('_csgqOCUWhaS4KAwm9Rcag', 3.0),\n",
       "              ('nuhx24_a0iySSpAfQe2DAg', 2.0),\n",
       "              ('pvXdMR9tcQlwXcXJLllmPg', 4.0),\n",
       "              ('vxadNrpTY7OHNmWsrEpNnA', 4.0),\n",
       "              ('fDgPqRj5oQE-lDRCc4afDg', 2.0),\n",
       "              ('Mx4jBY2-pNv4I7bIrefCPg', 4.0)],\n",
       "             '627ihUMdDCxyXw1mOj1MVA': [('OVTZNSkSfbl3gVB9XQIJfw', 1.0),\n",
       "              ('_pBXtjN43eqMV0XZTz7nmw', 5.0)],\n",
       "             '_fEmpHgp6VQVHfmPqwlgkg': [('Wxxvi3LZbHNIDwJ-ZimtnA', 4.0)],\n",
       "             'BkLN3dVlNgIwM7P3HVHg8A': [('5ma1OUQWy_Ds80xUiP7JPQ', 4.0),\n",
       "              ('a0v7Si0DK4cIko7AQY4YXg', 5.0)],\n",
       "             'IaBEvZ1ZFwP9EQf25wlU2w': [('Q0EZmATxDphzRMszNV2LVg', 4.0),\n",
       "              ('p-8AMN9Q0qwym-3Pdle20Q', 5.0)],\n",
       "             'PoWqjYPk3QDix0s1GvIR4w': [('CrIWqmuO2uQWwl3z11K_BA', 5.0)],\n",
       "             'rXbVDrcIOHS474WgXdcCSw': [('cuI4nkcx6d1bdG--ZM4oww', 4.0)],\n",
       "             'VTau8vTv5T9nDFbD9nl8jA': [('ibf4xvHWD4t1DOOZhidHBg', 5.0)],\n",
       "             'ywEB0MB_2U11NIGPs35pew': [('YILyHegzhy1vlc_LNVfObw', 4.0)],\n",
       "             's0pvf6ldGgxVUB3JCZ7VRA': [('fF_IMxQ5uQ23QU8YoyXAaA', 5.0)],\n",
       "             'zKwghqBWCZI-5Ff-FVDj7g': [('4bkqWJoUWpVGW7yesCeSjA', 2.0)],\n",
       "             'NrS5u78rFw7E41RQzm6_FA': [('lv5Bnqlt93NnvNJ2oNcQ8Q', 5.0)],\n",
       "             'x6ZawP9ECpWNkQnfPG8e_Q': [('wUKzaS1MHg94RGM6z8u9mw', 4.0)],\n",
       "             'J979nZWDnT_AeKWzqJLtxQ': [('SX7-vTahSnoVeJQ6N86PMw', 4.0),\n",
       "              ('DP_RN_0ks1ZYFzLsWg6Izw', 3.0)],\n",
       "             'qqJ3rKj8FljC24uibi0iyQ': [('7Ny2GHLw8xl_kXfhfrvh5w', 2.0),\n",
       "              ('7Ny2GHLw8xl_kXfhfrvh5w', 3.0)],\n",
       "             'hY_TNxmwHoID5SGsCscd9g': [('4JdoQ95uXy__zoHmPhtdiA', 1.0)],\n",
       "             'yT5au2i0mYYflUCrVKctMw': [('8E2Uc0Mn4cn_yEY0xFv-9A', 1.0)],\n",
       "             'rHJy9zFOKWFUm3QmGa529Q': [('-bd4BQcl1ekgo7avaFngIw', 1.0)],\n",
       "             '9mCHyzUP-DOUd21WWBpffw': [('M5Vy2UkXMxk4REkGSYiNXQ', 5.0)],\n",
       "             'qIossUhtsJ55_ciRTEqiPQ': [('nlVjdQq9FzdQ3bfy-8y80g', 4.0),\n",
       "              ('sMzNLdhJZGzYirIWt-fMAg', 4.0)],\n",
       "             'bMMsmv-AnWUvzhKv8HLZEg': [('OVTZNSkSfbl3gVB9XQIJfw', 4.0)],\n",
       "             'IZ4e7jv-RGOtNSsFlsswMQ': [('6LR0Eg5EAMEIES7CY7ITOg', 4.0),\n",
       "              ('LCb2moBNkcBto_32rmZJ5A', 3.0)],\n",
       "             'PY3X_1Y7Yw_7jNdFX-QytQ': [('o7QpLwjQQs4qDX6TCd50Ig', 5.0)],\n",
       "             'QlkvDvayTp58DLzx5ffWTA': [('mz9ltimeAIy2c2qf5ctljw', 5.0)],\n",
       "             'CZozl1mjozVKP2x5yXiZHQ': [('EneqsOFGCK4KXofNHsc5aQ', 4.0)],\n",
       "             'v-R38AMN2ZZgr_iszlgc_Q': [('vazCBq6DH9LnCQ3cH7E4Og', 4.0),\n",
       "              ('l3d7x5kJ0vv7Dte8tUJP4A', 5.0)],\n",
       "             'pCPTv0e8nfBM1lQF8ZrLZg': [('yNPh5SO-7wr8HPpVCDPbXQ', 3.0)],\n",
       "             'MiIhPqbV11A_rmDfCjVL9w': [('Idk-QTyUZq9w0ALh5cyvrw', 4.0),\n",
       "              ('DqUa0BFB1FB-qWm5XlwLhw', 4.0),\n",
       "              ('yVuMIm6sY2nCvYmPSTl_pg', 4.0),\n",
       "              ('tEfvf1cznLZUIeTcKKpAIw', 5.0)],\n",
       "             '2ppZf7UVMy1Godn0y_B5Ig': [('IjRMUEf19Y1MmIVjqGyS4g', 5.0)],\n",
       "             'ZsUSGU1-L1ImomLZjXxxTg': [('dm6sO_Y8JdKTE1ZM955yug', 3.0),\n",
       "              ('Nm1pBGkT5euNOn29JHwXrQ', 3.0),\n",
       "              ('eUuKXhloFVHdQsLdodcLbw', 3.0),\n",
       "              ('gc_GGat7TgNCmrgc4nVOgw', 3.0),\n",
       "              ('N6MzDoao6s68nAIW8vS9dQ', 3.0),\n",
       "              ('YRyYbOSwvHkZsZOLv98oQg', 4.0),\n",
       "              ('WRQ-9LluyivReFiQZFUujw', 2.0),\n",
       "              ('grlL6zmHBOer9rPycsRhBA', 4.0)],\n",
       "             '_uOQ0tNajYlEx1eWMRJ_jw': [('_6mvQX9x66oz046eS5ii8w', 1.0),\n",
       "              ('4a9Rypytzdz9NZuGMS2ZYw', 1.0)],\n",
       "             '-TqfW6XFFUuIJDGPY9K0WQ': [('eTXYID00jGxq1vZpntBUFw', 5.0)],\n",
       "             'iLWekCLvVR2dZKl7cZOn8A': [('5OZlLXjU0FXUbrw8Scja6g', 1.0)],\n",
       "             't8a4wTKqHjF6b_6VqBfr8A': [('Co4cQNWyAYv7Hw8jKcEKJg', 2.0)],\n",
       "             '4bzmVkWNOOmfE4uDVPL3oA': [('7pkiQvVfcsa-wtBEeNHHUg', 2.0),\n",
       "              ('TCoBE_BkDRrK0bWrh5VueQ', 4.0)],\n",
       "             'NeX56TuFi7p97SeEwqGV4A': [('o5HvvZfYPo1nZ5mB52x2ew', 5.0)],\n",
       "             'UyLGpOfxgD9jCbwqz35IJA': [('v7jTlmm06g0uwdpvCvbqbw', 5.0)],\n",
       "             'Gab1_sLsjJLAJojoFd-d-g': [('C2T7ecxqsVu99PhSqT3c3g', 5.0),\n",
       "              ('UeMt6BCYA_ETI67HcYK7jQ', 5.0)],\n",
       "             'CAhXVQq5t07Xf-KKT6RYAA': [('svFq2-4Yv5bIXtB2EK24Ow', 5.0)],\n",
       "             'U5YQX_vMl_xQy8EQDqlNQQ': [('V95ARVcaqxEcdW0Hp_uN-w', 1.0),\n",
       "              ('LL7EY-YARSY41n98P9509w', 3.0),\n",
       "              ('zudyhTjzjbfMbd2nlKl4YQ', 4.0),\n",
       "              ('vazCBq6DH9LnCQ3cH7E4Og', 4.0),\n",
       "              ('mk7xgXuTVMfv4sH7GD2SoA', 4.0),\n",
       "              ('YAkGt01m776IpZ7KFdnQDw', 3.0),\n",
       "              ('HQpMwOOrGND3GaRqMNV9ig', 4.0),\n",
       "              ('GEvolb_U74NXgfgdxrVtyQ', 4.0),\n",
       "              ('_mqq_v8JdyPQ3ARitdHQUw', 5.0),\n",
       "              ('V7yAOHrHqoSwcJX_8q17QQ', 3.0),\n",
       "              ('ed3DtCasPymHqJ_0EKzmKg', 2.0),\n",
       "              ('ViJGzET7fBMShhIgKew2Bg', 4.0),\n",
       "              ('mES9E5K4HbYoPFXGv0pUuw', 5.0),\n",
       "              ('L8uEKwWOu8SymcGIpFfAww', 4.0),\n",
       "              ('9UTpmQ4OhX5jNFUIu7dPPQ', 3.0),\n",
       "              ('EJHDhuxYQNWhSENrWX6OHg', 4.0)],\n",
       "             '8AekA3OGs1a6-TA5cz2pNw': [('zxSfGIhK3hH3vVz_pS5eaA', 4.0)],\n",
       "             'WeVkkF5L39888IPPlRhNpg': [('NuIeYLuizjkzQz-33s0Jgg', 4.0),\n",
       "              ('pZyysYRFHP0oCOf6e1bVuw', 4.0),\n",
       "              ('A1Xgwse4245M7bTglE5jXA', 4.0),\n",
       "              ('CsS9WsonGYyE3vINi5bxSg', 4.0),\n",
       "              ('l57pPj8XxRxmzsplMCeV9w', 3.0),\n",
       "              ('TxNeo206T0jMvRRQ4nKSIg', 3.0),\n",
       "              ('c78Pat78fVUBFPXYeVvbaQ', 2.0),\n",
       "              ('R3FZENdOY_TTKykKsJIuRA', 5.0)],\n",
       "             'b4Xi0a8JqtmE74_aga9QpQ': [('kBJ3pnyWEhZ3WKYN0dHB7w', 4.0)],\n",
       "             '7W0ck0z7iwUydHrQmKFsxQ': [('Wxxvi3LZbHNIDwJ-ZimtnA', 1.0)],\n",
       "             'DHC7GUkhTIZuDw8gtgU-FQ': [('YF4QJ_j-PM7cMZja6K1MwQ', 2.0)],\n",
       "             'TTb0QfdF9eZVGUirhkQN7Q': [('coGEHGuUtnABP7KHgGlmRg', 5.0)],\n",
       "             'L9ZJpCQgXzfNXiJI9ahyZw': [('Nb3hAuv8OkpFgSImYdt3Rg', 3.0),\n",
       "              ('NyLYY8q1-H3hfsTwuwLPCg', 4.0)],\n",
       "             'Px6w_kTNBuy0GceThHnccw': [('FhIeCF6QrsLaRvAeu0oEPQ', 5.0),\n",
       "              ('FhIeCF6QrsLaRvAeu0oEPQ', 5.0),\n",
       "              ('WU4wM-uD1INThG6F3sGzCQ', 3.0)],\n",
       "             'ssTOI7wBj5jJlBmBjr2bbA': [('XXW_OFaYQkkGOGniujZFHg', 4.0),\n",
       "              ('QRAmGlMF7_sLq8YZ_L1POQ', 4.0)],\n",
       "             'SS3sFA9ksCT9bjocM3Wbug': [('isw3cS3hOKdKeBgi3lF3-A', 5.0),\n",
       "              ('IMLrj2klosTFvPRLv56cng', 3.0),\n",
       "              ('nQD284VfImPe_UXkmq4yaQ', 2.0)],\n",
       "             '0K4-ezsJnuwOTbc1jbtCjg': [('TnNbQml38Y44OyUw2WMPLQ', 5.0)],\n",
       "             'ZnF3Bl0UOgRzTwoa3GyhWA': [('5nyKUHibR4GCs6ojVljFdA', 5.0),\n",
       "              ('5nyKUHibR4GCs6ojVljFdA', 5.0)],\n",
       "             '4ZQq0ozRs-gXSz1z55iIDw': [('sOYsxYYFl03PhHmz_rBDZQ', 5.0)],\n",
       "             'yhjCbFWrvvVWJZMqGdZnFw': [('r395lMbm1ihAQ2sMOcFKow', 5.0)],\n",
       "             'L4UgSwUrRC7xz-7vEazHaA': [('q9_gLvTNf11etVxbH7JY0Q', 5.0)],\n",
       "             '30qb4U-RBJF4cifdDZwwlg': [('a0v7Si0DK4cIko7AQY4YXg', 5.0)],\n",
       "             'JGJbEfWUVixTnyOYp_0NlQ': [('momwgw47Pkkbz9ciHQLpsw', 5.0)],\n",
       "             'FNwsr0lV5OdRxrKequYKKg': [('N0apJkxIem2E8irTBRKnHw', 4.0)],\n",
       "             'PmXLzbOSGbpjAAyOCDteWA': [('09pf_DnQV5Y5y2reoIPXlw', 4.0),\n",
       "              ('CZKkoMlqu0N0zCFK-3T_Fg', 5.0)],\n",
       "             'TYNaC-oyyfshPP6_C43gOw': [('b1b1eb3uo-w561D0ZfCEiQ', 5.0)],\n",
       "             'xTKbpQZDAedWcfbQUKhEUA': [('_MVSmAYSl4RkgXBg5e8JaQ', 5.0)],\n",
       "             'OEuMYLAXqazfOpUo86DZ8g': [('-jePq6K_BVavVRZnCuTCHw', 5.0)],\n",
       "             'X7mVSZxStPxD4GbN_29pYQ': [('MfgewgMdqCx_JWk--6PgfA', 3.0),\n",
       "              ('yNPh5SO-7wr8HPpVCDPbXQ', 4.0),\n",
       "              ('gomzC2CMt6MD_ykOSGwdDA', 4.0)],\n",
       "             'CxP35AJaKLQbyegujapyxg': [('NPiLy71qqXzb45k9eQOgCQ', 4.0)],\n",
       "             'cma8Oxxf1Eg20eJjOuAhrQ': [('g8oxQ1Ji9mr9PMjhEfaWSg', 5.0)],\n",
       "             'u-XPmzToRCZGrdVylu-Ypg': [('SVGApDPNdpFlEjwRQThCxA', 5.0)],\n",
       "             '9ktB1WEZx6ytMsRxRIMiJg': [('LPMZ9N1sAjs2nDx7DmiZ2w', 1.0),\n",
       "              ('XqKJ6PHxt7fbUptQe_SJcg', 5.0)],\n",
       "             'U0WU9d6gpMNkO_tPXK58Sg': [('su5sBvJrgaD5Sh1SnvYzkw', 4.0),\n",
       "              ('mZkenbcxoR0ZObDgctD4fg', 2.0),\n",
       "              ('UXauVhawknwlatK5SN87yA', 4.0),\n",
       "              ('rvnTFEq7R2ZHg0_CYbBNFw', 3.0),\n",
       "              ('in0ZHvYxzW479icf6-o5Og', 2.0),\n",
       "              ('qQXc9D6PV1Y8RhIBZpj-Jg', 4.0),\n",
       "              ('uOTA1dAquU_CviYJVrQBkQ', 5.0)],\n",
       "             'ba_14CiaLubUe39mZsTDCg': [('sdjkEXdhbSO3QOJpOvLKkQ', 1.0)],\n",
       "             'MMPsUlZKy3_IoyiiqoA-Xw': [('Qb4sJ4ssSX1clY2wEAOmsA', 5.0)],\n",
       "             'NsYNI_NqDeERp8sR4TMilw': [('4yIOZXIYJiQlkqW_MUtVgQ', 5.0),\n",
       "              ('3b-jZX9Ms0U9B2Oy_ZmNMA', 2.0),\n",
       "              ('EhtKeNUGGWnjsCLIhCD1jQ', 4.0)],\n",
       "             'o61SeRawF3Egc1L7enm8ag': [('nWx5GEaJ1dpc-psAbG_v5Q', 5.0)],\n",
       "             'W-sq3lr18TNcfAwKjzU5Jw': [('Wxxvi3LZbHNIDwJ-ZimtnA', 4.0),\n",
       "              ('K4z0ODOZNuN2uRnL4IwApw', 4.0),\n",
       "              ('1Df5WnLX3DqN6ymlhqznaQ', 4.0)],\n",
       "             'xZDovqMdVGNOmjKK83VbUw': [('mswelTP1cQiuAps2fSGuBw', 5.0),\n",
       "              ('w4yq1IRk0DHQE995giqjGg', 4.0),\n",
       "              ('OVTZNSkSfbl3gVB9XQIJfw', 5.0)],\n",
       "             '7LG4zkgW09ekBbYKtnWYiw': [('ypkahHKiFXaZhrEzNZRvLA', 4.0)],\n",
       "             'b9PeBF--x6rk22mALxMO7A': [('4aAf2nAr86lcDHzqWSaYuQ', 4.0)],\n",
       "             'wT9qeEkn72PCIxRet704Iw': [('lkM72Y21bjBqUGaW7iL7tQ', 1.0)],\n",
       "             'MMeicSIVYTzJVUIxcGqHlA': [('SyXRHl0ewl-Yu2mkf1EZfw', 5.0),\n",
       "              ('5mTOBaADm2gfO_jR8PVkTA', 2.0),\n",
       "              ('LPWMKKcGeWmJgf8t_TIcYQ', 5.0)],\n",
       "             'oG34tQ9DhUrq_Jbm3Bs6aA': [('qQCsLGMncJp1xWUGnOKCQA', 5.0)],\n",
       "             'oJghgAO224BJbz7qrFURXA': [('SVGApDPNdpFlEjwRQThCxA', 4.0)],\n",
       "             'yuUVhbimMW8zLW2eVtsbPg': [('faPVqws-x-5k2CQKDNtHxw', 2.0)],\n",
       "             '2Pc8AfZPDw_HNDBrAF5KmA': [('N0apJkxIem2E8irTBRKnHw', 4.0),\n",
       "              ('yNVcnSaMSrTmjJBMrHTy9w', 4.0)],\n",
       "             '65yB0ydGXOZ_-T6J_GbKfw': [('FM0h7JHdthhnc50vgGWzpA', 4.0),\n",
       "              ('MGsV9nuGOr9fxtzJPwq8Ig', 3.0)],\n",
       "             'JnPIjvC0cmooNDfsa9BmXg': [('tLkDUsWzg6WAvtTU0pjjMw', 5.0),\n",
       "              ('zV38gkkEeJ4cVRlSWWQTfQ', 5.0),\n",
       "              ('-ug8U8rDNpW5s_4qCowtzg', 4.0),\n",
       "              ('ejKXczjEkm1gzyRdblQm8w', 4.0),\n",
       "              ('KMWaFPLvtY-TCOoqMmkoyQ', 4.0)],\n",
       "             'UGjV8dDechaxUmbbiOys_g': [('S-oLPRdhlyL5HAknBKTUcQ', 5.0)],\n",
       "             'UEAsK7xA9R2LK-TYOpxTdg': [('sdh27i5q0EcAKagBDNQw3A', 3.0)],\n",
       "             '7cQeGWqTfQcg2O8WmjwIAg': [('vx4YAA02Qz6khRD1fZ1MFA', 4.0)],\n",
       "             'DnUkhQfTU_tCDM8fpLYXNQ': [('thLX_k20SPJ0KyusGTBIHw', 5.0)],\n",
       "             'o2OJI1mHZJcYEiEb6LI4WA': [('gHoP4eJimaMltfUlp6EP4Q', 4.0)],\n",
       "             'TCw6oXWpRAcG8v9LCoGgnQ': [('llNV5bhffhnGOZXPkDq-jQ', 5.0),\n",
       "              ('iE71iwcSljg3xm2GB2Y9aA', 5.0)],\n",
       "             'b0JT2FaZz4JTr8XA787QJw': [('KEGLWeFAWXvo0W2LnujhtQ', 5.0)],\n",
       "             'unEY79t6hHECP9Yd58R1dg': [('_v7lMUtdd6WlgKUEBLA_VA', 2.0)],\n",
       "             'yK6wyLZ2I66B5-MJcS88xg': [('vnIdWzIB2W4j9cDcd6tHAQ', 4.0),\n",
       "              ('TxNeo206T0jMvRRQ4nKSIg', 4.0),\n",
       "              ('OvpsY22rHaYWBCRjGjVpZg', 5.0),\n",
       "              ('mk7xgXuTVMfv4sH7GD2SoA', 5.0),\n",
       "              ('V2lhqmmpe3G51WDOfhVQXQ', 4.0),\n",
       "              ('hFbhRTodMqG2FAf0UWjJQw', 5.0),\n",
       "              ('NgQmlTGtYUQHJbzUBBHvfA', 5.0)],\n",
       "             'Y_8Z_GHldJE3PED2jroAUQ': [('nyXL5Hc7VopriuxA7rIvqA', 1.0)],\n",
       "             'KxJA7R3wM9IANSNJ4tlFOQ': [('6Hnf8Vk2BOuyDf11PZdvSw', 5.0)],\n",
       "             'u3AFL7HNGa7sUNWzoA0YRw': [('YBE7FO11s32f6BEpTAJ5Rw', 5.0)],\n",
       "             'A6PXHmXSPw6YGKGkOuKIgQ': [('0xyqLvtr0Zbr4G-gML-QmQ', 5.0)],\n",
       "             '0trK6Ewruc9Dn2OUvyTxog': [('wUKzaS1MHg94RGM6z8u9mw', 3.0)],\n",
       "             'Du_IfiiJLU0ReeRetapkzA': [('9yrAfE46k-_kqg4ULHu8Vw', 3.0),\n",
       "              ('YSUcHqlKMPHHJ_cTrqtNrA', 4.0),\n",
       "              ('BoE0oTphOUxk3sIvuj4YcQ', 3.0)],\n",
       "             'VsKKGKX3pOiApq5SIZ-J8Q': [('XXW_OFaYQkkGOGniujZFHg', 4.0)],\n",
       "             'UHmNSbG_vE1LtfTB7A7aig': [('CZKkoMlqu0N0zCFK-3T_Fg', 4.0)],\n",
       "             'UHXBDv5xrPnRfcpPOAufcg': [('5renm7L6gBnRkDHoPQVW3w', 3.0)],\n",
       "             'wC4m12nTRaUoA-fQWFXlpA': [('PLVJCN2p1MIkeDzIbAx9kA', 1.0)],\n",
       "             'sMm9HOXmBgsBmCKnOmLwyA': [('CxE5OE_t29h_wqqK1BsoFA', 3.0),\n",
       "              ('ZxR9HNk0b7ZIq8kMiDEIDw', 5.0),\n",
       "              ('HhVmDybpU7L50Kb5A0jXTg', 5.0),\n",
       "              ('TRlBYLf4CxFBaGE-9FLOtA', 5.0)],\n",
       "             'l8BHjNrVPuispYl_RRtD1w': [('g38NqtZvSJ3lHt1APN13aw', 5.0)],\n",
       "             'tu5_klECRM4vTyqmZKI0zw': [('lv5Bnqlt93NnvNJ2oNcQ8Q', 5.0)],\n",
       "             'iE2bjYDiGcYlTc9Nh0oKQQ': [('anzCdD5eIEHwydTpXhLlUA', 5.0),\n",
       "              ('GhOWffUr9yDBxB5Ceqzc_Q', 4.0),\n",
       "              ('XUA7xA7myMaCuN6G3xYdIA', 3.0)],\n",
       "             '3KEHmthOP_mSk40zJ4gANA': [('OVTZNSkSfbl3gVB9XQIJfw', 2.0)],\n",
       "             'SdXxLZQQnQNUEL1rGMOQ6w': [('5922_DJ8lQXaJva0XOlyXw', 3.0),\n",
       "              ('Do_mgaoCgrQodPrq4nxRbw', 5.0)],\n",
       "             '3OO-fEjW130Ao6CaFhCiGA': [('nZI9Lvo_qkJH5epaFJ3XvA', 5.0)],\n",
       "             'BD1Gft3aW2smo-DSfbWwqw': [('XDYCIRENiT2doRZgwNJ3SA', 4.0)],\n",
       "             '5OllWsrKJsYo3XQK6siRKA': [('UGy0QULAPPRcOUJQSiRmGQ', 2.0),\n",
       "              ('2hSIeCX2cV-chFcBBXrZZA', 5.0)],\n",
       "             'HjIEwmJUroTOhJKysPSZKQ': [('o7_Rt5wG7xnStgkJiWaGDw', 1.0)],\n",
       "             'Jl7wukjs3Y0WSQOQQ1vkgw': [('_pBXtjN43eqMV0XZTz7nmw', 4.0),\n",
       "              ('PjEls_NCOQ0m4tJPvcTY8w', 5.0)],\n",
       "             'WhSfLeqWgRMH4mvPfJ96FA': [('GCRvrxMSC1nzShyM4Y-guQ', 5.0)],\n",
       "             'ENQ_9ftK5TIUuObdjZ5Nsg': [('cHdJXLlKNWixBXpDwEGb_A', 1.0)],\n",
       "             'KNsn_svIeQP6utMKcazLlg': [('ihheHS4noJayWgECQpeJ_A', 4.0)],\n",
       "             'mPb_rzKd8JoapJB9dkEjdg': [('3qTSOuJ-ZyU1L7o62KHSIg', 3.0)],\n",
       "             '4choKWfSnfWqfRg2Qmd96Q': [('OIdOJaNS8M624F58XGV3PQ', 5.0)],\n",
       "             'vDzJZHf1uF63LoG0DFZn2w': [('GCRvrxMSC1nzShyM4Y-guQ', 4.0)],\n",
       "             '5uiCy0vSIknuDEHc7yHRkw': [('SkO0Kd4_bO4VWTzCa_k8_g', 4.0),\n",
       "              ('LyuDnoxI8yiPPmwcF62bfw', 3.0),\n",
       "              ('F2F6rJ_SPo-lUhJ_AmufLA', 5.0),\n",
       "              ('IsIKU8ndr3aU5sFTb4LuPA', 4.0),\n",
       "              ('5FIOXmUE3qMviX9GafGH-Q', 5.0),\n",
       "              ('sQ6DZZLLJRfwUr0eDWKDDg', 3.0)],\n",
       "             'sZOmeBympC-02uiguVO3yQ': [('S-oLPRdhlyL5HAknBKTUcQ', 5.0)],\n",
       "             'fiFK3jIWiMC-Kc7S8bdP7Q': [('IyVdd_IqwUtzQDTxw2W9qw', 1.0)],\n",
       "             'NJVAx6rBKOjkiNQNUK_iFg': [('kIrjc7PrdoSpEubQ_aszdw', 5.0)],\n",
       "             'Izigq3SiKVrU3p6bG7xgPg': [('Kbbm6Vd5UdbP10dwjBghRw', 4.0),\n",
       "              ('fOq7DDqqsVm2XOFSL925XA', 4.0)],\n",
       "             'CRsmtCm_z-BD-azGxZyHig': [('cjatara6LkXRu2BXD_jxlA', 4.0)],\n",
       "             '3mjNmDtmpdZkwLZPOLXKpw': [('vyDW7_CHhDUJshMqaSjj0g', 1.0)],\n",
       "             'MOe8MNQepZ5EX6o3-nz4zw': [('fqeHgAtcUxp2ocf_RLErkg', 5.0)],\n",
       "             'JV7iI0OuC15zjyjRLq-slQ': [('92Xo9ZPTEqIslNKrvRJrbw', 5.0)],\n",
       "             'g6gTSnUKZIxLZPQVrFKscw': [('6MKdilxYLP3W02wnu3UFmQ', 5.0)],\n",
       "             'pT8GHieXZ2WOgT8m29LoUg': [('nqgeTj6bfIMY0v2J-vZa8A', 5.0)],\n",
       "             'fCExFIeu2BT35FSx2Yz2aA': [('XwV2-lISDp_5Acy72bA8Qg', 5.0),\n",
       "              ('O6-BlCviQBIEcGW4ll6ZsQ', 3.0),\n",
       "              ('qGjK6m7v-01IPE1o9fCvPQ', 3.0),\n",
       "              ('54WM5coZonA0izd2y04p_A', 3.0),\n",
       "              ('nQD284VfImPe_UXkmq4yaQ', 3.0),\n",
       "              ('rIGPzxycWfmGQS3RHpVaNA', 4.0)],\n",
       "             'awB0KEeF9mq_eb-l6tvEKw': [('YBE7FO11s32f6BEpTAJ5Rw', 5.0),\n",
       "              ('TCoBE_BkDRrK0bWrh5VueQ', 5.0),\n",
       "              ('HZdtHOEaKUL2SlWj5owgCA', 1.0),\n",
       "              ('5tO2Dxqaq-osIQcKQtIF5Q', 5.0),\n",
       "              ('t2ujQ_kfxB6lvVfv8lHjwg', 5.0),\n",
       "              ('n8Zqqhff-2cxzWt_nwhU2Q', 5.0),\n",
       "              ('Yiw2jUJzUdFmglHZgj4RaQ', 4.0),\n",
       "              ('Yiw2jUJzUdFmglHZgj4RaQ', 5.0)],\n",
       "             'oW9PoxLCSMwZ6EEjKuPNjw': [('EK38MXW_OsC5CZVvIZodIw', 4.0),\n",
       "              ('Ycp3Agr7dt71TZkeKV7jng', 4.0)],\n",
       "             'X0TOJKkzMgiEbcMt7N7RBA': [('70Bti9GmBOv9jN_peapD7w', 5.0)],\n",
       "             'hXwZ7oH_AT7APXqomRLt-g': [('r5PLDU-4mSbde5XekTXSCA', 5.0)],\n",
       "             'ThKJPBefSk0n6TCujeLTkw': [('hDD6-yk1yuuRIvfdtHsISg', 5.0)],\n",
       "             'KECc6co0Km5K3HjMlSQCYA': [('XXW_OFaYQkkGOGniujZFHg', 5.0)],\n",
       "             'FKlGj3CRvFAIBjtyN3iUug': [('-znjWwaNajYumGuybVu-dw', 5.0)],\n",
       "             '8W1l2N8RXiIXqUTVh_U64A': [('e0lS5SoozffJdgEfyuYIhg', 5.0)],\n",
       "             'Ol44aMLv0s3EY9hkIW1EYw': [('gU9_PUEdOOoBaSM49SRObg', 5.0)],\n",
       "             '8I5AcN81VwKkSzCDAfKJ-w': [('d8lmIZIqmBC9oPM8y1dc7Q', 4.0)],\n",
       "             'WNbVCtfq2lGMEwLDXyyd6A': [('jlpseJr1CS8aCMieENkQ8g', 3.0),\n",
       "              ('7EZ4Eu7YJ1ltRCC5jXFJrQ', 3.0)],\n",
       "             'ZiO2Wr41kZ4Vz64aheBFPQ': [('mz9ltimeAIy2c2qf5ctljw', 5.0),\n",
       "              ('vx4YAA02Qz6khRD1fZ1MFA', 4.0),\n",
       "              ('2hSIeCX2cV-chFcBBXrZZA', 5.0)],\n",
       "             '7ONuU_6euJoF1w3xfvEL7A': [('wMN68wTTlu8hADAF3FkKTw', 1.0)],\n",
       "             '2ZAGNRs2kmUk1H2BOW_3OA': [('FvVSy2r7_zDEhZWqLgjXNQ', 4.0)],\n",
       "             'HS8r35KuAtvYk5Xt3if02g': [('M95OX2nED7rjPxOURJtOCg', 3.0)],\n",
       "             'de0baOgDoE2MAAr6i8Ogxg': [('glkEaoxbewiSMBiXs945JA', 4.0)],\n",
       "             'BXxN0me48Pks4Q57owN5jQ': [('-lJtyCOTVInWusU9YF120A', 4.0)],\n",
       "             'HJj82f-csBI7jjgenwqhvw': [('KXO9aGAOWAJEmHD_d8yQ7A', 3.0),\n",
       "              ('eVJGuoslmQyurMlIgc6MiQ', 4.0),\n",
       "              ('cghHesD2NXV5yUu-ZAxE2g', 3.0),\n",
       "              ('s6NlcpD-dLM4U7Q1T9uxJA', 3.0),\n",
       "              ('sk0stgY4NDJYOX1MbNJ3Pg', 4.0),\n",
       "              ('UwanDENbM3PYTpkKqJD4WQ', 4.0),\n",
       "              ('rLN-jsC7_SfQkxDEMeDBwg', 4.0)],\n",
       "             '4WWiCUkZ0Fft3y3qD4ebvg': [('Voy_shxcm2YnHQOtfUj1KQ', 5.0)],\n",
       "             'TAJjurJ9bv6q56LJHehB3w': [('MYB1ZMspBk1Xc_awp_PtSw', 1.0)],\n",
       "             '6e3oMOiqlSKX6kaEgoDjSw': [('4h1MHwFGWEx7H-KiHonEkg', 5.0),\n",
       "              ('tMYYSWyTppDcF070Hmy-kQ', 4.0)],\n",
       "             'A3d7rJkB0lB3mDqIrfxfLA': [('qkoDky591Z6K4IYhlbt-Nw', 5.0)],\n",
       "             'o7uWhUQkR22qMBizmU8O1Q': [('G0KaActEId2wz0-fQMPKPw', 5.0)],\n",
       "             'Qx54otvZKuG0VJXK1nme0Q': [('31CsUV4qPnFleXR0aV8OPw', 5.0)],\n",
       "             'rPSE7ZUq9qPw3O6Jbr8xPg': [('dUffgo9Lh_Vk9TLuFR5ywg', 5.0)],\n",
       "             'PN9sKTB4ThMnyD3mffJdRA': [('eeZmALTX-rhRw_8CEgAm0A', 1.0)],\n",
       "             'weKkZFC3jF23rftrCOigdQ': [('HhVmDybpU7L50Kb5A0jXTg', 5.0)],\n",
       "             'qh_IPvluQmI1jgqNrAyeuw': [('_S3w4vjlFUkgx56Ji34Jpw', 4.0),\n",
       "              ('0PMKMyfX1j7Nc4esk1RaMg', 4.0)],\n",
       "             'rnU1EFMSnVJGrQxrnjaODg': [('OVTZNSkSfbl3gVB9XQIJfw', 3.0)],\n",
       "             'Rk3KKBmL7coOI3qEs5JzlA': [('3_STYcEwVsieJPo0GWjxLw', 2.0)],\n",
       "             '4UHBndk1j0GsN6NOStpAdw': [('cXHKyZfuaObtVi10hQqLcg', 3.0)],\n",
       "             'pZ4Co7mZ4h6ghEFP2Vs5RA': [('WRQ-9LluyivReFiQZFUujw', 3.0),\n",
       "              ('denOutmcto4xiKG6yXfA6g', 3.0),\n",
       "              ('JlEy8FH6123SJBoNwG235g', 4.0)],\n",
       "             'nf2VGfojsiRYAa3qtTFYZw': [('bXoRrDhojAQ1B3nGNEs7wg', 4.0)],\n",
       "             'HWLr60IBXAy9HD23W3Xmfg': [('-aCILM57ntaizjMusHld-w', 4.0),\n",
       "              ('e59uNE07Gf-yrIl4rX3KZw', 3.0),\n",
       "              ('cisqOxAgQPjVVr9Yzk8_dw', 4.0),\n",
       "              ('i7_JPit-2kAbtRTLkic2jA', 3.0),\n",
       "              ('TMI7DZ7Bng19adXy32E5UQ', 3.0),\n",
       "              ('esnvHQxunLTAckQpntqbCg', 3.0),\n",
       "              ('H_YBTOS23PRhrjWtP7TeJw', 4.0)],\n",
       "             'sRaAFaoxhE-SMYU--cyIlw': [('inmTREKp8fhw_WOv284DrQ', 5.0)],\n",
       "             'boUeEOeiGFR1G1d0cwbwiw': [('9Q1ZtzTPFWG4fJiFSko5Xg', 1.0)],\n",
       "             'nUgneBH3fWjt2kMAHvNIww': [('ujHiaprwCQ5ewziu0Vi9rw', 4.0)],\n",
       "             'PJh3M6pd7i-7jo-5sB5Wog': [('JkncPZ1jFi0_n23Ptl8jGQ', 5.0)],\n",
       "             'RdTdVgd9u58BA52d0eHqcQ': [('S5FTckOpSK0_Ma4c18ZEgg', 4.0)],\n",
       "             'ltv_sNogr-WYUssnKSrkng': [('d_L-rfS1vT3JMzgCUGtiow', 5.0)],\n",
       "             '5b59DMCxPWn-c2b6q50P7w': [('k-drEjxKmfqllwfY90STfA', 3.0),\n",
       "              ('9FPEg18SyYsKgbWZ0XDysQ', 5.0)],\n",
       "             'DDS1DDsKeSRt5cl8jL99bg': [('EJs6fYFdecCjXq8pCsA2dA', 5.0)],\n",
       "             'vDyImuTI-zBT_lx_qgrTMg': [('XsSgv3vBOyOBXn3Co8EVIg', 5.0)],\n",
       "             'gw3KJEuYSnBNMltKZbq_MA': [('HhVmDybpU7L50Kb5A0jXTg', 5.0)],\n",
       "             'A7cHIYhG0WQHv6ZtOVNLgA': [('TCoBE_BkDRrK0bWrh5VueQ', 3.0)],\n",
       "             'EnyPMaVsfh5gePnez6VHeA': [('QS3QxI7u5PRdtbGgI0-UsA', 4.0)],\n",
       "             '-xIwEmXcNCJ7oUeFNEUjPw': [('FgPANtTwZqXB-edLkZTXQg', 3.0)],\n",
       "             'hrYOEsw6YkYTf9joi_styw': [('QHZw2L6LV1qmExNJbfhIsQ', 3.0),\n",
       "              ('s0kM86trPEkOKv3quDnoGw', 4.0)],\n",
       "             '_scb0Wm-0SkBPLm0c-3Skg': [('faPVqws-x-5k2CQKDNtHxw', 5.0)],\n",
       "             'CBreXQbG4fROYAeI9hdjMg': [('-iFvYhgysvjkxckCr42NRw', 2.0)],\n",
       "             '_9WKSGfBn193Wl3vd7kt1A': [('O7EIj8Mee0mSMwmUpZ115Q', 5.0)],\n",
       "             'BeeCP0VG9hOx-ba0RCaFyw': [('PqcOSnCsJTT9Yd2xWKIMWw', 5.0)],\n",
       "             '2TS5duAgKRqMoo_J8uSNvA': [('Wxxvi3LZbHNIDwJ-ZimtnA', 5.0)],\n",
       "             '1W7caeZJwhQQ3BdlT2T29g': [('thLX_k20SPJ0KyusGTBIHw', 4.0)],\n",
       "             'Z4m-t4wGcy4f9MTZniszhQ': [('16Fplxu-OwVmTEFxQAUP4g', 1.0)],\n",
       "             'MqGwT7Fd9g18WoJS92Vl2g': [('R1jJQi2yR44D_2ileqr8kA', 4.0)],\n",
       "             'sa5zd7bwBQzajQB48Y9SUw': [('JjjQSlvTvGlIAta5CyA6UQ', 4.0),\n",
       "              ('y-ytZFbfRWvYma9P4g7AYA', 4.0),\n",
       "              ('qmymSqVwHYRqdwfcBatzpQ', 4.0),\n",
       "              ('IMLrj2klosTFvPRLv56cng', 3.0)],\n",
       "             'YSnVjdFeb8uCk7l-a9Dbyw': [('afc3QwjxDI79Rglr5jYqMA', 5.0)],\n",
       "             'kSbRPAIpzwcr7zAdc-9Olw': [('9yrAfE46k-_kqg4ULHu8Vw', 2.0)],\n",
       "             'Rq8K1mEPyhMWTtsU2QwWDg': [('jhoNGzkbA9iNeTJYCdSo5w', 5.0)],\n",
       "             '3gw82ABfZVOD9Yg51wTmiA': [('kFMEdURGAp4g29oaiF5Hjg', 1.0)],\n",
       "             'GG4qRCnxiChJTswr602R4g': [('OjJ4fJhnDnmVTX69xBKkDA', 4.0)],\n",
       "             'IAvanHBRqLSLl_z6Ta1Unw': [('_FP4CBz5D8V4_3dtex9_iw', 5.0)],\n",
       "             'jIA2CKpJubg51iMl9Ovzeg': [('7Ny2GHLw8xl_kXfhfrvh5w', 1.0)],\n",
       "             'GMnoRtkRUgULmclHm2vjbg': [('HhVmDybpU7L50Kb5A0jXTg', 4.0)],\n",
       "             'eWWuc4pP9W95RftX9PjcHQ': [('U5rfxvnZUupaWT_SgIV79g', 3.0),\n",
       "              ('FfJD4vO-iYUL2Kr0WWzNYg', 5.0),\n",
       "              ('j7bl2SIIewypBKC1E9oOFA', 4.0)],\n",
       "             '2K2pwezkeCbMz2nWVLSI7A': [('a4GRh1TlOVhPD401mSPLZg', 5.0)],\n",
       "             'fjGmQnaCvELcRqNOoPz-nA': [('OVTZNSkSfbl3gVB9XQIJfw', 1.0)],\n",
       "             'SSdjBvg0vgwL89NAoQ94CA': [('5PX6Ekno5-LBmQA2bA_wuQ', 5.0)],\n",
       "             'lBs1gJMPt1VYDWfPeBkkgQ': [('znWHLW1pt19HzW1VY6KfCA', 5.0),\n",
       "              ('rvnTFEq7R2ZHg0_CYbBNFw', 5.0)],\n",
       "             'a_wqlmg4BQ9gCiOzdveQQg': [('JlEy8FH6123SJBoNwG235g', 5.0)],\n",
       "             'trrs_Gttb0lWbiMGB6OCUA': [('eTXYID00jGxq1vZpntBUFw', 5.0)],\n",
       "             'GcPVrvXXGQ6KHIVgZvjzHA': [('I_WE2lVko2fd3stuzbsi9Q', 5.0)],\n",
       "             'iX1IIVWt5__u7ykkczLsRA': [('Np8MXME68JGYxJQ01lDd3g', 5.0),\n",
       "              ('NgQmlTGtYUQHJbzUBBHvfA', 5.0),\n",
       "              ('XuZqb9sVliEQuz-RuESOlQ', 2.0)],\n",
       "             '8rOyuiqDwZ2JSFzxCB40mw': [('PqcOSnCsJTT9Yd2xWKIMWw', 5.0)],\n",
       "             'agdxUaSK3MlwgeeSGGvbMQ': [('mnqJVQhLcPHtpVx_6kbJuw', 5.0),\n",
       "              ('hqtZ2NmUlrNtHp7xW2BWoA', 5.0)],\n",
       "             'sPH3aCU6gpAkhdIrd5ggLA': [('thLX_k20SPJ0KyusGTBIHw', 4.0)],\n",
       "             'h1ZPpO1HE0zz79-PMhguLA': [('2232XZ-3ub4S9cmrHJSDFg', 5.0)],\n",
       "             '4lng77gRdpRb24o91sSihA': [('ujHiaprwCQ5ewziu0Vi9rw', 2.0),\n",
       "              ('8WBHKj2davW6hhZWlUQ7DA', 3.0)],\n",
       "             'wZZVvGVOn3GcBhKbAUAnkQ': [('95OKRGypX25zoyvJYunU4g', 5.0)],\n",
       "             'KuG3alHpCNDA6PG7GA5Ikw': [('gp9ZESRRNLqWfgJtEzPThA', 4.0)],\n",
       "             '87-KPVeEqoMpPez8d26jKg': [('fuukQ0bggEEBKVYn_e3d7Q', 4.0),\n",
       "              ('Ycp3Agr7dt71TZkeKV7jng', 4.0),\n",
       "              ('fqBnZxSkG287OOyU9LvTig', 5.0)],\n",
       "             'ma6ynLqZ44chTNNuh1uCnA': [('Ndd8IYE_9rTrwHygA5AMwQ', 4.0)],\n",
       "             'Kj9cFO70zZOQorN0mgeLWA': [('NYsh17F0sWm-e7fVdm2CSA', 3.0),\n",
       "              ('NtiBsNppXU0XS4zM89dphQ', 3.0),\n",
       "              ('KYmWLtWOmPe7yW_QzrYbjA', 2.0)],\n",
       "             'yBgeXBbOIU476wQPB157IA': [('ZccQNun0LxL08MpO3OMZDg', 4.0)],\n",
       "             '_GQUVEgQqCruR1kkmq9wjA': [('-U7tvCtaraTQ9b0zBhpBMA', 4.0)],\n",
       "             'oADtO7rD3qZI08QWdr6JSA': [('hLtXKwl14d2cNKj2OxJNdQ', 2.0)],\n",
       "             'x4dMlJWPH-iaNqdDoRwmqQ': [('OVTZNSkSfbl3gVB9XQIJfw', 4.0),\n",
       "              ('ujHiaprwCQ5ewziu0Vi9rw', 5.0)],\n",
       "             '7cVR9RWIxZ7I3X3-R_R84w': [('oiVpyFXOAdQUHvQLwr-58g', 4.0)],\n",
       "             '825Ol4rTvAZnUyFMke37jA': [('zvQIEpJUmLLmMMffNntHXQ', 3.0),\n",
       "              ('OyTSs71uXNDeC14zsPA5jw', 5.0)],\n",
       "             '-RhRXVW9z9fs5zzxhFfnHg': [('mIZRTk10-YmWRVaxhC1hjg', 4.0),\n",
       "              ('W-5cdzVAeRv0EtAeed4tqw', 4.0),\n",
       "              ('_S3w4vjlFUkgx56Ji34Jpw', 1.0)],\n",
       "             'OS5Qgy_Jr0ksYieIE_X3tg': [('2HxaDXZmAOH6LiuzGgNdPA', 3.0)],\n",
       "             '6AOD3zm1dsxUL8A8KrALHg': [('2s2ww6WaulfOEI16s1uyDg', 4.0)],\n",
       "             'CXVMRsnbuuNKetMy_gAyBw': [('yHBhLawYmIthUPLbUXK5kw', 4.0),\n",
       "              ('RrXlDMjW30v2KatCxOobdQ', 5.0),\n",
       "              ('dJuxA0paONof3QiMAN8d7Q', 5.0),\n",
       "              ('2DUdvdQE8FOxCHHp59HHzw', 5.0)],\n",
       "             'Zv--VgcfkL43aiFSzK1kWw': [('VsRAIb4k5CjEF-3l_bac0g', 1.0)],\n",
       "             'Z6QMLvzwiFKhFe_AYO0Csg': [('cIRhIB0bXGYRijNMdOMomw', 4.0)],\n",
       "             '3iltib66FjmgQAwSIeJoYA': [('4bWL0jRWzvI23Iv_3x0vvg', 5.0)],\n",
       "             'byX6qmFT7Uoqaoc3H3tVJg': [('lkl4pKmXf453lVlKnYC--w', 4.0)],\n",
       "             'Rzb7gsk1tFbs5WwDHwrpaw': [('Kz4WS00PcqOJgxfZawk4dQ', 1.0),\n",
       "              ('R1WaNU6vQ6L0YGwr30t0TQ', 1.0)],\n",
       "             'v2WrKPkRI1TikXDKAi8VFw': [('S5FTckOpSK0_Ma4c18ZEgg', 4.0),\n",
       "              ('S5FTckOpSK0_Ma4c18ZEgg', 4.0),\n",
       "              ('70Bti9GmBOv9jN_peapD7w', 2.0),\n",
       "              ('S5FTckOpSK0_Ma4c18ZEgg', 4.0),\n",
       "              ('EYBA2MQUm1xkWRfo1rXaQw', 1.0),\n",
       "              ('UO_62NNq1pKY61teaoN2bQ', 4.0)],\n",
       "             'OmgJ7oBRls2AoLmHOJYzNQ': [('pPsFGyadMIIwYPYs0vhT-A', 1.0)],\n",
       "             'MYsSMUH4336UUZRUpjoMGA': [('sWwCwjsd27k0Y8m1RIWZEg', 5.0)],\n",
       "             'Aw8AQQLTyltq039kn_ah1A': [('mLg4FenOcHpXZnW67QrVxw', 5.0)],\n",
       "             'o5o4lNPxZmGpgTGLTdIRqQ': [('ZhLSAiRj9kANxf8m2SBfRA', 4.0)],\n",
       "             'DCAKyYwrhKEbxT8XIfPIeQ': [('N9Q2HlpqeG2NKbvqJI-REw', 3.0),\n",
       "              ('dQj5DLZjeDK3KFysh1SYOQ', 5.0)],\n",
       "             'n783j8R5wNKLOyaRVTAyNA': [('I2RlBxknzpUEiyWgu_1tog', 4.0)],\n",
       "             'byzQb1GqhV5dPR0CVxGzGA': [('faPVqws-x-5k2CQKDNtHxw', 5.0)],\n",
       "             '_hmfxsuPi8OWsTLmzVv9dQ': [('YILyHegzhy1vlc_LNVfObw', 5.0)],\n",
       "             'z40pOKY4ZLJDa7fghGvp_w': [('gSdNk7XZ0ytt9ojwuVwJdA', 5.0)],\n",
       "             'hacmAf4_f7LQ7BdfSbsPMw': [('44pzzXXYBtbC0QxHFosagw', 5.0)],\n",
       "             'WVRk0mW89P-CeirUKi1z3g': [('BAnkejp9fakD_S8AQBGG5Q', 1.0)],\n",
       "             '7l4fMRDnwBGOm7WDePdcfg': [('2DpB16ZgO7ZEtXKl8u9XDg', 5.0)],\n",
       "             'EoDVa1xeOQVzfVSeCJZPbg': [('rTZVcJZ8G80i6NjLw0SW8Q', 2.0),\n",
       "              ('BhueLLvA0k9G1Lr0WeZX9w', 5.0)],\n",
       "             'TX5kwQLpKUDvNf4mfdaH3Q': [('cisqOxAgQPjVVr9Yzk8_dw', 4.0)],\n",
       "             'A2N4y0VeZ-3TtmBVCSVVnQ': [('9edPSkfXKsJmkZYIaOmA7Q', 3.0),\n",
       "              ('qMvFVGxwsr17Fq2JinI-zg', 5.0),\n",
       "              ('5TX8o0vsxFsu9_QPhoeI4A', 4.0)],\n",
       "             'd3EqggaHzuON2t7k1Z30Fg': [('HQpMwOOrGND3GaRqMNV9ig', 4.0)],\n",
       "             '_9pJ_HGXB9IM716L0sHcng': [('TwYdL1qY7FFBl1BqCo-CJw', 5.0)],\n",
       "             'RNTYyJYUFDdQxGS0h5xiTA': [('BqlN9J6SBR3cOCWUqiHdhw', 4.0)],\n",
       "             '4ULUWqda23gUl_VylJ2OAw': [('XwV2-lISDp_5Acy72bA8Qg', 5.0)],\n",
       "             'gQKOn1hrC_z3J5tXRKUFtA': [('yNPh5SO-7wr8HPpVCDPbXQ', 4.0)],\n",
       "             '2gQiPBdQFZTKmbfNzsrqqQ': [('Px56NzP2NAUH2GktqSkSVg', 5.0)],\n",
       "             'haSh72Q0MsQZUpWPeVgp0Q': [('VUtazCTIc0aoOrQprP_s-Q', 4.0),\n",
       "              ('8A8-xCeCZ3mKcpYT_P8_qQ', 5.0),\n",
       "              ('8t4RND0dQhO0MBvyuMVkKA', 4.0),\n",
       "              ('nXfTvWaTLxF1koYurYDAZQ', 5.0)],\n",
       "             'UJEJqmCwEBHf7OTaeluXnw': [('fC367v5P1BRSo0DgnpQmJQ', 4.0)],\n",
       "             'BaEmuvrVPIJ65keBLopa3w': [('7EZ4Eu7YJ1ltRCC5jXFJrQ', 2.0)],\n",
       "             'wQ3PHTdyPdtqpX56qkhoHA': [('HadzjG0pPrqH-t7Yv1MEKA', 1.0),\n",
       "              ('pZIKo5njTPM6XhwfRxXXQQ', 5.0),\n",
       "              ('cdsxkycC_xrXlOdsm5yZUw', 3.0)],\n",
       "             'kBhI7BSPM2HyRtmUcDZv0g': [('YmIYjZGnuZzqVPkFBF4Omw', 5.0)],\n",
       "             'oSN3M4_WKdlTsnpgqPDiBg': [('m7ommfJFalI47UksyX04Iw', 5.0),\n",
       "              ('8mIrX_LrOnAqWsB5JrOojQ', 4.0)],\n",
       "             'GGhUIgrbg2FzpRoNFAAJkA': [('eW2oKyb9mBzrH0l63q727g', 5.0)],\n",
       "             '_TfQc4uyJCFqBihv2tnx-w': [('QJMRAjCIuqrHGmeAZeYzOQ', 5.0),\n",
       "              ('0du8CZ9g4KoMeYTReQc3dg', 5.0)],\n",
       "             '_QzZa9SOFZQbL0xi1oiDpQ': [('BgthHqiXot2s4Sd_xcI6DQ', 3.0)],\n",
       "             'VUni6l3GhaW79-zSsd9gfQ': [('khtMC2-PQf_ylbRkWvnutw', 4.0)],\n",
       "             '3m190IWHASheEZ-j9zOqCQ': [('atVh8viqTj-sqDJ35tAYVg', 4.0)],\n",
       "             'NnEwiranYg7yo8oxnmD8Lw': [('3C0bnFhjkgYP9mWORKg6cA', 5.0)],\n",
       "             'sNnVTS6bhbzarwnsK2ZC4Q': [('JkncPZ1jFi0_n23Ptl8jGQ', 3.0)],\n",
       "             'R5pSi8oTxePndSuhJASwmQ': [('LR_99E7tVUfxqemvcGkDzw', 5.0)],\n",
       "             'mAEHjqtmaOaK5gJeuNbDZw': [('thLX_k20SPJ0KyusGTBIHw', 5.0)],\n",
       "             'Ar3nBEz2gLTqqD9zVp7oYA': [('UowplTMikVmB91hiQ_GaaA', 5.0)],\n",
       "             '9LgnOncogsW2g3Ko0M8DhA': [('TTDMJetAQKfxVzKZy4Z_2Q', 4.0),\n",
       "              ('-U7tvCtaraTQ9b0zBhpBMA', 2.0)],\n",
       "             'MW87Rf5Peg1oaKLPJiAzhg': [('LtXy1VinKWfuLFslVarKRw', 5.0)],\n",
       "             'j7j5picn8ruCOH-Ci8bBUg': [('UGyEr_PMA-v1cuim0gMPlQ', 5.0)],\n",
       "             'WhIVYnATej398KHBznS18g': [('SVGApDPNdpFlEjwRQThCxA', 5.0)],\n",
       "             'VsM8ED0_KEBCcDOph8F07A': [('nsEO3MRzYLKfgtID7gvArw', 1.0)],\n",
       "             'p5nLjLUiVLMVVBRryzg28Q': [('wUKzaS1MHg94RGM6z8u9mw', 3.0)],\n",
       "             'aSo8b495Tfjw_8Idg94Fqw': [('Q-omXDU8qadIqEvftzu-tA', 5.0)],\n",
       "             'HFoJQ1YmzpgzGjiofg_BTA': [('D_7ee6sxfuzfBLYQ_02D2Q', 4.0)],\n",
       "             '-rr8yexI0JRT_pqyNgu6jg': [('2gzB4EE7B_QEFWZtJTG4dA', 4.0),\n",
       "              ('Q0EZmATxDphzRMszNV2LVg', 4.0)],\n",
       "             'SvwZZ96YkaK8BfxuH2zk3A': [('2MkyQ4fYMS7BLaBQeYNtYQ', 1.0)],\n",
       "             'qEVzzrg5tjnmZlYmSFTCSg': [('bRntmjztJ4dFDA_LYiEECw', 1.0),\n",
       "              ('Na97mEFwClEqI0G8QfrWTQ', 1.0)],\n",
       "             'E8OePk1xwajGXLjFtzsucA': [('tEfvf1cznLZUIeTcKKpAIw', 5.0),\n",
       "              ('im8sxT2V-drSvxP17qdb2A', 5.0)],\n",
       "             'NXiiyHpHUhOuMJmzU0YCwA': [('1QJFpZxLbHbXSKohWp9uIA', 4.0)],\n",
       "             'GNvlk00TwnUti_Y1GPtcUA': [('9F7NTHmXRSY89IjeQ4-8Zg', 1.0)],\n",
       "             'IsDJ-2mMU7RknyynosmYRw': [('1C5YKGhjdyieYo_l4OpS-w', 4.0)],\n",
       "             'MoxXskpVqtNAy_OghChkeQ': [('HhVmDybpU7L50Kb5A0jXTg', 4.0),\n",
       "              ('faPVqws-x-5k2CQKDNtHxw', 4.0)],\n",
       "             'aAHteeQgZdn6RCkPEH0x2w': [('qIkgIkZQxtXClNARWe97Rw', 2.0)],\n",
       "             'eic3diMShDN1KndrdLOXWw': [('6Hnf8Vk2BOuyDf11PZdvSw', 5.0)],\n",
       "             'VzBC-Iu-3GnAFc7LA_P7nQ': [('N-n-fqNBbZQWZpjbjbog0Q', 5.0)],\n",
       "             'KruEvyf5FRRiDmB_oF_ltA': [('HykZIiaHS35N2c5_QHoClA', 5.0)],\n",
       "             'I12vZYB0Nye22AmUKeV_JQ': [('1kvrsDz_5ATKQBguHfJzaA', 4.0)],\n",
       "             'o68A_3bAJTge-ioGXHdxKA': [('aykJmEbscH3WngIhjxZoWw', 4.0),\n",
       "              ('XXW_OFaYQkkGOGniujZFHg', 3.0)],\n",
       "             'alfNnLUfV0-mZUagZUe48w': [('77h11eWv6HKJAgojLx8G4w', 4.0)],\n",
       "             'wVx6SzHAlKiXdIp2eb0KVA': [('8mIrX_LrOnAqWsB5JrOojQ', 4.0)],\n",
       "             'z_iiryCZTJl-oqA4J2Mx8w': [('faPVqws-x-5k2CQKDNtHxw', 5.0)],\n",
       "             'czTXHkBq4Sslmj1OBwHmFA': [('ZX5Vjo4JayrsWZidojzaCw', 4.0),\n",
       "              ('r8764MtYyt8JhxMvrfM_xQ', 4.0)],\n",
       "             'VaPXwMOI9zbzz__ZqUvIKQ': [('CMCAZVvZlP0ztWo6fhwnGg', 5.0),\n",
       "              ('Q9is4jcGh5FT_1sAKilu6g', 5.0)],\n",
       "             'Yg08tRMxm0eaL-rXyNIAHw': [('4oxLboB6UEcBxRwEjMrXag', 5.0),\n",
       "              ('d0N5HcdMCeXcX81hcRVUFw', 3.0)],\n",
       "             '8KZeL1zsnbPRYnmNhWvWdg': [('sk0stgY4NDJYOX1MbNJ3Pg', 4.0)],\n",
       "             'YqMpcRUA0OMw1WNLDGoj-A': [('WTi4ZE99EGuoI3P27vpH8g', 1.0),\n",
       "              ('fqBnZxSkG287OOyU9LvTig', 2.0)],\n",
       "             'gbQa6CCtqivfPTuR4qM4hg': [('PgpO8RswM-xOitG4PBNo1w', 5.0)],\n",
       "             'xPELMlTvZHbxnskxzj6eGw': [('i6hWP3si97eKQl_JyK8L3w', 5.0)],\n",
       "             'o5t5scyeeW-Fm6TzqSB4IA': [('A6nY4SCrMuLPtlbq-EKnfA', 5.0)],\n",
       "             'cEg_uFsiKy7cbwywAmEYxA': [('YmOWkved7K8q3eXgf4NNnA', 5.0)],\n",
       "             '0yqdhL082Hdj649OGSpfEg': [('KiiokfRzFeN_njjLPCLoNg', 5.0),\n",
       "              ('mnqJVQhLcPHtpVx_6kbJuw', 5.0)],\n",
       "             'u9NJ9ZUIVuk18is85de0Zw': [('mPk43gs2O2n06MNR-uDKfg', 1.0),\n",
       "              ('cHdJXLlKNWixBXpDwEGb_A', 5.0)],\n",
       "             'u9VZTIKnKWK3KXPaRqe1rQ': [('SHFlELFcEcAOJv_fTAKChQ', 4.0)],\n",
       "             'azOrKzU_1J6kWyr8EpTxAg': [('44YFU284Z3KDEy25QyVoUw', 3.0)],\n",
       "             'qCOVl8stRylZ9iDHIF9sGA': [('-mcuv5UOSmbzi-aQNsUI9A', 5.0),\n",
       "              ('BFRpqPTx6O51eIioCXNm7g', 5.0)],\n",
       "             'ZEYiOqYQv1RQ5EjvnpLuTw': [('7EZ4Eu7YJ1ltRCC5jXFJrQ', 1.0)],\n",
       "             'OE25CJ_J7qnvW9e2EJCpUw': [('dFArFtgDj1rIahUDHU8L7Q', 1.0)],\n",
       "             'I58Uv1-mPeXJTJe_oPY_JA': [('fmke0ozj83GAebHEdbnlfw', 4.0)],\n",
       "             '1o8vB0WKHfV7omrYWB_OLg': [('KEDm72wwss4YFXHhHdsHdQ', 5.0)],\n",
       "             'wfAWYQh1axhh9XAfeJfAYw': [('uFNM9ICvZN0TEbURIpiIDQ', 5.0)],\n",
       "             'qVU31qHKgSgGCzKsQ860EA': [('ALwAlxItASeEs2vYAeLXHA', 4.0)],\n",
       "             'MsT-tFXhvd1xx3wxNdVC_g': [('36hVPtS0GAoVMw13IqEIDA', 5.0)],\n",
       "             'n6_omiRPyUthZMlpevRgdQ': [('4QAgHOm7BE5yZupy0j-NJQ', 4.0)],\n",
       "             'N6PAVmnVS24YDjvZgaXkmQ': [('ZPwx7ktiVluGFVg0L05n5A', 4.0)],\n",
       "             'vRjVhl3ONG2GfWY4NXJZbQ': [('hCsJv234v62MgdsUU1j8dQ', 3.0)],\n",
       "             'Y82FmDVlZU5BI8y0UYf3JA': [('Wxxvi3LZbHNIDwJ-ZimtnA', 5.0)],\n",
       "             '-fl_0Oi5chS2ymwaL34pjQ': [('OVTZNSkSfbl3gVB9XQIJfw', 3.0)],\n",
       "             '9wCCHd_X6c3SVrrJ9EeHHA': [('LO5wXyFY6KUYleg0ZK5xiw', 5.0)],\n",
       "             'PILjF0ocJcbrya1ytTc0Mw': [('ar27DwWW4V0eKTr_4rOFGQ', 1.0),\n",
       "              ('NyLYY8q1-H3hfsTwuwLPCg', 5.0)],\n",
       "             '2HxQF9flaRc58XRp7BUY5g': [('ujHiaprwCQ5ewziu0Vi9rw', 5.0)],\n",
       "             'gNzpFZguvDnlXpCwwGtTDw': [('X4XsMl06G8G6bj1yopxRvw', 5.0)],\n",
       "             'LkYmb1NBFnyNOjU0IyNViw': [('cHdJXLlKNWixBXpDwEGb_A', 5.0)],\n",
       "             '7taWMcaCMQ1F2qVP1W3jCw': [('ujHiaprwCQ5ewziu0Vi9rw', 5.0)],\n",
       "             'vEgWzufCl_vUONo2M__tCA': [('SUd3IyEN7n5OYEGyt_U5lg', 5.0)],\n",
       "             'aVuARx25a8HlNtIk9jgp_Q': [('yAXWKWRTs4wNy-zrJgoeXQ', 1.0)],\n",
       "             'yBkPu1ixpZt8lM4YhHC1lg': [('XuJNM9O8NNQ8KA7qMYqkyg', 3.0)],\n",
       "             'y5dzQj5vlf50YAgmnlWlaQ': [('wcn_uRigm1UXqjOEGW7ufw', 1.0),\n",
       "              ('WLblFINiPI18_o1OdDsnVg', 1.0)],\n",
       "             'XfxSxZV8of5-2xWHCEesDw': [('7JVmDCwUVBs4UobLv01hLw', 5.0)],\n",
       "             'OCj3eK_oIsLlDm9qMjo_Mg': [('EJs6fYFdecCjXq8pCsA2dA', 5.0)],\n",
       "             'jGOBL7GsiTh-4Swp3gla6w': [('pat3MPskP0wf5xpxmPmuzg', 5.0)],\n",
       "             'MV_So3A5436t3EG_OkTiVw': [('c1gEqdcI9ocM3hkP2xtWHg', 5.0),\n",
       "              ('osSwv6CJy5hDKQdOKeyTow', 5.0)],\n",
       "             'NVOiYrO5kcFY7_F3ZN24Mw': [('yuhnMOLGmXHhQxyp1V_rBw', 4.0)],\n",
       "             '8hJM27VoDr3rrOqWSQfrLw': [('L7SKlQ4hH12eIqmabXzE0Q', 1.0)],\n",
       "             'hFvLG_m26hYMx1UGQSpaEg': [('dyq9my28t5NW8N-6s8OgfA', 3.0)],\n",
       "             'fy_M5KDPZvWeMg8_K1nFsg': [('9vub2LM7Djy8P-LPumcLXA', 5.0)],\n",
       "             'jFrUm37SsVhlOfOBsEixwA': [('mETWKNqPMLyJLZv6ViCtcg', 4.0)],\n",
       "             'zecq0D1C283rHNRKy2Ln9w': [('mz9ltimeAIy2c2qf5ctljw', 5.0),\n",
       "              ('N0apJkxIem2E8irTBRKnHw', 4.0)],\n",
       "             '_8ch-8X97NRtLwdtSd-XrQ': [('IPkCm4fkX6ok1ugPQ0ZxDw', 5.0),\n",
       "              ('EjBZKPyq_G9WMO01N8DnDw', 2.0)],\n",
       "             'U9Q3hhtEP2uH-xLfQpMKgg': [('hr0vxeTzlHx6fTpSSmu2AA', 4.0)],\n",
       "             '9KeJfn7-6DFfUFoZLu_DNQ': [('YF4QJ_j-PM7cMZja6K1MwQ', 1.0)],\n",
       "             'cuOBTfTHAKoCet-MPFxGTw': [('bRntmjztJ4dFDA_LYiEECw', 4.0)],\n",
       "             '_B643xvc2lfsi-ZKFq_kCw': [('MbdUXJ-I0dKIrqgfqm1SWQ', 5.0)],\n",
       "             'QXR5PpLjxj_n22PKlORLDA': [('RDf4A5uo_0aLeSufH3NMhA', 1.0)],\n",
       "             '1_aWNbm6gEgV_Lme_lZ3NQ': [('o1dX8oFupfjbBpYgT7TH0w', 4.0),\n",
       "              ('L7SKlQ4hH12eIqmabXzE0Q', 3.0)],\n",
       "             'SY1eeRsuCrEKNJ3WX4LHtA': [('NW366Ota9w52nYofW99u1g', 3.0)],\n",
       "             '3NAxl1iNmLAGU4Wf1hfD4Q': [('vMnB2Cz3c1Io1IEyeLLVOA', 4.0),\n",
       "              ('Hdzo5ggPswyv-8ZlW0PVLw', 3.0)],\n",
       "             'enmbveBcG4h4BZQmt6ov_w': [('ujHiaprwCQ5ewziu0Vi9rw', 3.0)],\n",
       "             'p9y8rhrhJWSFD9IN1iGBhg': [('uuGL8diLlHfeUeFuod3F-w', 2.0)],\n",
       "             'xK3LfgHZuV8-Ps4Qkr4Hvw': [('ecJri9ozyke4dOCWulZiRQ', 4.0),\n",
       "              ('SVGApDPNdpFlEjwRQThCxA', 4.0)],\n",
       "             'mPfLvSeRYqdQxJQk5ANVUg': [('QUjJmpTQvGus8WfYq1dtOw', 5.0),\n",
       "              ('U3-kxz7NWq4ix4bPmKKQ0w', 4.0)],\n",
       "             'xJDb2X2pxTuH343MW-DVGg': [('8mIrX_LrOnAqWsB5JrOojQ', 5.0)],\n",
       "             'W6rvhtIwQmqTRCYVmyRllg': [('-BmqghX1sv7sgsxOIS2yAg', 5.0)],\n",
       "             'C6NjKuMRkR8WtqTqI9Hdow': [('EooU-ZAesW8Sl4-6obZjRg', 4.0),\n",
       "              ('hHtOsr-NMviBKlMqDBeI9Q', 4.0),\n",
       "              ('wS6LB0lSt0orSxP8cYXzvA', 2.0),\n",
       "              ('rtKB12BkQVb3x1e4diTIeA', 1.0)],\n",
       "             'B4cJvWuf59j7XlTdexnVZw': [('8mIrX_LrOnAqWsB5JrOojQ', 5.0)],\n",
       "             'v8bbwbwi-djqfpYmwxdWZg': [('bBZePNzvzABkuOYnizBESw', 3.0)],\n",
       "             'wpOw47sPVkCURh2-Wz-lgA': [('XXW_OFaYQkkGOGniujZFHg', 4.0),\n",
       "              ('nBZ6A5-ecTFd7s406r6--A', 5.0),\n",
       "              ('Wxxvi3LZbHNIDwJ-ZimtnA', 5.0)],\n",
       "             'o2q8P9TPsrZRMMpjUhgoDA': [('rgG2k-8qHXuO4ZKhC1AmIA', 3.0),\n",
       "              ('BoE0oTphOUxk3sIvuj4YcQ', 4.0),\n",
       "              ('45rWYQPlQ4x5cFU0uuRKug', 4.0)],\n",
       "             'KkpaqzWs9VQ1YKv-CUaoMA': [('hXWpDIXvfisGV78-4HWbJg', 4.0)],\n",
       "             'zJGYprUD5FhGSNR22r7S0w': [('VZfbAuxhoQ4DsuMbt0mEug', 4.0)],\n",
       "             '43l78gi8cK3i7L2GDBLc7A': [('_h63LVJCB1qMiRO-mHMngA', 1.0)],\n",
       "             'rNjgVKaBh1PlUA6dYB6EUw': [('Kr5k9eEm-2dGBGGlF2HvaQ', 5.0),\n",
       "              ('NCFwm2-TDb-oBQ2medmYDg', 5.0),\n",
       "              ('yJ_Hh73P6ID985Ki_OlVBg', 2.0),\n",
       "              ('z6puJBjp677RIcu8pQbjFA', 5.0),\n",
       "              ('yF-KH1l-rLVJaON8gfpyig', 2.0),\n",
       "              ('zvQIEpJUmLLmMMffNntHXQ', 3.0)],\n",
       "             'nwiKQDuOpZHCCvIEq5Fx-A': [('3saG51hM2M14G5f-QwhGhg', 5.0),\n",
       "              ('-Jir6LZcD9VS4jiBmuGK0g', 5.0)],\n",
       "             'gF1XjTQ2yiSJe28o60gozQ': [('ypfFfR3-PbtoslIhohNstw', 1.0)],\n",
       "             'FuOExM6kmymZDyQV-Y-Dow': [('I6qFvR-jVDGqDD_iVG38ng', 5.0)],\n",
       "             'Nx-1ytohu5Nt6zdV6fGMPw': [('-Dnh48f029YNugtMKkkI-Q', 4.0)],\n",
       "             'oWP7II3LOZCITh_KdF7tZg': [('I02fZsl5otCPP1XRu0y40Q', 5.0)],\n",
       "             'xwy_3UNUdBCdUfdwKWM8AQ': [('vMnB2Cz3c1Io1IEyeLLVOA', 3.0)],\n",
       "             '1IQ_d1RuMj8iIpcF2CDohA': [('sOYsxYYFl03PhHmz_rBDZQ', 5.0)],\n",
       "             'cq6wIbToT9mDTmLD_t_9uQ': [('XXW_OFaYQkkGOGniujZFHg', 3.0)],\n",
       "             '6xfUgjxHs7XZGwmwbb-jVw': [('l2OHP7IE7mY6eXsxKjG1mw', 4.0),\n",
       "              ('NCQsIvDF9e-bNyPwKJOUBg', 2.0)],\n",
       "             'Dt4bzEcDdj_mdxL1uhDo5Q': [('rmASvV7pnjBuSMmLPtp6SA', 4.0)],\n",
       "             'gIWzYF7HQ8FPhPZ8e1xhuA': [('Pm6LSrQySKyLS5b_a6CGSA', 5.0),\n",
       "              ('He9Z_YfS6fucxkDTCVPv1Q', 2.0),\n",
       "              ('sDixNBvYsQJHPuDIMn3DRw', 4.0)],\n",
       "             'vZY-v0C3fSAJ5KhJBWNa3Q': [('ujHiaprwCQ5ewziu0Vi9rw', 1.0)],\n",
       "             'N2HnZvnIsayU-hUmRwheFA': [('GvKx1QL6XLyMZnWZun1DPQ', 2.0)],\n",
       "             '_5FM0OK9v25Btbk5rVRK9A': [('XXW_OFaYQkkGOGniujZFHg', 4.0)],\n",
       "             'o98JZLWQApF6XSuHqs_Sgw': [('cs1qJvnWUg_f8g020z_3PQ', 3.0)],\n",
       "             'DtxVFJDfjl2Z2-EvdFfYGw': [('faPVqws-x-5k2CQKDNtHxw', 5.0)],\n",
       "             'KeBt3UtPDr7GbQsHx9pJNw': [('SZQINqa278e7DEM_B3WK8A', 1.0)],\n",
       "             '03TLsynKMdfDMu3TuBdXQg': [('1nF8Me63cpxIkFK8Ysx-DA', 5.0)],\n",
       "             'Ja2NSN7L8N7D-DKL9S9iuw': [('Ak08F6RqjHYmVCzweBbTrQ', 3.0)],\n",
       "             'q36T1j7w_XUKjVaV7q4rYg': [('YF4QJ_j-PM7cMZja6K1MwQ', 4.0),\n",
       "              ('PjEls_NCOQ0m4tJPvcTY8w', 4.0)],\n",
       "             '2jJJr7ovK839qoFhlZPXYg': [('o6ykIVqT34KgtaWT5WtE3w', 5.0)],\n",
       "             'SR9KgvoaxcBsSd4Gds8LnQ': [('1GKoDNt26Icmww3dd7PcOg', 4.0)],\n",
       "             'lDboIi7FORUcONYEbKkinA': [('-Dnh48f029YNugtMKkkI-Q', 5.0)],\n",
       "             'PRw12Yx-c-U5UsywjKS1oA': [('F73T-N5lRNL2Gcpg0Q4KKw', 4.0),\n",
       "              ('EVl5rbR90yb9vqyq4o5K3A', 5.0)],\n",
       "             'tzwN9iF_8ZI6oliBcjeQ_w': [('dUffgo9Lh_Vk9TLuFR5ywg', 5.0)],\n",
       "             'Iqhno-7X64kQ7nij7Tnw7g': [('x4cCFdLMKOudfIyxOMtUJA', 3.0)],\n",
       "             'OupZQu6ELQQl2eMTpQxneA': [('mlCDsdVFuZvRGrJTfQ6amw', 5.0),\n",
       "              ('OkLqpxpbvU2N2-OGDn0yiA', 5.0)],\n",
       "             'Ea9aNN7dtf_Wa7CgbifuWg': [('Cdk3wRR7TwJb1JW7agPJXw', 4.0),\n",
       "              ('kPfhSK0kcUmOTmC5DEjaDw', 4.0),\n",
       "              ('WnLhd38sH80ViWwzyF7yoA', 1.0)],\n",
       "             'mpxOTFGzT7cG034Z9TQ00A': [('P7Dqa0IbcFgRZ1aK7CPAOw', 1.0)],\n",
       "             'uPPzapjDw0m5VknhrtyDrQ': [('LPnGdeEJyMMO02e02PqZBA', 4.0)],\n",
       "             'FOW8pQV8NV7qZUfiSKttcQ': [('sWwCwjsd27k0Y8m1RIWZEg', 3.0)],\n",
       "             'Euj9-m-oRb_5HPyc5rcwfg': [('JF0iwM77Ee0-2jLhr4suLg', 4.0)],\n",
       "             'DWLuIn2xud_5S5MVtEfnlg': [('WuTdb365xF8kY2KAu6gm9A', 3.0)],\n",
       "             'X9AB20baynE8aNAoHoe-xg': [('fc4Kr69aeUQ3ItOlbewfCg', 4.0),\n",
       "              ('v-24yYDYoOM7ZCAlcPSwWA', 4.0)],\n",
       "             '0jKETk_gMU_vlqn0CxO6Pw': [('dazGlP4Rk4nxlyMtlvkpvA', 2.0)],\n",
       "             'DifLbwgarc80puc3Dj7Gjw': [('GyAjuDFTsSLLE1v8NdmZ7g', 5.0)],\n",
       "             'QYRBmbH6oHK_7kS1mavdFw': [('Q9vcbIn-DGht360D3F78Kg', 5.0)],\n",
       "             'h-68p_Klc9hewiOqPbgVaQ': [('N-L7ISdndWsIWdK0fn29wg', 5.0)],\n",
       "             'ajpSHkyFufJxrWIMFZXh2w': [('GIPY7lBIIY8ITSfu63q-YQ', 4.0)],\n",
       "             '4mOrIf-k4Q0eYQrRyXA8UQ': [('gjCmXkMNVE0JSk8puUwv6g', 5.0)],\n",
       "             'x_Men2agHTy6ao9YGFQv-A': [('54WM5coZonA0izd2y04p_A', 4.0)],\n",
       "             'cS4DqbYJN19J-_c2Gghldg': [('HrG_BxmOMPbqstycmzORzw', 5.0)],\n",
       "             'DHQWSHz6b7Jsy-A04m1cIA': [('fbQaKW0Lte0JQ_opbnjdKg', 4.0),\n",
       "              ('PNTyiqS7R-0c1ofxOfDijQ', 5.0),\n",
       "              ('yAXWKWRTs4wNy-zrJgoeXQ', 4.0)],\n",
       "             'AUpRaIfGdaV9dQCKG9qR-A': [('A0dDYy7DWik6BzDX6LnOtg', 3.0)],\n",
       "             'Pt-8PHAQd5JM5v25IM7NTA': [('nZAJ2a2-Oyxt6GzX97i2pg', 3.0)],\n",
       "             '5AChTpe8dWTVudOWKkKo0w': [('g8oxQ1Ji9mr9PMjhEfaWSg', 4.0)],\n",
       "             'AfQd264oAEWRZujFzhImNw': [('p8tMiYOKGSA2EESaxZQaVQ', 1.0)],\n",
       "             'Y9uJlgOPCCiGh-vmrctMjQ': [('dTM16MAvvL5YBXT4FuFsKg', 5.0)],\n",
       "             'QivLe9XiljdmOu5uLX4m5Q': [('ZtJ6sTq7-5rL9ORUtQJHAQ', 1.0)],\n",
       "             'u4tBQvep7Cl_xw3iOvMQ3g': [('6nKR80xEGHYf2UxAe_Cu_g', 5.0)],\n",
       "             'KVDcd8qeJJ238Tjdz4-qDA': [('-bd4BQcl1ekgo7avaFngIw', 5.0)],\n",
       "             'pfHyLc3PkMJ0e9apLFBeWg': [('VsRAIb4k5CjEF-3l_bac0g', 5.0)],\n",
       "             'WQsWHTyWrqvCmCayOoGXPg': [('pKiSzUlBBRNEdTML24piXA', 5.0)],\n",
       "             'QPigOkWNli4FA9MwhU4_ig': [('UYnkAU9BNjQmcFXtFgGWvg', 5.0)],\n",
       "             'OYvKoFz583_Sdn4-UWhUqg': [('YmOWkved7K8q3eXgf4NNnA', 4.0),\n",
       "              ('ecJri9ozyke4dOCWulZiRQ', 2.0)],\n",
       "             ...})"
      ]
     },
     "execution_count": 132,
     "metadata": {},
     "output_type": "execute_result"
    }
   ],
   "source": [
    "ratingPerUser"
   ]
  },
  {
   "cell_type": "code",
   "execution_count": 133,
   "metadata": {},
   "outputs": [],
   "source": [
    "# gradient decent\n",
    "def iterate(lamb):\n",
    "    newAlpha = 0\n",
    "    for u,b,r in ratingTrain:\n",
    "        newAlpha += r - (betaU[u] + betaI[b])\n",
    "    alpha = newAlpha / len(ratingTrain)\n",
    "    for u in ratingPerUser:\n",
    "        newBetaU = 0\n",
    "        for b,r in ratingPerUser[u]:\n",
    "            newBetaU += r - (alpha + betaI[b])\n",
    "        betaU[u] = newBetaU / (lamb + len(ratingPerUser[u]))\n",
    "    for b in ratingPerRes:\n",
    "        newBetaI = 0\n",
    "        for u,r in ratingPerRes[b]:\n",
    "            newBetaI += r - (alpha + betaU[u])\n",
    "        betaI[b] = newBetaI / (lamb + len(ratingPerRes[b]))\n",
    "    mse = 0\n",
    "    for u,b,r in ratingTrain:\n",
    "        prediction = alpha + betaU[u] + betaI[b]\n",
    "        mse += (r - prediction)**2\n",
    "    regularizer = 0\n",
    "    for u in betaU:\n",
    "        regularizer += betaU[u]**2\n",
    "    for b in betaI:\n",
    "        regularizer += betaI[b]**2\n",
    "    mse /= len(ratingTrain)\n",
    "    return mse, mse + lamb*regularizer"
   ]
  },
  {
   "cell_type": "code",
   "execution_count": 134,
   "metadata": {},
   "outputs": [],
   "source": [
    "# user and business gamma\n",
    "betaU = {}\n",
    "betaI = {}\n",
    "for u in ratingPerUser:\n",
    "    betaU[u] = 0\n",
    "\n",
    "for b in ratingPerRes:\n",
    "    betaI[b] = 0\n",
    "alpha = ratingMean"
   ]
  },
  {
   "cell_type": "code",
   "execution_count": 135,
   "metadata": {},
   "outputs": [],
   "source": [
    "mse,objective = iterate(1)\n",
    "newMSE,newObjective = iterate(1)\n",
    "iterations = 2"
   ]
  },
  {
   "cell_type": "code",
   "execution_count": 136,
   "metadata": {
    "collapsed": true
   },
   "outputs": [
    {
     "name": "stdout",
     "output_type": "stream",
     "text": [
      "Objective after 3 iterations = 26040.40513496457\n",
      "MSE after 3 iterations = 0.44952255261167307\n",
      "Objective after 4 iterations = 25831.108604353747\n",
      "MSE after 4 iterations = 0.4498881240592167\n",
      "Objective after 5 iterations = 25777.87315116882\n",
      "MSE after 5 iterations = 0.4500871474261881\n",
      "Objective after 6 iterations = 25761.751098887187\n",
      "MSE after 6 iterations = 0.4501772975190096\n",
      "Objective after 7 iterations = 25755.638471365346\n",
      "MSE after 7 iterations = 0.4502154678020815\n",
      "Objective after 8 iterations = 25752.671116942893\n",
      "MSE after 8 iterations = 0.4502306551828316\n",
      "Objective after 9 iterations = 25750.881631059277\n",
      "MSE after 9 iterations = 0.4502359613095881\n",
      "Objective after 10 iterations = 25749.62323852654\n",
      "MSE after 10 iterations = 0.45023711585692033\n",
      "Objective after 11 iterations = 25748.65163551813\n",
      "MSE after 11 iterations = 0.45023660365186374\n",
      "Objective after 12 iterations = 25747.86125524813\n",
      "MSE after 12 iterations = 0.45023549719211087\n",
      "Objective after 13 iterations = 25747.199987945787\n",
      "MSE after 13 iterations = 0.4502342531202566\n",
      "Objective after 14 iterations = 25746.638425003606\n",
      "MSE after 14 iterations = 0.4502330584197425\n",
      "Objective after 15 iterations = 25746.157724729328\n",
      "MSE after 15 iterations = 0.4502319819914193\n",
      "Objective after 16 iterations = 25745.7444698255\n",
      "MSE after 16 iterations = 0.45023104158497046\n",
      "Objective after 17 iterations = 25745.388347508615\n",
      "MSE after 17 iterations = 0.45023023354002406\n",
      "Objective after 18 iterations = 25745.08103236787\n",
      "MSE after 18 iterations = 0.45022954601351245\n",
      "Objective after 19 iterations = 25744.815604599986\n",
      "MSE after 19 iterations = 0.45022896480715435\n",
      "Objective after 20 iterations = 25744.586216862677\n",
      "MSE after 20 iterations = 0.4502284758592709\n",
      "Objective after 21 iterations = 25744.387882679403\n",
      "MSE after 21 iterations = 0.45022806623154177\n",
      "Objective after 22 iterations = 25744.216328295028\n",
      "MSE after 22 iterations = 0.4502277244223509\n",
      "Objective after 23 iterations = 25744.067880694583\n",
      "MSE after 23 iterations = 0.45022744038666607\n",
      "Objective after 24 iterations = 25743.939378301857\n",
      "MSE after 24 iterations = 0.4502272054354812\n",
      "Objective after 25 iterations = 25743.82809737175\n",
      "MSE after 25 iterations = 0.45022701209422467\n",
      "Objective after 26 iterations = 25743.73169013395\n",
      "MSE after 26 iterations = 0.4502268539544246\n",
      "Objective after 27 iterations = 25743.648132194274\n",
      "MSE after 27 iterations = 0.4502267255336807\n",
      "Objective after 28 iterations = 25743.575677572248\n",
      "MSE after 28 iterations = 0.4502266221494103\n",
      "Objective after 29 iterations = 25743.512820111166\n",
      "MSE after 29 iterations = 0.4502265398071039\n",
      "Objective after 30 iterations = 25743.458260311767\n",
      "MSE after 30 iterations = 0.4502264751034137\n",
      "Objective after 31 iterations = 25743.410876782564\n",
      "MSE after 31 iterations = 0.45022642514183325\n",
      "Objective after 32 iterations = 25743.369701666405\n",
      "MSE after 32 iterations = 0.45022638746016425\n",
      "Objective after 33 iterations = 25743.333899461162\n",
      "MSE after 33 iterations = 0.45022635996786725\n",
      "Objective after 34 iterations = 25743.302748792983\n",
      "MSE after 34 iterations = 0.4502263408925567\n",
      "Objective after 35 iterations = 25743.275626690884\n",
      "MSE after 35 iterations = 0.4502263287337725\n",
      "Objective after 36 iterations = 25743.251995056613\n",
      "MSE after 36 iterations = 0.45022632222328907\n",
      "Objective after 37 iterations = 25743.231388987493\n",
      "MSE after 37 iterations = 0.4502263202911908\n",
      "Objective after 38 iterations = 25743.21340672453\n",
      "MSE after 38 iterations = 0.45022632203676927\n",
      "Objective after 39 iterations = 25743.197700977234\n",
      "MSE after 39 iterations = 0.45022632670352547\n",
      "Objective after 40 iterations = 25743.183971469964\n",
      "MSE after 40 iterations = 0.4502263336576947\n",
      "Objective after 41 iterations = 25743.171958481806\n",
      "MSE after 41 iterations = 0.4502263423699964\n",
      "Objective after 42 iterations = 25743.161437303446\n",
      "MSE after 42 iterations = 0.45022635239993225\n",
      "Objective after 43 iterations = 25743.15221345384\n",
      "MSE after 43 iterations = 0.4502263633823595\n",
      "Objective after 44 iterations = 25743.144118548425\n",
      "MSE after 44 iterations = 0.4502263750158686\n",
      "Objective after 45 iterations = 25743.13700674049\n",
      "MSE after 45 iterations = 0.45022638705324913\n",
      "Objective after 46 iterations = 25743.130751652963\n",
      "MSE after 46 iterations = 0.4502263992928352\n",
      "Objective after 47 iterations = 25743.125243728966\n",
      "MSE after 47 iterations = 0.45022641157146126\n",
      "Objective after 48 iterations = 25743.12038795042\n",
      "MSE after 48 iterations = 0.450226423758428\n",
      "Objective after 49 iterations = 25743.116101867407\n",
      "MSE after 49 iterations = 0.45022643575017496\n",
      "Objective after 50 iterations = 25743.112313890524\n",
      "MSE after 50 iterations = 0.4502264474658669\n",
      "Objective after 51 iterations = 25743.10896184387\n",
      "MSE after 51 iterations = 0.4502264588437384\n",
      "Objective after 52 iterations = 25743.105991667868\n",
      "MSE after 52 iterations = 0.4502264698377846\n",
      "Objective after 53 iterations = 25743.103356356572\n",
      "MSE after 53 iterations = 0.4502264804151446\n",
      "Objective after 54 iterations = 25743.10101499074\n",
      "MSE after 54 iterations = 0.45022649055361463\n",
      "Objective after 55 iterations = 25743.098931936405\n",
      "MSE after 55 iterations = 0.45022650023998034\n",
      "Objective after 56 iterations = 25743.09707613152\n",
      "MSE after 56 iterations = 0.4502265094681075\n",
      "Objective after 57 iterations = 25743.09542048631\n",
      "MSE after 57 iterations = 0.4502265182377063\n",
      "Objective after 58 iterations = 25743.093941347925\n",
      "MSE after 58 iterations = 0.45022652655320816\n",
      "Objective after 59 iterations = 25743.09261805106\n",
      "MSE after 59 iterations = 0.4502265344225543\n",
      "Objective after 60 iterations = 25743.09143252237\n",
      "MSE after 60 iterations = 0.45022654185669475\n",
      "Objective after 61 iterations = 25743.09036894168\n",
      "MSE after 61 iterations = 0.45022654886865326\n",
      "Objective after 62 iterations = 25743.089413450023\n",
      "MSE after 62 iterations = 0.4502265554731187\n",
      "Objective after 63 iterations = 25743.088553888734\n",
      "MSE after 63 iterations = 0.45022656168581016\n",
      "Objective after 64 iterations = 25743.087779584832\n",
      "MSE after 64 iterations = 0.45022656752335927\n",
      "Objective after 65 iterations = 25743.08708115267\n",
      "MSE after 65 iterations = 0.45022657300266117\n",
      "Objective after 66 iterations = 25743.086450339004\n",
      "MSE after 66 iterations = 0.45022657814088385\n",
      "Objective after 67 iterations = 25743.085879865488\n",
      "MSE after 67 iterations = 0.45022658295513934\n",
      "Objective after 68 iterations = 25743.085363319075\n",
      "MSE after 68 iterations = 0.45022658746236977\n",
      "Objective after 69 iterations = 25743.084895033364\n",
      "MSE after 69 iterations = 0.45022659167913387\n",
      "Objective after 70 iterations = 25743.08446999503\n",
      "MSE after 70 iterations = 0.45022659562158607\n",
      "Objective after 71 iterations = 25743.084083770424\n",
      "MSE after 71 iterations = 0.4502265993054277\n",
      "Objective after 72 iterations = 25743.083732422074\n",
      "MSE after 72 iterations = 0.4502266027457484\n",
      "Objective after 73 iterations = 25743.083412457963\n",
      "MSE after 73 iterations = 0.45022660595702524\n",
      "Objective after 74 iterations = 25743.083120776108\n",
      "MSE after 74 iterations = 0.4502266089531585\n",
      "Objective after 75 iterations = 25743.08285461265\n",
      "MSE after 75 iterations = 0.45022661174740536\n",
      "Objective after 76 iterations = 25743.08261150144\n",
      "MSE after 76 iterations = 0.4502266143523282\n",
      "Objective after 77 iterations = 25743.082389244948\n",
      "MSE after 77 iterations = 0.45022661677997483\n",
      "Objective after 78 iterations = 25743.0821858758\n",
      "MSE after 78 iterations = 0.45022661904159034\n",
      "Objective after 79 iterations = 25743.081999634247\n",
      "MSE after 79 iterations = 0.45022662114796147\n",
      "Objective after 80 iterations = 25743.081828941966\n",
      "MSE after 80 iterations = 0.45022662310917755\n",
      "Objective after 81 iterations = 25743.081672384487\n",
      "MSE after 81 iterations = 0.4502266249347858\n",
      "Objective after 82 iterations = 25743.08152868696\n",
      "MSE after 82 iterations = 0.4502266266337485\n",
      "Objective after 83 iterations = 25743.081396702015\n",
      "MSE after 83 iterations = 0.45022662821453346\n",
      "Objective after 84 iterations = 25743.081275398792\n",
      "MSE after 84 iterations = 0.45022662968505234\n",
      "Objective after 85 iterations = 25743.081163846615\n",
      "MSE after 85 iterations = 0.45022663105276983\n",
      "Objective after 86 iterations = 25743.08106119973\n",
      "MSE after 86 iterations = 0.45022663232462606\n",
      "Objective after 87 iterations = 25743.080966695863\n",
      "MSE after 87 iterations = 0.4502266335071433\n"
     ]
    }
   ],
   "source": [
    "# try until converge\n",
    "while iterations < 10 or objective - newObjective > 0.0001:\n",
    "    mse, objective = newMSE, newObjective\n",
    "    newMSE, newObjective = iterate(1)\n",
    "    iterations += 1\n",
    "    print(\"Objective after \"\n",
    "        + str(iterations) + \" iterations = \" + str(newObjective))\n",
    "    print(\"MSE after \"\n",
    "        + str(iterations) + \" iterations = \" + str(newMSE))"
   ]
  },
  {
   "cell_type": "code",
   "execution_count": 137,
   "metadata": {},
   "outputs": [
    {
     "name": "stdout",
     "output_type": "stream",
     "text": [
      "Validation MSE = 1.725849071831656\n"
     ]
    }
   ],
   "source": [
    "validMSE = 0\n",
    "prediction = []\n",
    "for u,b,r in ratingTest:\n",
    "    bu = 0\n",
    "    bi = 0\n",
    "    if u in betaU:\n",
    "        bu = betaU[u]\n",
    "    if b in betaI:\n",
    "        bi = betaI[b]\n",
    "    pred = alpha + bu + bi\n",
    "    prediction.append(pred)\n",
    "    validMSE += (r - pred)**2\n",
    "\n",
    "validMSE /= len(ratingTest)\n",
    "print(\"Validation MSE = \" + str(validMSE))"
   ]
  },
  {
   "cell_type": "code",
   "execution_count": 138,
   "metadata": {},
   "outputs": [
    {
     "data": {
      "text/plain": [
       "1.7258490718316708"
      ]
     },
     "execution_count": 138,
     "metadata": {},
     "output_type": "execute_result"
    }
   ],
   "source": [
    "mean_squared_error(test_y, prediction)"
   ]
  },
  {
   "cell_type": "code",
   "execution_count": 139,
   "metadata": {},
   "outputs": [
    {
     "data": {
      "text/plain": [
       "1.0395157994988355"
      ]
     },
     "execution_count": 139,
     "metadata": {},
     "output_type": "execute_result"
    }
   ],
   "source": [
    "mean_absolute_error(test_y, prediction)"
   ]
  },
  {
   "cell_type": "code",
   "execution_count": 111,
   "metadata": {},
   "outputs": [
    {
     "data": {
      "text/plain": [
       "<matplotlib.legend.Legend at 0x12657eb00>"
      ]
     },
     "execution_count": 111,
     "metadata": {},
     "output_type": "execute_result"
    },
    {
     "data": {
      "image/png": "[encoded data removed]",
      "text/plain": [
       "<Figure size 432x288 with 1 Axes>"
      ]
     },
     "metadata": {
      "needs_background": "light"
     },
     "output_type": "display_data"
    }
   ],
   "source": [
    "plt.plot(test_y[:50], label='True Rating')\n",
    "plt.plot(prediction[:50], label='Predicted Rating')\n",
    "plt.legend()"
   ]
  },
  {
   "cell_type": "markdown",
   "metadata": {},
   "source": [
    "Latent Factor MSE: 1.7258  \n",
    "Latent Factor MAE: 1.0395"
   ]
  },
  {
   "cell_type": "markdown",
   "metadata": {},
   "source": [
    "# Linear Classifiers"
   ]
  },
  {
   "cell_type": "code",
   "execution_count": 140,
   "metadata": {},
   "outputs": [],
   "source": [
    "import seaborn as sns"
   ]
  },
  {
   "cell_type": "code",
   "execution_count": null,
   "metadata": {},
   "outputs": [],
   "source": []
  },
  {
   "cell_type": "code",
   "execution_count": null,
   "metadata": {},
   "outputs": [],
   "source": []
  },
  {
   "cell_type": "code",
   "execution_count": null,
   "metadata": {},
   "outputs": [],
   "source": []
  },
  {
   "cell_type": "markdown",
   "metadata": {},
   "source": [
    "# BOW and SVM on review text"
   ]
  },
  {
   "cell_type": "code",
   "execution_count": 226,
   "metadata": {},
   "outputs": [],
   "source": [
    "import nltk\n",
    "import string\n",
    "import re\n",
    "from nltk.corpus import stopwords\n",
    "from nltk.stem import SnowballStemmer\n",
    "from sklearn.feature_extraction.text import CountVectorizer\n",
    "from sklearn.feature_extraction.text import TfidfTransformer\n",
    "from sklearn.linear_model import LogisticRegression\n",
    "from sklearn.svm import LinearSVC\n",
    "from sklearn.linear_model import SGDClassifier"
   ]
  },
  {
   "cell_type": "code",
   "execution_count": 142,
   "metadata": {},
   "outputs": [],
   "source": [
    "# stop words\n",
    "stop_words = set(stopwords.words('english'))"
   ]
  },
  {
   "cell_type": "code",
   "execution_count": 146,
   "metadata": {},
   "outputs": [],
   "source": [
    "# count\n",
    "totalWords = 0\n",
    "wordCount = defaultdict(int)\n",
    "punct = string.punctuation\n",
    "for l in train.iterrows():\n",
    "    t = l[1]['text']\n",
    "    t = t.lower() # lowercase string\n",
    "    t = [c for c in t if not (c in punct)] # non-punct characters\n",
    "    t = ''.join(t) # convert back to string\n",
    "    words = t.strip().split() # tokenizes\n",
    "    for w in words:\n",
    "        if w not in stop_words:\n",
    "            totalWords += 1\n",
    "            wordCount[w] += 1"
   ]
  },
  {
   "cell_type": "code",
   "execution_count": 147,
   "metadata": {},
   "outputs": [],
   "source": [
    "# get the count tuple and find the most frequent 10\n",
    "counts = [(wordCount[w], w) for w in wordCount]\n",
    "counts.sort()\n",
    "counts.reverse()"
   ]
  },
  {
   "cell_type": "code",
   "execution_count": 148,
   "metadata": {},
   "outputs": [
    {
     "data": {
      "text/plain": [
       "[(38914, 'food'),\n",
       " (35475, 'good'),\n",
       " (34827, 'place'),\n",
       " (30950, 'great'),\n",
       " (25578, 'service'),\n",
       " (24258, 'like'),\n",
       " (23729, 'time'),\n",
       " (22436, 'get'),\n",
       " (22156, 'one'),\n",
       " (20549, 'back')]"
      ]
     },
     "execution_count": 148,
     "metadata": {},
     "output_type": "execute_result"
    }
   ],
   "source": [
    "counts[:10]"
   ]
  },
  {
   "cell_type": "code",
   "execution_count": 190,
   "metadata": {},
   "outputs": [
    {
     "data": {
      "text/plain": [
       "'abc asdjc'"
      ]
     },
     "execution_count": 190,
     "metadata": {},
     "output_type": "execute_result"
    }
   ],
   "source": [
    "x = 'abc123 as1241djc'\n",
    "y = x.lower().split()\n",
    "temp = []\n",
    "for i in y:\n",
    "    temp.append(''.join(k for k in i if not k.isdigit()))\n",
    "' '.join(temp)"
   ]
  },
  {
   "cell_type": "code",
   "execution_count": 202,
   "metadata": {},
   "outputs": [],
   "source": [
    "def text_to_wordlist(text, remove_stopwords=False, stem_words=False):\n",
    "    # Clean the text, with the option to remove stopwords and to stem words.\n",
    "    \n",
    "    # Convert words to lower case and split them\n",
    "    text = text.lower().split()\n",
    "    temp = []\n",
    "    for i in text:\n",
    "        temp.append(''.join(k for k in i if not k.isdigit()))\n",
    "    text = ' '.join(temp)\n",
    "    \n",
    "    # Optionally, remove stop words\n",
    "    if remove_stopwords:\n",
    "        stops = set(stopwords.words(\"english\"))\n",
    "        text = [w for w in text if not w in stops]\n",
    "    # text = ' '.join(text)\n",
    "#     text = ''.join(i for i in text if not i.isdigit())\n",
    "\n",
    "    # Clean the text\n",
    "    text = re.sub(r\"[^A-Za-z0-9^,!.\\/'+-=]\", \" \", text)\n",
    "    text = re.sub(r\"what's\", \"what is \", text)\n",
    "    text = re.sub(r\"there's\", \"there is \", text)\n",
    "    text = re.sub(r\"there're\", \"there are \", text)\n",
    "    text = re.sub(r\"\\'s\", \" \", text)\n",
    "    text = re.sub(r\"\\'ve\", \" have \", text)\n",
    "    text = re.sub(r\"can't\", \"cannot \", text)\n",
    "    text = re.sub(r\"n't\", \" not \", text)\n",
    "    text = re.sub(r\"i'm\", \"i am \", text)\n",
    "    text = re.sub(r\"\\'re\", \" are \", text)\n",
    "    text = re.sub(r\"\\'d\", \" would \", text)\n",
    "    text = re.sub(r\"\\'ll\", \" will \", text)\n",
    "    text = re.sub(r\",\", \" \", text)\n",
    "    text = re.sub(r\"\\.\", \" \", text)\n",
    "    text = re.sub(r\"!\", \" ! \", text)\n",
    "    text = re.sub(r\"\\/\", \" \", text)\n",
    "    text = re.sub(r\"\\^\", \" ^ \", text)\n",
    "    text = re.sub(r\"\\+\", \" + \", text)\n",
    "    text = re.sub(r\"\\-\", \" - \", text)\n",
    "    text = re.sub(r\"\\=\", \" = \", text)\n",
    "    text = re.sub(r\"'\", \" \", text)\n",
    "    text = re.sub(r\"(\\d+)(k)\", r\"\\g<1>000\", text)\n",
    "    text = re.sub(r\":\", \" : \", text)\n",
    "    text = re.sub(r\" e g \", \" eg \", text)\n",
    "    text = re.sub(r\" b g \", \" bg \", text)\n",
    "    text = re.sub(r\" u s \", \" american \", text)\n",
    "    text = re.sub(r\"\\0s\", \"0\", text)\n",
    "    text = re.sub(r\" 9 11 \", \"911\", text)\n",
    "    text = re.sub(r\"e - mail\", \"email\", text)\n",
    "    text = re.sub(r\"j k\", \"jk\", text)\n",
    "    text = re.sub(r\"\\s{2,}\", \" \", text)\n",
    "    text = re.sub(r\"\\n\", \" \", text)\n",
    "    \n",
    "    # Optionally, shorten words to their stems\n",
    "    if stem_words:\n",
    "        text = text.split()\n",
    "        stemmer = SnowballStemmer('english')\n",
    "        stemmed_words = [stemmer.stem(word) for word in text]\n",
    "        text = \" \".join(stemmed_words)\n",
    "    \n",
    "    # Return a list of words\n",
    "    return(text)"
   ]
  },
  {
   "cell_type": "code",
   "execution_count": 192,
   "metadata": {},
   "outputs": [],
   "source": [
    "contraction_dict = {\"ain't\": \"is not\", \"aren't\": \"are not\",\"can't\": \"cannot\", \"'cause\": \"because\", \"could've\": \"could have\", \"couldn't\": \"could not\", \"didn't\": \"did not\",  \"doesn't\": \"does not\", \"don't\": \"do not\", \"hadn't\": \"had not\", \"hasn't\": \"has not\", \"haven't\": \"have not\", \"he'd\": \"he would\",\"he'll\": \"he will\", \"he's\": \"he is\", \"how'd\": \"how did\", \"how'd'y\": \"how do you\", \"how'll\": \"how will\", \"how's\": \"how is\",  \"I'd\": \"I would\", \"I'd've\": \"I would have\", \"I'll\": \"I will\", \"I'll've\": \"I will have\",\"I'm\": \"I am\", \"I've\": \"I have\", \"i'd\": \"i would\", \"i'd've\": \"i would have\", \"i'll\": \"i will\",  \"i'll've\": \"i will have\",\"i'm\": \"i am\", \"i've\": \"i have\", \"isn't\": \"is not\", \"it'd\": \"it would\", \"it'd've\": \"it would have\", \"it'll\": \"it will\", \"it'll've\": \"it will have\",\"it's\": \"it is\", \"let's\": \"let us\", \"ma'am\": \"madam\", \"mayn't\": \"may not\", \"might've\": \"might have\",\"mightn't\": \"might not\",\"mightn't've\": \"might not have\", \"must've\": \"must have\", \"mustn't\": \"must not\", \"mustn't've\": \"must not have\", \"needn't\": \"need not\", \"needn't've\": \"need not have\",\"o'clock\": \"of the clock\", \"oughtn't\": \"ought not\", \"oughtn't've\": \"ought not have\", \"shan't\": \"shall not\", \"sha'n't\": \"shall not\", \"shan't've\": \"shall not have\", \"she'd\": \"she would\", \"she'd've\": \"she would have\", \"she'll\": \"she will\", \"she'll've\": \"she will have\", \"she's\": \"she is\", \"should've\": \"should have\", \"shouldn't\": \"should not\", \"shouldn't've\": \"should not have\", \"so've\": \"so have\",\"so's\": \"so as\", \"this's\": \"this is\",\"that'd\": \"that would\", \"that'd've\": \"that would have\", \"that's\": \"that is\", \"there'd\": \"there would\", \"there'd've\": \"there would have\", \"there's\": \"there is\", \"here's\": \"here is\",\"they'd\": \"they would\", \"they'd've\": \"they would have\", \"they'll\": \"they will\", \"they'll've\": \"they will have\", \"they're\": \"they are\", \"they've\": \"they have\", \"to've\": \"to have\", \"wasn't\": \"was not\", \"we'd\": \"we would\", \"we'd've\": \"we would have\", \"we'll\": \"we will\", \"we'll've\": \"we will have\", \"we're\": \"we are\", \"we've\": \"we have\", \"weren't\": \"were not\", \"what'll\": \"what will\", \"what'll've\": \"what will have\", \"what're\": \"what are\",  \"what's\": \"what is\", \"what've\": \"what have\", \"when's\": \"when is\", \"when've\": \"when have\", \"where'd\": \"where did\", \"where's\": \"where is\", \"where've\": \"where have\", \"who'll\": \"who will\", \"who'll've\": \"who will have\", \"who's\": \"who is\", \"who've\": \"who have\", \"why's\": \"why is\", \"why've\": \"why have\", \"will've\": \"will have\", \"won't\": \"will not\", \"won't've\": \"will not have\", \"would've\": \"would have\", \"wouldn't\": \"would not\", \"wouldn't've\": \"would not have\", \"y'all\": \"you all\", \"y'all'd\": \"you all would\",\"y'all'd've\": \"you all would have\",\"y'all're\": \"you all are\",\"y'all've\": \"you all have\",\"you'd\": \"you would\", \"you'd've\": \"you would have\", \"you'll\": \"you will\", \"you'll've\": \"you will have\", \"you're\": \"you are\", \"you've\": \"you have\"}\n",
    "\n",
    "def _get_contractions(contraction_dict):\n",
    "    contraction_re = re.compile('(%s)' % '|'.join(contraction_dict.keys()))\n",
    "    return contraction_dict, contraction_re\n",
    "\n",
    "contractions, contractions_re = _get_contractions(contraction_dict)\n",
    "\n",
    "def replace_contractions(text):\n",
    "    def replace(match):\n",
    "        return contractions[match.group(0)]\n",
    "    return contractions_re.sub(replace, text)"
   ]
  },
  {
   "cell_type": "code",
   "execution_count": 193,
   "metadata": {},
   "outputs": [],
   "source": [
    "# clean text\n",
    "def feature_clean(d):\n",
    "    t = d\n",
    "    t = t.lower() # lowercase string\n",
    "    t = [c for c in t if not (c in punct)] # non-punct characters\n",
    "    t = ''.join(t) # convert back to string\n",
    "    return t"
   ]
  },
  {
   "cell_type": "code",
   "execution_count": 194,
   "metadata": {},
   "outputs": [
    {
     "data": {
      "text/plain": [
       "['spoke with marie on the phone and she was very nice  she was patient and walked me through a number of questions i had regarding doing my own dyi flower arrangements  i did not feel rushed and she was able to make to understand a number of things about seasonal flowers and logistics for specific flowers  i will be communicating with marie via email for more details on my order for next month  im excited',\n",
       " 'surprised the mall didnt suck\\ngreat vans nike pac sun outlets \\nhalls are narrow and mall poorly designed so it gets hectic and busy',\n",
       " 'good ole fashioned irish pub good service beer and food their food specials are worthy big on soccer and other sports was a favorite during the world cup',\n",
       " 'yummy yummy italian food hands down top three salad dressings in northeast ohio stop in and grab a salad and cheese try their lasagna you wont be disappointed',\n",
       " 'i am a frequent visitor of pacos tacos my husband and i usually come here every sunday after church at 11 and are the first customers to open the doors the food is always amazing i have never had one bad item the service is good and we enjoy the music selection \\n\\nsince i come here so often one of my friends gave me a gift card to here for my birthday she knows me well that next sunday we put it to use only to find that the money she put on it did not register on the gift card the manager came over to let us know this and was very apologetic i spoke to my friend in regards to the amount that was on the card and the manager put that amount on the card and more for our troubles no questions asked the customer service she provided went above and beyond what she needed to do we thought we loved pacos before but now we know this is the best place in charlotte \\n\\nsince this is my favorite place i will also give some recommendations on the food i love here veggie fajitas enchiladas de dennis i usually see if i can get it with ground beef instead of chicken the beef chimichanga we get this with queso over the whole things instead of the half and half sauce chopped salad is amazing as well as the chicken tortilla soup the guacamole is made fresh at the table the queso is amazing the tacos are amazing i love the pacos taco gringo beef wood grilled skirt steak and we love the bbq buttered corn \\n\\nagain i cannot recommend pacos enough thank you for showing quality customer service and the best mexican food in town']"
      ]
     },
     "execution_count": 194,
     "metadata": {},
     "output_type": "execute_result"
    }
   ],
   "source": [
    "# train and test text data\n",
    "train_text = [feature_clean(d[1][\"text\"]) for d in train.iterrows()]\n",
    "test_text = [feature_clean(d[1][\"text\"]) for d in test.iterrows()]\n",
    "train_text[:5]"
   ]
  },
  {
   "cell_type": "code",
   "execution_count": 203,
   "metadata": {},
   "outputs": [
    {
     "data": {
      "text/plain": [
       "['spoke with marie on the phone and she was very nice she was patient and walked me through a number of questions i had regarding doing my own dyi flower arrangements i did not feel rushed and she was able to make to understand a number of things about seasonal flowers and logistics for specific flowers i will be communicating with marie via email for more details on my order for next month im excited',\n",
       " 'surprised the mall didnt suck great vans nike pac sun outlets halls are narrow and mall poorly designed so it gets hectic and busy',\n",
       " 'good ole fashioned irish pub good service beer and food their food specials are worthy big on soccer and other sports was a favorite during the world cup',\n",
       " 'yummy yummy italian food hands down top three salad dressings in northeast ohio stop in and grab a salad and cheese try their lasagna you wont be disappointed',\n",
       " 'i am a frequent visitor of pacos tacos my husband and i usually come here every sunday after church at and are the first customers to open the doors the food is always amazing i have never had one bad item the service is good and we enjoy the music selection since i come here so often one of my friends gave me a gift card to here for my birthday she knows me well that next sunday we put it to use only to find that the money she put on it did not register on the gift card the manager came over to let us know this and was very apologetic i spoke to my friend in regards to the amount that was on the card and the manager put that amount on the card and more for our troubles no questions asked the customer service she provided went above and beyond what she needed to do we thought we loved pacos before but now we know this is the best place in charlotte since this is my favorite place i will also give some recommendations on the food i love here veggie fajitas enchiladas de dennis i usually see if i can get it with ground beef instead of chicken the beef chimichanga we get this with queso over the whole things instead of the half and half sauce chopped salad is amazing as well as the chicken tortilla soup the guacamole is made fresh at the table the queso is amazing the tacos are amazing i love the pacos taco gringo beef wood grilled skirt steak and we love the bbq buttered corn again i cannot recommend pacos enough thank you for showing quality customer service and the best mexican food in town']"
      ]
     },
     "execution_count": 203,
     "metadata": {},
     "output_type": "execute_result"
    }
   ],
   "source": [
    "# clean text\n",
    "train_text_clean = []\n",
    "\n",
    "for i in train_text:\n",
    "    temp = replace_contractions(i)\n",
    "    train_text_clean.append(text_to_wordlist(i))\n",
    "train_text_clean[:5]"
   ]
  },
  {
   "cell_type": "code",
   "execution_count": 204,
   "metadata": {},
   "outputs": [
    {
     "data": {
      "text/plain": [
       "['a real guy place i know sportclips which i patronize also touts itself as a guys place but i feel more like a man after leaving downtown vintage barbershop ive been here twice now and with each of the barbers i can honestly say i feel confident no matter who i get good allaround solid haircut with attention to detail you can tell the young owner really cares about the place and wants to bring quality service to its patrons and is in it for the longhaul every time i pass by it seems there is always someone in the chair before this ownership it wasnt always the case the downtown vintage barbershop is a full service shop a straight razor is used during the final trim so a real clean finish is the result a single tv and mags adorn the place and some oldschool music is playing in the background dont forget cash as this place takes cold hard american dollars in the form of greenbacks only',\n",
       " 'have been here a few times for dim sum this place is always full with customers during dim sumlunch hour dim sum is at a discount price if your order is placed before am the food is decent comes at a good pace dim sum service atmosphere overall experience is good at this restaurant tip if you want to come here for the discount dim sum be sure to be here before to get a table',\n",
       " 'chipotle was okay i must say food is prepared fresh daily i ordered a steak rice bowl with the white rice steak and corn salsa it was yummy but the amount of food was very little i am not a big eater and i ate the whole thing also had chip and guacamole very fresh with huge chucks of fresh avocados inside nice and creamy the salsa was very fresh as you could get the chuck mild one medium or the hot and spicy one very simple menu to selected from you can have it in a taco style burrito or rice bowl style i must say that the food was very well prepared but wish it was a little more hearty for the value that you pay if i was a big eater i still would be hungry or hungrier later on',\n",
       " 'first time i am giving a fox restaurant such a low rating really was not at all impressed by the dishes my food was in the luke warm family when i got it i really dont mind luke warm food its nice cause i can just start eating with out worrying about scalding my face wish it was a little bit warmer though i got the veal raviolis and shrimp ontop as recommend by the server shrimp was overcooked ravioli was just okay i wasnt really blown away by it veal tasted dry insideis that possible with ravioli i tried the rest of my parties dishes and i wasnt blown away maybe my expectations have become too high of the fox restaurants i will chalk it up to a bad night at the restaurant id give them a second try because all the other fox restaurants i have been to ive enjoyed but out of this experience it was a ',\n",
       " 'the best bbq in town hands down the sauce is amazing and awardwinning the meat is perfectly smoked and cooked the sides are great and wholesome whenever my fianc and i want a real treat we come here you can even buy sauce to take home']"
      ]
     },
     "execution_count": 204,
     "metadata": {},
     "output_type": "execute_result"
    }
   ],
   "source": [
    "test_text_clean = []\n",
    "\n",
    "for i in test_text:\n",
    "    temp = replace_contractions(i)\n",
    "    test_text_clean.append(text_to_wordlist(i))\n",
    "test_text_clean[:5]"
   ]
  },
  {
   "cell_type": "code",
   "execution_count": 209,
   "metadata": {},
   "outputs": [
    {
     "data": {
      "text/plain": [
       "['spoke marie phone nice patient walked number questions regarding dyi flower arrangements feel rushed able make understand number things seasonal flowers logistics specific flowers communicating marie via email details order next month im excited',\n",
       " 'surprised mall didnt suck great vans nike pac sun outlets halls narrow mall poorly designed gets hectic busy',\n",
       " 'good ole fashioned irish pub good service beer food food specials worthy big soccer sports favorite world cup',\n",
       " 'yummy yummy italian food hands top three salad dressings northeast ohio stop grab salad cheese try lasagna wont disappointed',\n",
       " 'frequent visitor pacos tacos husband usually come every sunday church first customers open doors food always amazing never one bad item service good enjoy music selection since come often one friends gave gift card birthday knows well next sunday put use find money put register gift card manager came let us know apologetic spoke friend regards amount card manager put amount card troubles questions asked customer service provided went beyond needed thought loved pacos know best place charlotte since favorite place also give recommendations food love veggie fajitas enchiladas de dennis usually see get ground beef instead chicken beef chimichanga get queso whole things instead half half sauce chopped salad amazing well chicken tortilla soup guacamole made fresh table queso amazing tacos amazing love pacos taco gringo beef wood grilled skirt steak love bbq buttered corn cannot recommend pacos enough thank showing quality customer service best mexican food town']"
      ]
     },
     "execution_count": 209,
     "metadata": {},
     "output_type": "execute_result"
    }
   ],
   "source": [
    "# remove stop words\n",
    "stops = set(stopwords.words(\"english\"))\n",
    "train_x = []\n",
    "for i in train_text_clean:\n",
    "    text = i.lower().split()\n",
    "    text = [w for w in text if not w in stops]\n",
    "    train_x.append(' '.join(text))\n",
    "train_x[:5]"
   ]
  },
  {
   "cell_type": "code",
   "execution_count": 221,
   "metadata": {},
   "outputs": [
    {
     "data": {
      "text/plain": [
       "['real guy place know sportclips patronize also touts guys place feel like man leaving downtown vintage barbershop ive twice barbers honestly say feel confident matter get good allaround solid haircut attention detail tell young owner really cares place wants bring quality service patrons longhaul every time pass seems always someone chair ownership wasnt always case downtown vintage barbershop full service shop straight razor used final trim real clean finish result single tv mags adorn place oldschool music playing background dont forget cash place takes cold hard american dollars form greenbacks',\n",
       " 'times dim sum place always full customers dim sumlunch hour dim sum discount price order placed food decent comes good pace dim sum service atmosphere overall experience good restaurant tip want come discount dim sum sure get table',\n",
       " 'chipotle okay must say food prepared fresh daily ordered steak rice bowl white rice steak corn salsa yummy amount food little big eater ate whole thing also chip guacamole fresh huge chucks fresh avocados inside nice creamy salsa fresh could get chuck mild one medium hot spicy one simple menu selected taco style burrito rice bowl style must say food well prepared wish little hearty value pay big eater still would hungry hungrier later',\n",
       " 'first time giving fox restaurant low rating really impressed dishes food luke warm family got really dont mind luke warm food nice cause start eating worrying scalding face wish little bit warmer though got veal raviolis shrimp ontop recommend server shrimp overcooked ravioli okay wasnt really blown away veal tasted dry insideis possible ravioli tried rest parties dishes wasnt blown away maybe expectations become high fox restaurants chalk bad night restaurant id give second try fox restaurants ive enjoyed experience',\n",
       " 'best bbq town hands sauce amazing awardwinning meat perfectly smoked cooked sides great wholesome whenever fianc want real treat come even buy sauce take home']"
      ]
     },
     "execution_count": 221,
     "metadata": {},
     "output_type": "execute_result"
    }
   ],
   "source": [
    "# remove stop words\n",
    "test_x = []\n",
    "for i in test_text_clean:\n",
    "    text = i.lower().split()\n",
    "    text = [w for w in text if not w in stops]\n",
    "    test_x.append(' '.join(text))\n",
    "test_x[:5]"
   ]
  },
  {
   "cell_type": "code",
   "execution_count": 211,
   "metadata": {},
   "outputs": [],
   "source": [
    "seq_lens = [len(i) for i in train_x]"
   ]
  },
  {
   "cell_type": "code",
   "execution_count": 213,
   "metadata": {},
   "outputs": [
    {
     "data": {
      "text/plain": [
       "(array([  29.,  145.,  951., 3191., 3817., 3989., 3843., 3671., 3528.,\n",
       "        3412., 3088., 2807., 2644., 2395., 2306., 2068., 1965., 1770.,\n",
       "        1591., 1472., 1375., 1278., 1203., 1088.,  965.,  930.,  900.,\n",
       "         807.,  773.,  763.,  679.,  657.,  525.,  515.,  503.,  512.,\n",
       "         451.,  419.,  410.,  354.,  346.,  323.,  306.,  290.,  268.,\n",
       "         271.,  226.,  254.,  193.,  216.]),\n",
       " array([  0.  ,  19.98,  39.96,  59.94,  79.92,  99.9 , 119.88, 139.86,\n",
       "        159.84, 179.82, 199.8 , 219.78, 239.76, 259.74, 279.72, 299.7 ,\n",
       "        319.68, 339.66, 359.64, 379.62, 399.6 , 419.58, 439.56, 459.54,\n",
       "        479.52, 499.5 , 519.48, 539.46, 559.44, 579.42, 599.4 , 619.38,\n",
       "        639.36, 659.34, 679.32, 699.3 , 719.28, 739.26, 759.24, 779.22,\n",
       "        799.2 , 819.18, 839.16, 859.14, 879.12, 899.1 , 919.08, 939.06,\n",
       "        959.04, 979.02, 999.  ]),\n",
       " <a list of 50 Patch objects>)"
      ]
     },
     "execution_count": 213,
     "metadata": {},
     "output_type": "execute_result"
    },
    {
     "data": {
      "image/png": "[encoded data removed]",
      "text/plain": [
       "<Figure size 432x288 with 1 Axes>"
      ]
     },
     "metadata": {
      "needs_background": "light"
     },
     "output_type": "display_data"
    }
   ],
   "source": [
    "plt.hist([i for i in seq_lens if i < 1000], bins=50)"
   ]
  },
  {
   "cell_type": "code",
   "execution_count": 218,
   "metadata": {},
   "outputs": [
    {
     "data": {
      "text/plain": [
       "<70000x84573 sparse matrix of type '<class 'numpy.int64'>'\n",
       "\twith 3265085 stored elements in Compressed Sparse Row format>"
      ]
     },
     "execution_count": 218,
     "metadata": {},
     "output_type": "execute_result"
    }
   ],
   "source": [
    "# count and tdidf\n",
    "vectorizer = CountVectorizer()\n",
    "train_x = vectorizer.fit_transform(train_x)\n",
    "train_x"
   ]
  },
  {
   "cell_type": "code",
   "execution_count": 222,
   "metadata": {},
   "outputs": [
    {
     "data": {
      "text/plain": [
       "<30000x84573 sparse matrix of type '<class 'numpy.int64'>'\n",
       "\twith 1374815 stored elements in Compressed Sparse Row format>"
      ]
     },
     "execution_count": 222,
     "metadata": {},
     "output_type": "execute_result"
    }
   ],
   "source": [
    "test_x = vectorizer.transform(test_x)\n",
    "test_x"
   ]
  },
  {
   "cell_type": "code",
   "execution_count": 224,
   "metadata": {},
   "outputs": [
    {
     "data": {
      "text/plain": [
       "<70000x84573 sparse matrix of type '<class 'numpy.float64'>'\n",
       "\twith 3265085 stored elements in Compressed Sparse Row format>"
      ]
     },
     "execution_count": 224,
     "metadata": {},
     "output_type": "execute_result"
    }
   ],
   "source": [
    "tfidf_transformer = TfidfTransformer()\n",
    "train_x_trans = tfidf_transformer.fit_transform(train_x)\n",
    "test_x_trans = tfidf_transformer.fit_transform(test_x)\n",
    "train_x_trans"
   ]
  },
  {
   "cell_type": "markdown",
   "metadata": {},
   "source": [
    "# Logistic Regression"
   ]
  },
  {
   "cell_type": "code",
   "execution_count": 243,
   "metadata": {},
   "outputs": [
    {
     "name": "stderr",
     "output_type": "stream",
     "text": [
      "/usr/local/lib/python3.7/site-packages/sklearn/linear_model/logistic.py:433: FutureWarning: Default solver will be changed to 'lbfgs' in 0.22. Specify a solver to silence this warning.\n",
      "  FutureWarning)\n",
      "/usr/local/lib/python3.7/site-packages/sklearn/linear_model/logistic.py:460: FutureWarning: Default multi_class will be changed to 'auto' in 0.22. Specify the multi_class option to silence this warning.\n",
      "  \"this warning.\", FutureWarning)\n"
     ]
    },
    {
     "data": {
      "text/plain": [
       "LogisticRegression(C=1.0, class_weight=None, dual=False, fit_intercept=True,\n",
       "          intercept_scaling=1, max_iter=100, multi_class='warn',\n",
       "          n_jobs=None, penalty='l2', random_state=None, solver='warn',\n",
       "          tol=0.0001, verbose=0, warm_start=False)"
      ]
     },
     "execution_count": 243,
     "metadata": {},
     "output_type": "execute_result"
    }
   ],
   "source": [
    "mod = LogisticRegression()\n",
    "mod.fit(train_x_trans, train_y)"
   ]
  },
  {
   "cell_type": "code",
   "execution_count": 244,
   "metadata": {},
   "outputs": [],
   "source": [
    "pred = mod.predict(test_x_trans)"
   ]
  },
  {
   "cell_type": "code",
   "execution_count": 245,
   "metadata": {},
   "outputs": [
    {
     "name": "stdout",
     "output_type": "stream",
     "text": [
      "0.8174333333333333\n"
     ]
    }
   ],
   "source": [
    "print(mean_squared_error(pred, test_y))"
   ]
  },
  {
   "cell_type": "code",
   "execution_count": 246,
   "metadata": {},
   "outputs": [
    {
     "name": "stdout",
     "output_type": "stream",
     "text": [
      "0.4727\n"
     ]
    }
   ],
   "source": [
    "print(mean_absolute_error(pred, test_y))"
   ]
  },
  {
   "cell_type": "code",
   "execution_count": 230,
   "metadata": {
    "scrolled": true
   },
   "outputs": [
    {
     "data": {
      "text/plain": [
       "<matplotlib.legend.Legend at 0x1484765f8>"
      ]
     },
     "execution_count": 230,
     "metadata": {},
     "output_type": "execute_result"
    },
    {
     "data": {
      "image/png": "[encoded data removed]",
      "text/plain": [
       "<Figure size 432x288 with 1 Axes>"
      ]
     },
     "metadata": {
      "needs_background": "light"
     },
     "output_type": "display_data"
    }
   ],
   "source": [
    "plt.plot(test_y[:50], label='True Rating')\n",
    "plt.plot(pred[:50], label='Predicted Rating')\n",
    "plt.legend()"
   ]
  },
  {
   "cell_type": "markdown",
   "metadata": {},
   "source": [
    "# Linear SVM"
   ]
  },
  {
   "cell_type": "code",
   "execution_count": 234,
   "metadata": {},
   "outputs": [
    {
     "data": {
      "text/plain": [
       "LinearSVC(C=0.8, class_weight=None, dual=True, fit_intercept=True,\n",
       "     intercept_scaling=1, loss='squared_hinge', max_iter=1000,\n",
       "     multi_class='ovr', penalty='l2', random_state=None, tol=0.0001,\n",
       "     verbose=0)"
      ]
     },
     "execution_count": 234,
     "metadata": {},
     "output_type": "execute_result"
    }
   ],
   "source": [
    "clf = LinearSVC(C=0.8)\n",
    "clf.fit(train_x_trans, train_y)"
   ]
  },
  {
   "cell_type": "code",
   "execution_count": 235,
   "metadata": {},
   "outputs": [
    {
     "name": "stdout",
     "output_type": "stream",
     "text": [
      "0.8220666666666666\n"
     ]
    }
   ],
   "source": [
    "pred = clf.predict(test_x_trans)\n",
    "print(mean_squared_error(pred, test_y))"
   ]
  },
  {
   "cell_type": "markdown",
   "metadata": {},
   "source": [
    "# SGD classifier"
   ]
  },
  {
   "cell_type": "code",
   "execution_count": 236,
   "metadata": {},
   "outputs": [
    {
     "name": "stderr",
     "output_type": "stream",
     "text": [
      "/usr/local/lib/python3.7/site-packages/sklearn/linear_model/stochastic_gradient.py:166: FutureWarning: max_iter and tol parameters have been added in SGDClassifier in 0.19. If both are left unset, they default to max_iter=5 and tol=None. If tol is not None, max_iter defaults to max_iter=1000. From 0.21, default max_iter will be 1000, and default tol will be 1e-3.\n",
      "  FutureWarning)\n"
     ]
    },
    {
     "data": {
      "text/plain": [
       "SGDClassifier(alpha=0.0001, average=False, class_weight=None,\n",
       "       early_stopping=False, epsilon=0.1, eta0=0.0, fit_intercept=True,\n",
       "       l1_ratio=0.15, learning_rate='optimal', loss='hinge', max_iter=None,\n",
       "       n_iter=None, n_iter_no_change=5, n_jobs=None, penalty='l2',\n",
       "       power_t=0.5, random_state=None, shuffle=True, tol=None,\n",
       "       validation_fraction=0.1, verbose=0, warm_start=False)"
      ]
     },
     "execution_count": 236,
     "metadata": {},
     "output_type": "execute_result"
    }
   ],
   "source": [
    "sgd = SGDClassifier()\n",
    "sgd.fit(train_x_trans, train_y)"
   ]
  },
  {
   "cell_type": "code",
   "execution_count": 237,
   "metadata": {},
   "outputs": [
    {
     "name": "stdout",
     "output_type": "stream",
     "text": [
      "0.9932333333333333\n"
     ]
    }
   ],
   "source": [
    "pred = sgd.predict(test_x_trans)\n",
    "print(mean_squared_error(pred, test_y))"
   ]
  },
  {
   "cell_type": "markdown",
   "metadata": {},
   "source": [
    "# XGB"
   ]
  },
  {
   "cell_type": "code",
   "execution_count": 238,
   "metadata": {},
   "outputs": [],
   "source": [
    "# xgboost version\n",
    "import xgboost as xgb\n",
    "xgb_clf = xgb.XGBClassifier(objective='reg:linear', colsample_bytree= 0.3, learning_rate=0.3, max_depth=10, alpha = 10, n_estimators = 50)"
   ]
  },
  {
   "cell_type": "code",
   "execution_count": 240,
   "metadata": {},
   "outputs": [
    {
     "data": {
      "text/plain": [
       "XGBClassifier(alpha=10, base_score=0.5, booster='gbtree', colsample_bylevel=1,\n",
       "       colsample_bynode=1, colsample_bytree=0.3, gamma=0,\n",
       "       learning_rate=0.3, max_delta_step=0, max_depth=10,\n",
       "       min_child_weight=1, missing=None, n_estimators=50, n_jobs=1,\n",
       "       nthread=None, objective='multi:softprob', random_state=0,\n",
       "       reg_alpha=0, reg_lambda=1, scale_pos_weight=1, seed=None,\n",
       "       silent=None, subsample=1, verbosity=1)"
      ]
     },
     "execution_count": 240,
     "metadata": {},
     "output_type": "execute_result"
    }
   ],
   "source": [
    "xgb_clf.fit(train_x_trans, train_y)"
   ]
  },
  {
   "cell_type": "code",
   "execution_count": 241,
   "metadata": {},
   "outputs": [
    {
     "name": "stdout",
     "output_type": "stream",
     "text": [
      "1.0977666666666666\n"
     ]
    }
   ],
   "source": [
    "pred = xgb_clf.predict(test_x_trans)\n",
    "print(mean_squared_error(pred, test_y))"
   ]
  },
  {
   "cell_type": "code",
   "execution_count": null,
   "metadata": {},
   "outputs": [],
   "source": []
  },
  {
   "cell_type": "code",
   "execution_count": null,
   "metadata": {},
   "outputs": [],
   "source": []
  }
 ],
 "metadata": {
  "kernelspec": {
   "display_name": "Python 3",
   "language": "python",
   "name": "python3"
  },
  "language_info": {
   "codemirror_mode": {
    "name": "ipython",
    "version": 3
   },
   "file_extension": ".py",
   "mimetype": "text/x-python",
   "name": "python",
   "nbconvert_exporter": "python",
   "pygments_lexer": "ipython3",
   "version": "3.7.0"
  }
 },
 "nbformat": 4,
 "nbformat_minor": 2
}
